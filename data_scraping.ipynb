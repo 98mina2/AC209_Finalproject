{
 "cells": [
  {
   "cell_type": "code",
   "execution_count": 52,
   "id": "cdd2b35f-71e3-4b4a-a92a-c55ee3b6c876",
   "metadata": {},
   "outputs": [],
   "source": [
    "from time import sleep\n",
    "import json\n",
    "import re\n",
    "import requests\n",
    "from selenium import webdriver\n",
    "from bs4 import BeautifulSoup\n",
    "import matplotlib.pyplot as plt\n",
    "import numpy as np\n",
    "import pandas as pd\n",
    "import seaborn as sns"
   ]
  },
  {
   "cell_type": "markdown",
   "id": "1f6f089a-868a-43ba-90e4-ba39e5fdfd61",
   "metadata": {},
   "source": [
    "# Nike\n",
    "\n",
    "https://www.nike.com/w/shoes-y7ok"
   ]
  },
  {
   "cell_type": "code",
   "execution_count": 6,
   "id": "c00b509d-5a10-4961-af2a-3fa3d176479c",
   "metadata": {},
   "outputs": [
    {
     "name": "stdout",
     "output_type": "stream",
     "text": [
      "Request status:  200\n"
     ]
    }
   ],
   "source": [
    "nike_page = requests.get(\"https://www.nike.com/w/shoes-y7ok/\")\n",
    "print(\"Request status: \", nike_page.status_code)"
   ]
  },
  {
   "cell_type": "code",
   "execution_count": 7,
   "id": "d8f7656b-086f-422d-a18f-78fae23143ef",
   "metadata": {},
   "outputs": [
    {
     "name": "stdout",
     "output_type": "stream",
     "text": [
      "<!DOCTYPE html>\n",
      "<html lang=\"en\">\n",
      " <head>\n",
      "  <link href=\"//www.nike.com/assets/ncss/glyphs/2.6/css/glyphs.min.css\" rel=\"stylesheet\" type=\"text/css\"/>\n",
      "  <link href=\"//www.nike.com/static/ncss/4.1/dotcom/desktop/css/ncss.en-us.min.css\" rel=\"stylesheet\" type=\"text/css\"/>\n",
      "  <script id=\"new-relic-browser-agent\">\n",
      "   window.NREUM||(NREUM={});NREUM.info = {\"agent\":\"\",\"beacon\":\"bam.nr-data.net\",\"errorBeacon\":\"bam.nr-data.net\",\"licenseKey\":\"NRBR-26d48a12bc762b8fbd7\",\"applicationID\":\"45012625\",\"applicationTi\n"
     ]
    }
   ],
   "source": [
    "nike_soup = BeautifulSoup(nike_page.content, \"html.parser\")\n",
    "print (nike_soup.prettify()[:500])"
   ]
  },
  {
   "cell_type": "code",
   "execution_count": 37,
   "id": "15aee6ef-4ba9-4f15-bf14-8329cb5ce590",
   "metadata": {},
   "outputs": [],
   "source": [
    "# def get_label(tag):\n",
    "#     return tag.select_one('figure .product-card__info .product-card__messaging').text.strip()\n",
    "\n",
    "def get_name(tag):\n",
    "    return tag.select_one(\"figure .product-card__link-overlay\").text"
   ]
  },
  {
   "cell_type": "code",
   "execution_count": 38,
   "id": "43372ef3-c134-430b-9ef9-d37716f5ab65",
   "metadata": {},
   "outputs": [],
   "source": [
    "def parse_nike_shoes(nike_soup):\n",
    "    shoes_list = []\n",
    "    shoes = nike_soup.select('.product-card__body')\n",
    "    for s in shoes:\n",
    "        d = {}\n",
    "        # print(s.prettify())\n",
    "        # d['label'] = get_label(s) # \"Best Seller\" labels\n",
    "        d['name'] = get_name(s)\n",
    "        # d['role'] = get_role(s)\n",
    "        # # page & url needed for get_gender to avoid redundant requests\n",
    "        # url = get_url(s)\n",
    "        # page = get_page(url)\n",
    "        # d['gender'] = get_gender(s, page)\n",
    "        # d['url'] = url\n",
    "        # d['page'] = page\n",
    "        shoes_list.append(d)\n",
    "    return shoes_list\n",
    "    "
   ]
  },
  {
   "cell_type": "code",
   "execution_count": 39,
   "id": "760f96b5-fcad-42c7-92eb-066de00cf404",
   "metadata": {},
   "outputs": [
    {
     "data": {
      "text/plain": [
       "'Air Jordan 1 Mid'"
      ]
     },
     "execution_count": 39,
     "metadata": {},
     "output_type": "execute_result"
    }
   ],
   "source": [
    "nike_soup.select('.product-card__body')[0].select_one(\"figure .product-card__link-overlay\").text"
   ]
  },
  {
   "cell_type": "code",
   "execution_count": 40,
   "id": "55b2dbde-d839-4734-b267-53098b62944c",
   "metadata": {},
   "outputs": [],
   "source": [
    "shoes_list = parse_nike_shoes(nike_soup)"
   ]
  },
  {
   "cell_type": "code",
   "execution_count": 41,
   "id": "4245235d-be7a-4665-9bdf-e3c1dc8c8cfd",
   "metadata": {},
   "outputs": [
    {
     "data": {
      "text/plain": [
       "[{'name': 'Air Jordan 1 Mid'},\n",
       " {'name': \"Nike Blazer Mid '77 Vintage\"},\n",
       " {'name': 'Nike Dunk Low Retro'},\n",
       " {'name': \"Nike Air Force 1 '07\"},\n",
       " {'name': 'Air Jordan 12 Retro'},\n",
       " {'name': 'Nike Dunk High Retro'},\n",
       " {'name': \"Nike Blazer Mid '77\"},\n",
       " {'name': \"Nike Air Force 1 '07 Premium\"},\n",
       " {'name': 'Nike Air Max 90'},\n",
       " {'name': 'Air Jordan 1 Mid SE'},\n",
       " {'name': 'Air Jordan 1 Retro High OG'},\n",
       " {'name': 'Nike Air Force 1 Shadow'},\n",
       " {'name': 'LeBron XX \"Purple and Gold\"'},\n",
       " {'name': 'Air Jordan 1 Low'},\n",
       " {'name': \"Nike Air Force 1 '07 LV8\"},\n",
       " {'name': 'Nike Dunk High 1985'},\n",
       " {'name': 'Nike Go FlyEase'},\n",
       " {'name': 'Nike Benassi JDI'},\n",
       " {'name': 'Nike Waffle Debut'},\n",
       " {'name': \"Nike Air Force 1 '07\"},\n",
       " {'name': 'Nike Quest 4'},\n",
       " {'name': 'Nike Zoom Mercurial Superfly 9 Elite KM FG'},\n",
       " {'name': 'Jordan 1 Mid'},\n",
       " {'name': 'Nike Court Vision Low'}]"
      ]
     },
     "execution_count": 41,
     "metadata": {},
     "output_type": "execute_result"
    }
   ],
   "source": [
    "shoes_list"
   ]
  },
  {
   "cell_type": "code",
   "execution_count": 42,
   "id": "97def24d-a9b9-416c-bade-7d849b10bdc1",
   "metadata": {},
   "outputs": [
    {
     "data": {
      "text/plain": [
       "24"
      ]
     },
     "execution_count": 42,
     "metadata": {},
     "output_type": "execute_result"
    }
   ],
   "source": [
    "len(shoes_list)"
   ]
  },
  {
   "cell_type": "code",
   "execution_count": 45,
   "id": "b6334dbe-05de-484f-889b-000ee53019ba",
   "metadata": {},
   "outputs": [
    {
     "name": "stdout",
     "output_type": "stream",
     "text": [
      "Collecting selenium\n",
      "  Downloading selenium-4.6.0-py3-none-any.whl (5.2 MB)\n",
      "\u001b[2K     \u001b[90m━━━━━━━━━━━━━━━━━━━━━━━━━━━━━━━━━━━━━━━━\u001b[0m \u001b[32m5.2/5.2 MB\u001b[0m \u001b[31m9.3 MB/s\u001b[0m eta \u001b[36m0:00:00\u001b[0m:00:01\u001b[0m0:01\u001b[0m0m\n",
      "\u001b[?25hCollecting trio~=0.17\n",
      "  Downloading trio-0.22.0-py3-none-any.whl (384 kB)\n",
      "\u001b[2K     \u001b[90m━━━━━━━━━━━━━━━━━━━━━━━━━━━━━━━━━━━━━━━\u001b[0m \u001b[32m384.9/384.9 kB\u001b[0m \u001b[31m8.8 MB/s\u001b[0m eta \u001b[36m0:00:00\u001b[0m00:01\u001b[0m\n",
      "\u001b[?25hRequirement already satisfied: certifi>=2021.10.8 in /Users/runlanlana/micromamba/envs/cs109a/lib/python3.10/site-packages (from selenium) (2022.6.15)\n",
      "Requirement already satisfied: urllib3[socks]~=1.26 in /Users/runlanlana/micromamba/envs/cs109a/lib/python3.10/site-packages (from selenium) (1.26.11)\n",
      "Collecting trio-websocket~=0.9\n",
      "  Downloading trio_websocket-0.9.2-py3-none-any.whl (16 kB)\n",
      "Requirement already satisfied: attrs>=19.2.0 in /Users/runlanlana/micromamba/envs/cs109a/lib/python3.10/site-packages (from trio~=0.17->selenium) (22.1.0)\n",
      "Collecting outcome\n",
      "  Downloading outcome-1.2.0-py2.py3-none-any.whl (9.7 kB)\n",
      "Collecting async-generator>=1.9\n",
      "  Downloading async_generator-1.10-py3-none-any.whl (18 kB)\n",
      "Collecting sortedcontainers\n",
      "  Downloading sortedcontainers-2.4.0-py2.py3-none-any.whl (29 kB)\n",
      "Collecting exceptiongroup>=1.0.0rc9\n",
      "  Downloading exceptiongroup-1.0.4-py3-none-any.whl (14 kB)\n",
      "Requirement already satisfied: sniffio in /Users/runlanlana/micromamba/envs/cs109a/lib/python3.10/site-packages (from trio~=0.17->selenium) (1.2.0)\n",
      "Requirement already satisfied: idna in /Users/runlanlana/micromamba/envs/cs109a/lib/python3.10/site-packages (from trio~=0.17->selenium) (3.3)\n",
      "Collecting wsproto>=0.14\n",
      "  Downloading wsproto-1.2.0-py3-none-any.whl (24 kB)\n",
      "Requirement already satisfied: PySocks!=1.5.7,<2.0,>=1.5.6 in /Users/runlanlana/micromamba/envs/cs109a/lib/python3.10/site-packages (from urllib3[socks]~=1.26->selenium) (1.7.1)\n",
      "Collecting h11<1,>=0.9.0\n",
      "  Downloading h11-0.14.0-py3-none-any.whl (58 kB)\n",
      "\u001b[2K     \u001b[90m━━━━━━━━━━━━━━━━━━━━━━━━━━━━━━━━━━━━━━━━\u001b[0m \u001b[32m58.3/58.3 kB\u001b[0m \u001b[31m1.6 MB/s\u001b[0m eta \u001b[36m0:00:00\u001b[0m\n",
      "\u001b[?25hInstalling collected packages: sortedcontainers, outcome, h11, exceptiongroup, async-generator, wsproto, trio, trio-websocket, selenium\n",
      "Successfully installed async-generator-1.10 exceptiongroup-1.0.4 h11-0.14.0 outcome-1.2.0 selenium-4.6.0 sortedcontainers-2.4.0 trio-0.22.0 trio-websocket-0.9.2 wsproto-1.2.0\n"
     ]
    }
   ],
   "source": [
    "!pip install selenium"
   ]
  },
  {
   "cell_type": "code",
   "execution_count": 53,
   "id": "2a75c173-65d3-4d63-91b4-641f6629ea15",
   "metadata": {},
   "outputs": [
    {
     "ename": "NameError",
     "evalue": "name 'time' is not defined",
     "output_type": "error",
     "traceback": [
      "\u001b[0;31m---------------------------------------------------------------------------\u001b[0m",
      "\u001b[0;31mNameError\u001b[0m                                 Traceback (most recent call last)",
      "Input \u001b[0;32mIn [53]\u001b[0m, in \u001b[0;36m<cell line: 3>\u001b[0;34m()\u001b[0m\n\u001b[1;32m      1\u001b[0m driver \u001b[38;5;241m=\u001b[39m webdriver\u001b[38;5;241m.\u001b[39mChrome()\n\u001b[1;32m      2\u001b[0m driver\u001b[38;5;241m.\u001b[39mget(\u001b[38;5;124m\"\u001b[39m\u001b[38;5;124mhttps://www.nike.com/w/shoes-y7ok\u001b[39m\u001b[38;5;124m\"\u001b[39m)\n\u001b[0;32m----> 3\u001b[0m \u001b[43mtime\u001b[49m\u001b[38;5;241m.\u001b[39msleep(\u001b[38;5;241m2\u001b[39m)  \u001b[38;5;66;03m# Allow 2 seconds for the web page to open\u001b[39;00m\n\u001b[1;32m      4\u001b[0m scroll_pause_time \u001b[38;5;241m=\u001b[39m \u001b[38;5;241m1\u001b[39m \u001b[38;5;66;03m# in seconds\u001b[39;00m\n\u001b[1;32m      5\u001b[0m screen_height \u001b[38;5;241m=\u001b[39m driver\u001b[38;5;241m.\u001b[39mexecute_script(\u001b[38;5;124m\"\u001b[39m\u001b[38;5;124mreturn window.screen.height;\u001b[39m\u001b[38;5;124m\"\u001b[39m) \u001b[38;5;66;03m# get the screen height of the web\u001b[39;00m\n",
      "\u001b[0;31mNameError\u001b[0m: name 'time' is not defined"
     ]
    }
   ],
   "source": [
    "driver = webdriver.Chrome()\n",
    "driver.get(\"https://www.nike.com/w/shoes-y7ok\")\n",
    "time.sleep(2)  # Allow 2 seconds for the web page to open\n",
    "scroll_pause_time = 1 # in seconds\n",
    "screen_height = driver.execute_script(\"return window.screen.height;\") # get the screen height of the web\n",
    "i = 1\n",
    "\n",
    "while True:\n",
    "    # scroll one screen height each time\n",
    "    driver.execute_script(\"window.scrollTo(0, {screen_height}*{i});\".format(screen_height=screen_height, i=i))  \n",
    "    i += 1\n",
    "    sleep(scroll_pause_time)\n",
    "    # update scroll height each time after scrolled, as the scroll height can change after we scrolled the page\n",
    "    scroll_height = driver.execute_script(\"return document.body.scrollHeight;\")  \n",
    "    # Break the loop when the height we need to scroll to is larger than the total scroll height\n",
    "    if (screen_height) * i > scroll_height:\n",
    "        break \n",
    "        \n",
    "nike_soup = BeautifulSoup(driver.page_source, \"html.parser\")"
   ]
  },
  {
   "cell_type": "code",
   "execution_count": null,
   "id": "b8e7fb40-c1f7-4728-8833-7d9c69d74a77",
   "metadata": {},
   "outputs": [],
   "source": [
    "shoes_list = parse_nike_shoes(nike_soup)\n",
    "len(shoes_list)"
   ]
  }
 ],
 "metadata": {
  "kernelspec": {
   "display_name": "Python 3 (ipykernel)",
   "language": "python",
   "name": "python3"
  },
  "language_info": {
   "codemirror_mode": {
    "name": "ipython",
    "version": 3
   },
   "file_extension": ".py",
   "mimetype": "text/x-python",
   "name": "python",
   "nbconvert_exporter": "python",
   "pygments_lexer": "ipython3",
   "version": "3.10.6"
  }
 },
 "nbformat": 4,
 "nbformat_minor": 5
}
