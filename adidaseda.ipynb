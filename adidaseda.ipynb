{
 "cells": [
  {
   "cell_type": "markdown",
   "id": "cf3b87d2",
   "metadata": {},
   "source": [
    "## Imports"
   ]
  },
  {
   "cell_type": "code",
   "execution_count": 3,
   "id": "8f039811",
   "metadata": {},
   "outputs": [],
   "source": [
    "import itertools\n",
    "import math\n",
    "from collections import Counter\n",
    "\n",
    "import numpy as np\n",
    "import pandas as pd\n",
    "import seaborn as sns\n",
    "import matplotlib.pyplot as plt\n",
    "\n",
    "from sklearn.linear_model import LinearRegression\n",
    "from sklearn.neighbors import KNeighborsRegressor\n",
    "from sklearn.decomposition import PCA\n",
    "from sklearn.metrics import r2_score\n",
    "from sklearn.impute import SimpleImputer, KNNImputer\n",
    "from sklearn.model_selection import train_test_split\n",
    "from sklearn.metrics import mean_squared_error, r2_score\n",
    "from sklearn.preprocessing import PolynomialFeatures\n",
    "from sklearn.preprocessing import StandardScaler\n",
    "from prettytable import PrettyTable\n",
    "from sklearn.compose import ColumnTransformer\n",
    "from sklearn.model_selection import cross_validate\n",
    "from sklearn.linear_model import LogisticRegression, LogisticRegressionCV\n",
    "from sklearn.linear_model import SGDClassifier\n",
    "from sklearn.naive_bayes import GaussianNB, MultinomialNB\n",
    "\n",
    "from sklearn.metrics import accuracy_score\n",
    "from sklearn.metrics import roc_curve\n",
    "from sklearn.metrics import roc_auc_score"
   ]
  },
  {
   "cell_type": "markdown",
   "id": "06664c0e",
   "metadata": {},
   "source": [
    "## Initial Observations"
   ]
  },
  {
   "cell_type": "code",
   "execution_count": 4,
   "id": "dc420b73",
   "metadata": {},
   "outputs": [
    {
     "name": "stdout",
     "output_type": "stream",
     "text": [
      "Basic information about our Adidas.com dataset:\n",
      "\n",
      "<class 'pandas.core.frame.DataFrame'>\n",
      "RangeIndex: 2390 entries, 0 to 2389\n",
      "Data columns (total 13 columns):\n",
      " #   Column         Non-Null Count  Dtype  \n",
      "---  ------         --------------  -----  \n",
      " 0   Unnamed: 0     2390 non-null   int64  \n",
      " 1   title          2389 non-null   object \n",
      " 2   subtitle       2360 non-null   object \n",
      " 3   num_colors     2390 non-null   object \n",
      " 4   url            2390 non-null   object \n",
      " 5   price          2386 non-null   object \n",
      " 6   reduced_price  2246 non-null   object \n",
      " 7   description    2368 non-null   object \n",
      " 8   details        2248 non-null   object \n",
      " 9   colors         1945 non-null   object \n",
      " 10  n_reviews      2180 non-null   float64\n",
      " 11  avg_stars      2180 non-null   float64\n",
      " 12  product_code   2390 non-null   object \n",
      "dtypes: float64(2), int64(1), object(10)\n",
      "memory usage: 242.9+ KB\n",
      "None\n",
      "\n",
      "\n",
      "A little more summary info about our data (there\n",
      "are only a few columns in our data, making this\n",
      "easy to inspect):\n",
      "\n",
      "         Unnamed: 0     n_reviews    avg_stars\n",
      "count  2390.000000   2180.000000  2180.000000\n",
      "mean   1194.500000    841.304128     4.578578\n",
      "std     690.077894   2402.486479     0.361305\n",
      "min       0.000000      1.000000     1.000000\n",
      "25%     597.250000     15.000000     4.500000\n",
      "50%    1194.500000     54.000000     4.700000\n",
      "75%    1791.750000    352.000000     4.800000\n",
      "max    2389.000000  16720.000000     5.000000\n",
      "\n",
      "\n",
      "And, the first few rows of our data:\n"
     ]
    },
    {
     "data": {
      "text/html": [
       "<div>\n",
       "<style scoped>\n",
       "    .dataframe tbody tr th:only-of-type {\n",
       "        vertical-align: middle;\n",
       "    }\n",
       "\n",
       "    .dataframe tbody tr th {\n",
       "        vertical-align: top;\n",
       "    }\n",
       "\n",
       "    .dataframe thead th {\n",
       "        text-align: right;\n",
       "    }\n",
       "</style>\n",
       "<table border=\"1\" class=\"dataframe\">\n",
       "  <thead>\n",
       "    <tr style=\"text-align: right;\">\n",
       "      <th></th>\n",
       "      <th>Unnamed: 0</th>\n",
       "      <th>title</th>\n",
       "      <th>subtitle</th>\n",
       "      <th>num_colors</th>\n",
       "      <th>url</th>\n",
       "      <th>price</th>\n",
       "      <th>reduced_price</th>\n",
       "      <th>description</th>\n",
       "      <th>details</th>\n",
       "      <th>colors</th>\n",
       "      <th>n_reviews</th>\n",
       "      <th>avg_stars</th>\n",
       "      <th>product_code</th>\n",
       "    </tr>\n",
       "  </thead>\n",
       "  <tbody>\n",
       "    <tr>\n",
       "      <th>0</th>\n",
       "      <td>0</td>\n",
       "      <td>Start Your Run Shoes</td>\n",
       "      <td>Women's Running</td>\n",
       "      <td>4 colors</td>\n",
       "      <td>/us/start-your-run-shoes/GY9233.html</td>\n",
       "      <td>$65</td>\n",
       "      <td>$33</td>\n",
       "      <td>You'll want these adidas running shoes the nex...</td>\n",
       "      <td>Regular fit; Lace closure; Textile upper; LIGH...</td>\n",
       "      <td>Dash Grey / Matte Silver / Core Black</td>\n",
       "      <td>5.0</td>\n",
       "      <td>4.8</td>\n",
       "      <td>GY9233</td>\n",
       "    </tr>\n",
       "    <tr>\n",
       "      <th>1</th>\n",
       "      <td>1</td>\n",
       "      <td>NMD_R1 Shoes</td>\n",
       "      <td>Youth Originals</td>\n",
       "      <td>1</td>\n",
       "      <td>/us/nmd_r1-shoes/H03994.html</td>\n",
       "      <td>$130</td>\n",
       "      <td>$91</td>\n",
       "      <td>One shoe to rule them all. School, work or kic...</td>\n",
       "      <td>Regular fit; Lace closure; Mesh upper; Boost m...</td>\n",
       "      <td>NaN</td>\n",
       "      <td>131.0</td>\n",
       "      <td>4.6</td>\n",
       "      <td>H03994</td>\n",
       "    </tr>\n",
       "    <tr>\n",
       "      <th>2</th>\n",
       "      <td>2</td>\n",
       "      <td>Edge Lux Shoes</td>\n",
       "      <td>Women's Training</td>\n",
       "      <td>5 colors</td>\n",
       "      <td>/us/edge-lux-shoes/GZ6741.html</td>\n",
       "      <td>$90</td>\n",
       "      <td>$45</td>\n",
       "      <td>Comfort is key, whether you're racing to catch...</td>\n",
       "      <td>Women's-specific fit; Lace closure; Textile up...</td>\n",
       "      <td>Core Black / Core Black / Iron Metallic</td>\n",
       "      <td>191.0</td>\n",
       "      <td>4.0</td>\n",
       "      <td>GZ6741</td>\n",
       "    </tr>\n",
       "    <tr>\n",
       "      <th>3</th>\n",
       "      <td>3</td>\n",
       "      <td>Adilette Comfort Slides</td>\n",
       "      <td>Sportswear</td>\n",
       "      <td>19 colors</td>\n",
       "      <td>/us/adilette-comfort-slides/GW9647.html</td>\n",
       "      <td>$40</td>\n",
       "      <td>$24</td>\n",
       "      <td>Classics for a reason. These adidas slides are...</td>\n",
       "      <td>Regular fit; Slip-on; Synthetic bandage upper;...</td>\n",
       "      <td>Core Black / Core White / Grey Six</td>\n",
       "      <td>9735.0</td>\n",
       "      <td>4.7</td>\n",
       "      <td>GW9647</td>\n",
       "    </tr>\n",
       "    <tr>\n",
       "      <th>4</th>\n",
       "      <td>4</td>\n",
       "      <td>Fluidflow 2.0 Shoes</td>\n",
       "      <td>Men's Sportswear</td>\n",
       "      <td>3 colors</td>\n",
       "      <td>https://www.adidas.com/us/fluidflow-2.0-shoes/...</td>\n",
       "      <td>$85</td>\n",
       "      <td>$51</td>\n",
       "      <td>It doesn't really matter whether or not a run ...</td>\n",
       "      <td>Lace closure; Knit textile upper; Breathable f...</td>\n",
       "      <td>Legend Ink / Cloud White / Shadow Maroon</td>\n",
       "      <td>866.0</td>\n",
       "      <td>4.6</td>\n",
       "      <td>GW4012</td>\n",
       "    </tr>\n",
       "  </tbody>\n",
       "</table>\n",
       "</div>"
      ],
      "text/plain": [
       "   Unnamed: 0                    title          subtitle num_colors  \\\n",
       "0           0     Start Your Run Shoes   Women's Running   4 colors   \n",
       "1           1             NMD_R1 Shoes   Youth Originals          1   \n",
       "2           2           Edge Lux Shoes  Women's Training   5 colors   \n",
       "3           3  Adilette Comfort Slides        Sportswear  19 colors   \n",
       "4           4      Fluidflow 2.0 Shoes  Men's Sportswear   3 colors   \n",
       "\n",
       "                                                 url price reduced_price  \\\n",
       "0               /us/start-your-run-shoes/GY9233.html   $65           $33   \n",
       "1                       /us/nmd_r1-shoes/H03994.html  $130           $91   \n",
       "2                     /us/edge-lux-shoes/GZ6741.html   $90           $45   \n",
       "3            /us/adilette-comfort-slides/GW9647.html   $40           $24   \n",
       "4  https://www.adidas.com/us/fluidflow-2.0-shoes/...   $85           $51   \n",
       "\n",
       "                                         description  \\\n",
       "0  You'll want these adidas running shoes the nex...   \n",
       "1  One shoe to rule them all. School, work or kic...   \n",
       "2  Comfort is key, whether you're racing to catch...   \n",
       "3  Classics for a reason. These adidas slides are...   \n",
       "4  It doesn't really matter whether or not a run ...   \n",
       "\n",
       "                                             details  \\\n",
       "0  Regular fit; Lace closure; Textile upper; LIGH...   \n",
       "1  Regular fit; Lace closure; Mesh upper; Boost m...   \n",
       "2  Women's-specific fit; Lace closure; Textile up...   \n",
       "3  Regular fit; Slip-on; Synthetic bandage upper;...   \n",
       "4  Lace closure; Knit textile upper; Breathable f...   \n",
       "\n",
       "                                      colors  n_reviews  avg_stars  \\\n",
       "0      Dash Grey / Matte Silver / Core Black        5.0        4.8   \n",
       "1                                        NaN      131.0        4.6   \n",
       "2    Core Black / Core Black / Iron Metallic      191.0        4.0   \n",
       "3         Core Black / Core White / Grey Six     9735.0        4.7   \n",
       "4   Legend Ink / Cloud White / Shadow Maroon      866.0        4.6   \n",
       "\n",
       "  product_code  \n",
       "0       GY9233  \n",
       "1       H03994  \n",
       "2       GZ6741  \n",
       "3       GW9647  \n",
       "4       GW4012  "
      ]
     },
     "metadata": {},
     "output_type": "display_data"
    }
   ],
   "source": [
    "adidas = pd.read_csv(\"data/adidas_merged_cleaned.csv\")\n",
    "\n",
    "print(\"Basic information about our Adidas.com dataset:\\n\")\n",
    "print(adidas.info())\n",
    "print(\n",
    "    \"\\n\\nA little more summary info about our data \"\n",
    "    \"(there\\nare only a few columns in our data, making \"\n",
    "    \"this\\neasy to inspect):\\n\\n\",\n",
    "    adidas.describe(),\n",
    ")\n",
    "print(\"\\n\\nAnd, the first few rows of our data:\")\n",
    "display(adidas.head())"
   ]
  },
  {
   "cell_type": "code",
   "execution_count": 5,
   "id": "1cdecdd5",
   "metadata": {
    "scrolled": true
   },
   "outputs": [
    {
     "name": "stdout",
     "output_type": "stream",
     "text": [
      "Women's Running\n",
      "Youth Originals\n",
      "Women's Training\n",
      "Sportswear\n",
      "Men's Sportswear\n",
      "Men's Essentials\n",
      "Women's Sportswear\n",
      "Women's Originals\n",
      "Women's • Essentials\n",
      "Women's • Originals\n",
      "Women's • Running\n",
      "Women's • Sportswear\n",
      "Men's • Essentials\n",
      "Originals\n",
      "Men's • Running\n",
      "Men's • Originals\n",
      "Kids Unisex • Originals\n",
      "Running\n",
      "Kids Unisex • Sportswear\n",
      "Yoga\n",
      "Essentials\n",
      "Men's • Sportswear\n",
      "Kids Unisex • Essentials\n",
      "Children Essentials\n",
      "Men's • TERREX\n",
      "Women's TERREX\n",
      "Basketball\n",
      "Men's Soccer\n",
      "Swim\n",
      "Men's TERREX\n",
      "Women's Essentials\n",
      "Men's Running\n",
      "Infant & Toddler Training\n",
      "Kids Unisex • TERREX\n",
      "Women's • Basketball\n",
      "Women's • Training\n",
      "Men's • Five Ten\n",
      "Kids Unisex • Lifestyle\n",
      "Women's • Swim\n",
      "Women's • adidas by Stella McCartney\n",
      "Cycling\n",
      "Men's • Soccer\n",
      "Women's • TERREX\n",
      "Soccer\n",
      "Men's Originals\n",
      "Children Sportswear\n",
      "Kids Essentials\n",
      "Infant & Toddler Originals\n",
      "Men's • Golf\n",
      "Kids Unisex • Soccer\n",
      "Girls • Originals\n",
      "Kids Unisex • Running\n",
      "nan\n",
      "Five Ten\n",
      "Men's Basketball\n",
      "Men's • Tennis\n",
      "Men's • Training\n",
      "Men's • Basketball\n",
      "Kids Running\n",
      "Kids Unisex • Basketball\n",
      "Infant & Toddler Sportswear\n",
      "Children Originals\n",
      "Men's • adidas by Stella McCartney\n",
      "Women's Yoga\n",
      "Youth Sportswear\n",
      "Girls • Essentials\n",
      "Women's • Tennis\n",
      "Youth Basketball\n",
      "Kids Unisex • Swim\n",
      "Golf\n",
      "Y-3\n",
      "Women's • Five Ten\n",
      "Children Soccer\n",
      "Men's Golf\n",
      "Men's • Swim\n",
      "Men's Volleyball\n",
      "Men's • Football\n",
      "Women's • Volleyball\n",
      "Weightlifting\n",
      "Football\n",
      "Children Baseball\n",
      "Kids Unisex • Tennis\n",
      "Women's • Golf\n",
      "Training\n",
      "TERREX\n",
      "Children Tennis\n",
      "Men's Five Ten\n",
      "Youth Training\n",
      "Children Basketball\n",
      "Women's adidas by Stella McCartney\n",
      "Tennis\n",
      "Kids Unisex • Five Ten\n",
      "Men's Football\n",
      "Men's Training\n",
      "Track & Field\n",
      "Men's • Baseball\n",
      "Women's Five Ten\n",
      "Women's Volleyball\n",
      "Women's Basketball\n",
      "Women's Tennis\n",
      "Women's Golf\n",
      "Boxing\n",
      "Men's Baseball\n",
      "Children TERREX\n",
      "Men's Tennis\n",
      "Children Softball\n",
      "Kids Unisex • Golf\n",
      "Women's • Baseball\n",
      "Women's Softball\n",
      "Children Golf\n",
      "Boys • Baseball\n",
      "Men's Yoga\n",
      "Children Training\n",
      "Kids Unisex • Baseball\n"
     ]
    }
   ],
   "source": [
    "for i in adidas['subtitle'].unique():\n",
    "    print(i)"
   ]
  },
  {
   "cell_type": "code",
   "execution_count": 6,
   "id": "6bd0bc8c",
   "metadata": {},
   "outputs": [],
   "source": [
    "adidas = adidas.replace({'subtitle' : { 'Shoe' : \"Men's Shoe\", \"Men's Shoes\" : \"Men's Shoe\"}})\n",
    "adidas = adidas.replace({'subtitle' : { \".+Running.+\" : \"Running Shoe\"}}, regex = True)\n",
    "adidas = adidas.replace({'subtitle' : { \".+Basketball.+\" : \"Basketball Shoe\"}}, regex = True)\n",
    "adidas = adidas.replace({'subtitle' : { \"Basketball.+\" : \"Basketball Shoe\"}}, regex = True)\n",
    "adidas = adidas.replace({'subtitle' : { \".+Baseball.+\" : \"Baseball Shoe\"}}, regex = True)\n",
    "adidas = adidas.replace({'subtitle' : { \"Baseball.+\" : \"Baseball Shoe\"}}, regex = True)\n",
    "adidas = adidas.replace({'subtitle' : { \".+Hiking.+\" : \"Hiking Shoe\"}}, regex = True)\n",
    "adidas = adidas.replace({'subtitle' : { \"HIIT.+\" : \"Training Shoe\"}}, regex = True)\n",
    "adidas = adidas.replace({'subtitle' : { \".+Skate.+\" : \"Skate Shoe\"}}, regex = True)\n",
    "adidas = adidas.replace({'subtitle' : { \".+Football.+\" : \"Football Shoe\"}}, regex = True)\n",
    "adidas = adidas.replace({'subtitle' : { \"Football.+\" : \"Football Shoe\"}}, regex = True)\n",
    "adidas = adidas.replace({'subtitle' : { \".+Slide.+\" : \"Sandal\"}}, regex = True)\n",
    "adidas = adidas.replace({'subtitle' : { \"Slide\" : \"Sandal\"}}, regex = True)\n",
    "adidas = adidas.replace({'subtitle' : { \".+Boot.+\" : \"Boot\"}}, regex = True)\n",
    "adidas = adidas.replace({'subtitle' : { \".+Boot$\" : \"Boot\"}}, regex = True)\n",
    "adidas = adidas.replace({'subtitle' : { \".+Lacrosse.+\" : \"Lacrosse Shoe\"}}, regex = True)\n",
    "adidas = adidas.replace({'subtitle' : { \"Lacrosse.+\" : \"Lacrosse Shoe\"}}, regex = True)\n",
    "adidas = adidas.replace({'subtitle' : { \".+Lifestyle.+\" : \"Lifestyle Shoe\"}}, regex = True)\n",
    "adidas = adidas.replace({'subtitle' : { \".+Cycling.+\" : \"Cycling Shoe\"}}, regex = True)\n",
    "adidas = adidas.replace({'subtitle' : { \".+Thong.+\" : \"Sandal\"}}, regex = True)\n",
    "adidas = adidas.replace({'subtitle' : { \"Thong\" : \"Sandal\"}}, regex = True)\n",
    "adidas = adidas.replace({'subtitle' : { \".+Flip Flop.+\" : \"Sandal\"}}, regex = True)\n",
    "adidas = adidas.replace({'subtitle' : { \"Flip Flop\" : \"Sandal\"}}, regex = True)\n",
    "adidas = adidas.replace({'subtitle' : { \"Flip-Flop\" : \"Sandal\"}}, regex = True)\n",
    "adidas = adidas.replace({'subtitle' : { \".+Sandal.+\" : \"Sandal\"}}, regex = True)\n",
    "adidas = adidas.replace({'subtitle' : { \".+Sandal\" : \"Sandal\"}}, regex = True)\n",
    "adidas = adidas.replace({'subtitle' : { \".+Slide\" : \"Sandal\"}}, regex = True)\n",
    "adidas = adidas.replace({'subtitle' : { \"Slip$\" : \"Sandal\"}}, regex = True) \n",
    "adidas = adidas.replace({'subtitle' : { \"^Slip-On$\" : \"Sandal\"}}, regex = True)\n",
    "adidas = adidas.replace({'subtitle' : { \".+Softball.+\" : \"Softball Shoe\"}}, regex = True)\n",
    "adidas = adidas.replace({'subtitle' : { \"Softball.+\" : \"Softball Shoe\"}}, regex = True)                \n",
    "adidas = adidas.replace({'subtitle' : { \".+Golf.+\" : \"Golf Shoe\"}}, regex = True)\n",
    "adidas = adidas.replace({'subtitle' : { \"Golf.+\" : \"Golf Shoe\"}}, regex = True)\n",
    "adidas = adidas.replace({'subtitle' : { \".+Soccer.+\" : \"Soccer Shoe\"}}, regex = True)\n",
    "adidas = adidas.replace({'subtitle' : { \".+Tennis.+\" : \"Tennis Shoe\"}}, regex = True)\n",
    "adidas = adidas.replace({'subtitle' : { \".+Training.+\" : \"Training Shoe\"}}, regex = True)\n",
    "adidas = adidas.replace({'subtitle' : { \"Custom.+\" : \"Custom Shoe\"}}, regex = True)\n",
    "adidas = adidas.replace({'subtitle' : { \"High Top\" : \"Lifestyle Shoe\"}}, regex = True)\n",
    "adidas = adidas.replace({'subtitle' : { \"Lifestyle Shoe \\(Extra Wide\\)\" : \"Lifestyle Shoe\"}}, regex = True)\n",
    "adidas = adidas.replace({'subtitle' : { \"Print Slide\" : \"Printed Slide\"}}, regex = True)\n",
    "adidas = adidas.replace({'subtitle' : { \"Racing.+\" : \"Racing Shoe\"}}, regex = True)\n",
    "adidas = adidas.replace({'subtitle' : { \"Unisex Racing Shoe\" : \"Racing Shoe\"}}, regex = True)\n",
    "adidas = adidas.replace({'subtitle' : { \".+Track.+\" : \"Track Shoe\"}}, regex = True)\n",
    "adidas = adidas.replace({'subtitle' : { \"^Track Spike$\" : \"Track Shoe\"}}, regex = True)\n",
    "adidas = adidas.replace({'subtitle' : { \"Unisex Shoe\" : \"Lifestyle Shoe\"}}, regex = True)\n",
    "adidas['subtitle'] = adidas['subtitle'].str.replace(\"Men's\",\"\")\n",
    "adidas['subtitle'] = adidas['subtitle'].str.replace(\"Women's\",\"\")\n",
    "adidas['subtitle'] = adidas['subtitle'].str.replace(\"• \",\"\")\n",
    "adidas['subtitle'] = adidas['subtitle'].str.strip()\n",
    "adidas = adidas.replace({'subtitle' : { \"^Shoe\" : \"Lifestyle Shoe\"}}, regex = True)\n",
    "adidas = adidas.replace({'subtitle' : { \"Children.+\" : \"Children Shoe\"}}, regex=True)\n",
    "adidas = adidas.replace({'subtitle' : { \"Kids.+\" : \"Children Shoe\"}}, regex=True)\n",
    "adidas = adidas.replace({'subtitle' : { \"Girls.+\" : \"Children Shoe\"}}, regex=True)\n",
    "adidas = adidas.replace({'subtitle' : { \"Boys.+\" : \"Children Shoe\"}}, regex=True)\n",
    "adidas = adidas.replace({'subtitle' : { \"Infant & Toddler.+\" : \"Children Shoe\"}}, regex=True)\n",
    "adidas = adidas.replace({'subtitle' : { \"Youth.+\" : \"Children Shoe\"}}, regex=True)"
   ]
  },
  {
   "cell_type": "code",
   "execution_count": 7,
   "id": "1c2cffd7",
   "metadata": {},
   "outputs": [
    {
     "name": "stdout",
     "output_type": "stream",
     "text": [
      "Running\n",
      "Children Shoe\n",
      "Training\n",
      "Sportswear\n",
      "Essentials\n",
      "Originals\n",
      "Yoga\n",
      "TERREX\n",
      "Basketball\n",
      "Soccer\n",
      "Swim\n",
      "Five Ten\n",
      "adidas by Stella McCartney\n",
      "Cycling\n",
      "Golf\n",
      "nan\n",
      "Tennis\n",
      "Y-3\n",
      "Volleyball\n",
      "Football\n",
      "Weightlifting\n",
      "Track & Field\n",
      "Baseball\n",
      "Boxing\n",
      "Softball\n"
     ]
    }
   ],
   "source": [
    "for i in adidas['subtitle'].unique():\n",
    "    print(i)"
   ]
  },
  {
   "cell_type": "code",
   "execution_count": 8,
   "id": "93f3802b",
   "metadata": {},
   "outputs": [
    {
     "data": {
      "text/plain": [
       "25"
      ]
     },
     "execution_count": 8,
     "metadata": {},
     "output_type": "execute_result"
    }
   ],
   "source": [
    "len(adidas['subtitle'].unique().tolist())"
   ]
  },
  {
   "cell_type": "code",
   "execution_count": 9,
   "id": "f132c630",
   "metadata": {},
   "outputs": [
    {
     "data": {
      "text/html": [
       "<div>\n",
       "<style scoped>\n",
       "    .dataframe tbody tr th:only-of-type {\n",
       "        vertical-align: middle;\n",
       "    }\n",
       "\n",
       "    .dataframe tbody tr th {\n",
       "        vertical-align: top;\n",
       "    }\n",
       "\n",
       "    .dataframe thead th {\n",
       "        text-align: right;\n",
       "    }\n",
       "</style>\n",
       "<table border=\"1\" class=\"dataframe\">\n",
       "  <thead>\n",
       "    <tr style=\"text-align: right;\">\n",
       "      <th></th>\n",
       "      <th>Unnamed: 0</th>\n",
       "      <th>title</th>\n",
       "      <th>subtitle</th>\n",
       "      <th>num_colors</th>\n",
       "      <th>url</th>\n",
       "      <th>price</th>\n",
       "      <th>reduced_price</th>\n",
       "      <th>description</th>\n",
       "      <th>details</th>\n",
       "      <th>colors</th>\n",
       "      <th>n_reviews</th>\n",
       "      <th>avg_stars</th>\n",
       "      <th>product_code</th>\n",
       "    </tr>\n",
       "  </thead>\n",
       "  <tbody>\n",
       "    <tr>\n",
       "      <th>0</th>\n",
       "      <td>0</td>\n",
       "      <td>Start Your Run Shoes</td>\n",
       "      <td>Running</td>\n",
       "      <td>4 colors</td>\n",
       "      <td>/us/start-your-run-shoes/GY9233.html</td>\n",
       "      <td>$65</td>\n",
       "      <td>$33</td>\n",
       "      <td>You'll want these adidas running shoes the nex...</td>\n",
       "      <td>Regular fit; Lace closure; Textile upper; LIGH...</td>\n",
       "      <td>Dash Grey / Matte Silver / Core Black</td>\n",
       "      <td>5.0</td>\n",
       "      <td>4.8</td>\n",
       "      <td>GY9233</td>\n",
       "    </tr>\n",
       "    <tr>\n",
       "      <th>1</th>\n",
       "      <td>1</td>\n",
       "      <td>NMD_R1 Shoes</td>\n",
       "      <td>Children Shoe</td>\n",
       "      <td>1</td>\n",
       "      <td>/us/nmd_r1-shoes/H03994.html</td>\n",
       "      <td>$130</td>\n",
       "      <td>$91</td>\n",
       "      <td>One shoe to rule them all. School, work or kic...</td>\n",
       "      <td>Regular fit; Lace closure; Mesh upper; Boost m...</td>\n",
       "      <td>NaN</td>\n",
       "      <td>131.0</td>\n",
       "      <td>4.6</td>\n",
       "      <td>H03994</td>\n",
       "    </tr>\n",
       "    <tr>\n",
       "      <th>2</th>\n",
       "      <td>2</td>\n",
       "      <td>Edge Lux Shoes</td>\n",
       "      <td>Training</td>\n",
       "      <td>5 colors</td>\n",
       "      <td>/us/edge-lux-shoes/GZ6741.html</td>\n",
       "      <td>$90</td>\n",
       "      <td>$45</td>\n",
       "      <td>Comfort is key, whether you're racing to catch...</td>\n",
       "      <td>Women's-specific fit; Lace closure; Textile up...</td>\n",
       "      <td>Core Black / Core Black / Iron Metallic</td>\n",
       "      <td>191.0</td>\n",
       "      <td>4.0</td>\n",
       "      <td>GZ6741</td>\n",
       "    </tr>\n",
       "    <tr>\n",
       "      <th>3</th>\n",
       "      <td>3</td>\n",
       "      <td>Adilette Comfort Slides</td>\n",
       "      <td>Sportswear</td>\n",
       "      <td>19 colors</td>\n",
       "      <td>/us/adilette-comfort-slides/GW9647.html</td>\n",
       "      <td>$40</td>\n",
       "      <td>$24</td>\n",
       "      <td>Classics for a reason. These adidas slides are...</td>\n",
       "      <td>Regular fit; Slip-on; Synthetic bandage upper;...</td>\n",
       "      <td>Core Black / Core White / Grey Six</td>\n",
       "      <td>9735.0</td>\n",
       "      <td>4.7</td>\n",
       "      <td>GW9647</td>\n",
       "    </tr>\n",
       "    <tr>\n",
       "      <th>4</th>\n",
       "      <td>4</td>\n",
       "      <td>Fluidflow 2.0 Shoes</td>\n",
       "      <td>Sportswear</td>\n",
       "      <td>3 colors</td>\n",
       "      <td>https://www.adidas.com/us/fluidflow-2.0-shoes/...</td>\n",
       "      <td>$85</td>\n",
       "      <td>$51</td>\n",
       "      <td>It doesn't really matter whether or not a run ...</td>\n",
       "      <td>Lace closure; Knit textile upper; Breathable f...</td>\n",
       "      <td>Legend Ink / Cloud White / Shadow Maroon</td>\n",
       "      <td>866.0</td>\n",
       "      <td>4.6</td>\n",
       "      <td>GW4012</td>\n",
       "    </tr>\n",
       "  </tbody>\n",
       "</table>\n",
       "</div>"
      ],
      "text/plain": [
       "   Unnamed: 0                    title       subtitle num_colors  \\\n",
       "0           0     Start Your Run Shoes        Running   4 colors   \n",
       "1           1             NMD_R1 Shoes  Children Shoe          1   \n",
       "2           2           Edge Lux Shoes       Training   5 colors   \n",
       "3           3  Adilette Comfort Slides     Sportswear  19 colors   \n",
       "4           4      Fluidflow 2.0 Shoes     Sportswear   3 colors   \n",
       "\n",
       "                                                 url price reduced_price  \\\n",
       "0               /us/start-your-run-shoes/GY9233.html   $65           $33   \n",
       "1                       /us/nmd_r1-shoes/H03994.html  $130           $91   \n",
       "2                     /us/edge-lux-shoes/GZ6741.html   $90           $45   \n",
       "3            /us/adilette-comfort-slides/GW9647.html   $40           $24   \n",
       "4  https://www.adidas.com/us/fluidflow-2.0-shoes/...   $85           $51   \n",
       "\n",
       "                                         description  \\\n",
       "0  You'll want these adidas running shoes the nex...   \n",
       "1  One shoe to rule them all. School, work or kic...   \n",
       "2  Comfort is key, whether you're racing to catch...   \n",
       "3  Classics for a reason. These adidas slides are...   \n",
       "4  It doesn't really matter whether or not a run ...   \n",
       "\n",
       "                                             details  \\\n",
       "0  Regular fit; Lace closure; Textile upper; LIGH...   \n",
       "1  Regular fit; Lace closure; Mesh upper; Boost m...   \n",
       "2  Women's-specific fit; Lace closure; Textile up...   \n",
       "3  Regular fit; Slip-on; Synthetic bandage upper;...   \n",
       "4  Lace closure; Knit textile upper; Breathable f...   \n",
       "\n",
       "                                      colors  n_reviews  avg_stars  \\\n",
       "0      Dash Grey / Matte Silver / Core Black        5.0        4.8   \n",
       "1                                        NaN      131.0        4.6   \n",
       "2    Core Black / Core Black / Iron Metallic      191.0        4.0   \n",
       "3         Core Black / Core White / Grey Six     9735.0        4.7   \n",
       "4   Legend Ink / Cloud White / Shadow Maroon      866.0        4.6   \n",
       "\n",
       "  product_code  \n",
       "0       GY9233  \n",
       "1       H03994  \n",
       "2       GZ6741  \n",
       "3       GW9647  \n",
       "4       GW4012  "
      ]
     },
     "execution_count": 9,
     "metadata": {},
     "output_type": "execute_result"
    }
   ],
   "source": [
    "adidas.head()"
   ]
  },
  {
   "cell_type": "markdown",
   "id": "fc52e2c3",
   "metadata": {},
   "source": [
    "## Plot Numeric Variables"
   ]
  },
  {
   "cell_type": "code",
   "execution_count": 10,
   "id": "f18d781b",
   "metadata": {},
   "outputs": [],
   "source": [
    "adidas['price'] = adidas['price'].str.replace('$','').str.replace(',','').astype(np.float64)"
   ]
  },
  {
   "cell_type": "code",
   "execution_count": 11,
   "id": "f2f0983c",
   "metadata": {},
   "outputs": [],
   "source": [
    "adidas['num_colors'] = adidas['num_colors'].str.extract('(\\d+)').astype(np.float64)"
   ]
  },
  {
   "cell_type": "code",
   "execution_count": 12,
   "id": "33f2b1bc",
   "metadata": {},
   "outputs": [
    {
     "data": {
      "image/png": "[encoded data removed]",
      "text/plain": [
       "<Figure size 1200x500 with 3 Axes>"
      ]
     },
     "metadata": {},
     "output_type": "display_data"
    }
   ],
   "source": [
    "fig, axes = plt.subplots(1, 3, sharey=True, figsize=(12, 5))\n",
    "\n",
    "fontsize = 14\n",
    "\n",
    "cols = [\"num_colors\", \"n_reviews\", \"avg_stars\"] \n",
    "title_vs_text = [\"num_colors\", \"n_reviews\", \"avg_stars\"]\n",
    "xlabels = [\"Number of Colors\", \"Number of Reviews\", \"Average Stars\"]\n",
    "\n",
    "for i, (ax, col, title_vs, xlabel) in enumerate(\n",
    "    zip(axes, cols, title_vs_text, xlabels)\n",
    "):\n",
    "\n",
    "    ax.scatter(adidas[col], adidas[\"price\"], alpha=0.4)\n",
    "    ax.set_title(\n",
    "        f\"Price vs. {title_vs}\",\n",
    "        fontsize=fontsize,\n",
    "    )\n",
    "    ax.set_xlabel(xlabel, fontsize=fontsize-2)\n",
    "    ax.set_ylabel(\n",
    "        \"Price\" if i==0 else None, \n",
    "        fontsize=fontsize-2\n",
    "    )\n",
    "    ax.grid(\":\", alpha=0.4)\n",
    "\n",
    "plt.tight_layout()"
   ]
  },
  {
   "cell_type": "code",
   "execution_count": 13,
   "id": "ec6b304a",
   "metadata": {},
   "outputs": [
    {
     "data": {
      "image/png": "[encoded data removed]",
      "text/plain": [
       "<Figure size 640x480 with 2 Axes>"
      ]
     },
     "metadata": {},
     "output_type": "display_data"
    }
   ],
   "source": [
    "cor = adidas.drop('Unnamed: 0', axis=1).corr()\n",
    "\n",
    "sns.heatmap(cor, cmap='Blues')\n",
    "plt.show()"
   ]
  },
  {
   "cell_type": "markdown",
   "id": "8afb4ae4",
   "metadata": {},
   "source": [
    "## Plot Categorical Variables"
   ]
  },
  {
   "cell_type": "code",
   "execution_count": 14,
   "id": "0330282c",
   "metadata": {},
   "outputs": [
    {
     "data": {
      "text/plain": [
       "Originals        635\n",
       "Children Shoe    565\n",
       "Running          265\n",
       "Sportswear       151\n",
       "Essentials       136\n",
       "Name: subtitle, dtype: int64"
      ]
     },
     "execution_count": 14,
     "metadata": {},
     "output_type": "execute_result"
    }
   ],
   "source": [
    "top_subtitles = adidas.subtitle.value_counts().head()\n",
    "top_subtitles"
   ]
  },
  {
   "cell_type": "code",
   "execution_count": 15,
   "id": "16fec1f7",
   "metadata": {},
   "outputs": [],
   "source": [
    "adidas_top_subtitles = adidas.loc[adidas.subtitle.isin(top_subtitles.index.tolist())]"
   ]
  },
  {
   "cell_type": "code",
   "execution_count": 16,
   "id": "1eb073a3",
   "metadata": {
    "tags": []
   },
   "outputs": [
    {
     "data": {
      "image/png": "[encoded data removed]",
      "text/plain": [
       "<Figure size 640x480 with 1 Axes>"
      ]
     },
     "metadata": {},
     "output_type": "display_data"
    }
   ],
   "source": [
    "top_subtitles_sorted = adidas_top_subtitles.groupby('subtitle').price.median().sort_values(ascending=False)\n",
    "\n",
    "# order box plot by median\n",
    "sns.boxplot(data=adidas_top_subtitles, y='subtitle', x='price', order=top_subtitles_sorted.index)\n",
    "plt.xlabel('Price')\n",
    "plt.ylabel('Subtitle')\n",
    "plt.title('Sorted Boxplot of Top Subtitles by Price')\n",
    "plt.show()"
   ]
  },
  {
   "cell_type": "markdown",
   "id": "83e67ad4",
   "metadata": {},
   "source": [
    "## Numeric Stats"
   ]
  },
  {
   "cell_type": "code",
   "execution_count": 17,
   "id": "ecb49a68",
   "metadata": {},
   "outputs": [
    {
     "name": "stdout",
     "output_type": "stream",
     "text": [
      "\n",
      "The mean price is 119.7339 \n",
      "The mean number of colors is 5.6943 \n",
      "The Standard Deviation of price is 87.6957\n",
      "The Standard Deviation of number of colors is 6.2613\n"
     ]
    }
   ],
   "source": [
    "mean_price = adidas[\"price\"].mean() \n",
    "mean_noc = adidas[\"num_colors\"].mean()\n",
    "std_price = adidas[\"price\"].std() \n",
    "std_noc = adidas[\"num_colors\"].std()\n",
    "print(\n",
    "    \"\\n\"\n",
    "    f\"The mean price is {mean_price:.4f} \\n\"\n",
    "    f\"The mean number of colors is {mean_noc:.4f} \\n\"\n",
    "    f\"The Standard Deviation of price is {std_price:.4f}\\n\"\n",
    "    f\"The Standard Deviation of number of colors is {std_noc:.4f}\"\n",
    ")"
   ]
  },
  {
   "cell_type": "code",
   "execution_count": 18,
   "id": "7889760e",
   "metadata": {},
   "outputs": [
    {
     "name": "stdout",
     "output_type": "stream",
     "text": [
      "The range of price for which shoes in our dataset is 1,125.00 dolloars. \n",
      "\n",
      "The maximum number of price is 1,150.00, and the minimum is 25.00.\n"
     ]
    }
   ],
   "source": [
    "price_min = adidas[\"price\"].min()\n",
    "price_max = adidas[\"price\"].max() \n",
    "price_range = price_max - price_min \n",
    "\n",
    "print(\n",
    "    f\"The range of price for which shoes in our dataset \"\n",
    "    f\"is {price_range:,.2f} dolloars. \\n\\n\"\n",
    "    f\"The maximum number of price is {price_max:,.2f}, \"\n",
    "    f\"and the minimum is {price_min:,.2f}.\"\n",
    ")"
   ]
  },
  {
   "cell_type": "code",
   "execution_count": 19,
   "id": "0f7e44eb",
   "metadata": {},
   "outputs": [
    {
     "name": "stderr",
     "output_type": "stream",
     "text": [
      "/Users/mina/opt/anaconda3/lib/python3.8/site-packages/seaborn/distributions.py:2551: FutureWarning: `distplot` is a deprecated function and will be removed in a future version. Please adapt your code to use either `displot` (a figure-level function with similar flexibility) or `histplot` (an axes-level function for histograms).\n",
      "  warnings.warn(msg, FutureWarning)\n"
     ]
    },
    {
     "data": {
      "image/png": "[encoded data removed]",
      "text/plain": [
       "<Figure size 1200x800 with 1 Axes>"
      ]
     },
     "metadata": {},
     "output_type": "display_data"
    }
   ],
   "source": [
    "plt.figure(figsize=(12,8))\n",
    "#ploting the mean\n",
    "plt.axvline(mean_price, 0, 1, color = 'red')\n",
    "sns.distplot(adidas['price'], color='orange')\n",
    "plt.title(\"Distirbution of price range of Adidas Shoes\")\n",
    "plt.show()"
   ]
  },
  {
   "cell_type": "markdown",
   "id": "f9fe6ee8",
   "metadata": {},
   "source": [
    "## Missing Data"
   ]
  },
  {
   "cell_type": "code",
   "execution_count": 20,
   "id": "ad609ff3",
   "metadata": {},
   "outputs": [
    {
     "data": {
      "text/plain": [
       "Unnamed: 0         0\n",
       "title              1\n",
       "subtitle          30\n",
       "num_colors        28\n",
       "url                0\n",
       "price              4\n",
       "reduced_price    144\n",
       "description       22\n",
       "details          142\n",
       "colors           445\n",
       "n_reviews        210\n",
       "avg_stars        210\n",
       "product_code       0\n",
       "dtype: int64"
      ]
     },
     "execution_count": 20,
     "metadata": {},
     "output_type": "execute_result"
    }
   ],
   "source": [
    "n_rows_with_missingness = np.int64(sum([True for idx,row in adidas.iterrows() if any(row.isnull())]))\n",
    "n_cols_with_missingness = np.int64(sum(adidas.apply(lambda x: sum(x.isnull().values), axis = 0)>0))\n",
    "\n",
    "columns = adidas.columns.values\n",
    "col_num = []\n",
    "for i in columns:\n",
    "    col_num.append(adidas[i].isnull().sum())\n",
    "col_missingness = pd.Series(col_num, index=adidas.columns)\n",
    "col_missingness"
   ]
  },
  {
   "cell_type": "code",
   "execution_count": 21,
   "id": "1e0aaee4",
   "metadata": {},
   "outputs": [],
   "source": [
    "# Replaced Missing Values with Median For Now\n",
    "median_price = adidas['price'].median()\n",
    "adidas['price'].fillna(median_price, inplace=True)"
   ]
  },
  {
   "cell_type": "code",
   "execution_count": 19,
   "id": "087397e2",
   "metadata": {},
   "outputs": [],
   "source": [
    "# nike_train, y_train = nike_train.drop(columns=['price']), nike_train['price']\n",
    "# nike_test, y_test = nike_test.drop(columns=['price']), nike_test['price']"
   ]
  },
  {
   "cell_type": "code",
   "execution_count": 20,
   "id": "06f1ef0f",
   "metadata": {},
   "outputs": [],
   "source": [
    "# nike_train, y_train = nike_train.drop(columns=['reduced_price']), nike_train['reduced_price']\n",
    "# nike_test, y_test = nike_test.drop(columns=['reduced_price']), nike_test['reduced_price']"
   ]
  },
  {
   "cell_type": "code",
   "execution_count": 21,
   "id": "f966e335",
   "metadata": {},
   "outputs": [],
   "source": [
    "# columns = nike_train.columns.values\n",
    "# print(f'There are {len(columns)} in the Nike_train Data Frame:')\n",
    "# for i in columns:\n",
    "    # print(f'  The {i} column is missing {nike_train[i].isnull().sum()} values')"
   ]
  },
  {
   "cell_type": "markdown",
   "id": "9f1856f0",
   "metadata": {},
   "source": [
    "# MSE & R2 "
   ]
  },
  {
   "cell_type": "code",
   "execution_count": 22,
   "id": "01b31ccc",
   "metadata": {},
   "outputs": [],
   "source": [
    "mse_list = []\n",
    "r2_list = []\n",
    "# List of all predictor combinations to fit the curve\n",
    "cols = [['num_colors'],['n_reviews'],['avg_stars'],['num_colors','n_reviews'],['avg_stars','n_reviews'],['num_colors','avg_stars'],['num_colors','n_reviews','avg_stars']]\n",
    "adidas['num_colors'].fillna(adidas['num_colors'].median(), inplace=True)\n",
    "adidas['n_reviews'].fillna(adidas['n_reviews'].median(), inplace=True)\n",
    "adidas['avg_stars'].fillna(adidas['avg_stars'].median(), inplace=True)"
   ]
  },
  {
   "cell_type": "code",
   "execution_count": 23,
   "id": "e094a526",
   "metadata": {},
   "outputs": [],
   "source": [
    "from sklearn.metrics import mean_squared_error, r2_score"
   ]
  },
  {
   "cell_type": "code",
   "execution_count": 24,
   "id": "ed10b2ce",
   "metadata": {},
   "outputs": [
    {
     "name": "stdout",
     "output_type": "stream",
     "text": [
      "['num_colors']\n",
      "['n_reviews']\n",
      "['avg_stars']\n",
      "['num_colors', 'n_reviews']\n",
      "['avg_stars', 'n_reviews']\n",
      "['num_colors', 'avg_stars']\n",
      "['num_colors', 'n_reviews', 'avg_stars']\n"
     ]
    }
   ],
   "source": [
    "# Loop over all the predictor combinations \n",
    "for i in cols:\n",
    "    # Replaced Missing Values with Median For Now\n",
    "    \n",
    "    print(i)\n",
    "    # Set each of the predictors from the previous list as x\n",
    "    x = adidas[i]\n",
    "    # Set the \"Sales\" column as the reponse variable\n",
    "    y = adidas['price']\n",
    "   \n",
    "    # Split the data into train-test sets with 80% training data and 20% testing data. \n",
    "    # Set random_state as 0\n",
    "    x_train, x_test, y_train, y_test = train_test_split(x, y, train_size=.8,random_state=0)\n",
    "\n",
    "    # Initialize a Linear Regression model\n",
    "    lreg = LinearRegression()\n",
    "\n",
    "    # Fit the linear model on the train data\n",
    "    lreg.fit(x_train,y_train)\n",
    "    \n",
    "    # Predict the response variable for the test set using the trained model\n",
    "    y_pred= lreg.predict(x_test)\n",
    "    \n",
    "    # Compute the MSE for the test data\n",
    "    MSE = mean_squared_error(y_pred,y_test)\n",
    "    r2 = r2_score(y_test, y_pred)\n",
    "    \n",
    "    # Append the computed MSE to the list\n",
    "    mse_list.append(MSE)\n",
    "    r2_list.append(r2)"
   ]
  },
  {
   "cell_type": "code",
   "execution_count": 25,
   "id": "c039c3a7",
   "metadata": {},
   "outputs": [
    {
     "name": "stdout",
     "output_type": "stream",
     "text": [
      "+------------------------------------------+---------+\n",
      "|                Predictors                |   MSE   |\n",
      "+------------------------------------------+---------+\n",
      "|              ['num_colors']              | 8629.75 |\n",
      "|              ['n_reviews']               | 8555.15 |\n",
      "|              ['avg_stars']               | 8703.21 |\n",
      "|       ['num_colors', 'n_reviews']        |  8481.9 |\n",
      "|        ['avg_stars', 'n_reviews']        |  8621.9 |\n",
      "|       ['num_colors', 'avg_stars']        | 8701.53 |\n",
      "| ['num_colors', 'n_reviews', 'avg_stars'] | 8552.71 |\n",
      "+------------------------------------------+---------+\n",
      "+------------------------------------------+----------+\n",
      "|                Predictors                | R2 score |\n",
      "+------------------------------------------+----------+\n",
      "|              ['num_colors']              |   -0.0   |\n",
      "|              ['n_reviews']               |   0.01   |\n",
      "|              ['avg_stars']               |  -0.01   |\n",
      "|       ['num_colors', 'n_reviews']        |   0.02   |\n",
      "|        ['avg_stars', 'n_reviews']        |   -0.0   |\n",
      "|       ['num_colors', 'avg_stars']        |  -0.01   |\n",
      "| ['num_colors', 'n_reviews', 'avg_stars'] |   0.01   |\n",
      "+------------------------------------------+----------+\n"
     ]
    }
   ],
   "source": [
    "# Helper code to display the MSE for each predictor combination\n",
    "t = PrettyTable(['Predictors', 'MSE'])\n",
    "p = PrettyTable(['Predictors', 'R2 score'])\n",
    "\n",
    "for i in range(len(mse_list)):\n",
    "    t.add_row([cols[i],round(mse_list[i], 2)])\n",
    "    p.add_row([cols[i],round(r2_list[i], 2)])\n",
    "    \n",
    "\n",
    "print(t)\n",
    "print(p)"
   ]
  },
  {
   "cell_type": "markdown",
   "id": "2073e536",
   "metadata": {},
   "source": [
    "# Sentiment Analysis"
   ]
  },
  {
   "cell_type": "code",
   "execution_count": 26,
   "id": "5014d9f2",
   "metadata": {},
   "outputs": [
    {
     "name": "stderr",
     "output_type": "stream",
     "text": [
      "[nltk_data] Downloading package vader_lexicon to\n",
      "[nltk_data]     /Users/mina/nltk_data...\n",
      "[nltk_data]   Package vader_lexicon is already up-to-date!\n"
     ]
    },
    {
     "data": {
      "text/plain": [
       "True"
      ]
     },
     "execution_count": 26,
     "metadata": {},
     "output_type": "execute_result"
    }
   ],
   "source": [
    "import nltk\n",
    "nltk.download('vader_lexicon')"
   ]
  },
  {
   "cell_type": "code",
   "execution_count": 27,
   "id": "26e011e5",
   "metadata": {},
   "outputs": [],
   "source": [
    "from nltk.sentiment.vader import SentimentIntensityAnalyzer as SIA"
   ]
  },
  {
   "cell_type": "code",
   "execution_count": 46,
   "id": "9068ed43",
   "metadata": {},
   "outputs": [],
   "source": [
    "# copy new df to work on\n",
    "df = adidas.loc[:, ['subtitle','description', 'price']].copy()\n",
    "df.dropna(inplace=True)"
   ]
  },
  {
   "cell_type": "code",
   "execution_count": 47,
   "id": "37a16eff",
   "metadata": {},
   "outputs": [
    {
     "data": {
      "text/html": [
       "<div>\n",
       "<style scoped>\n",
       "    .dataframe tbody tr th:only-of-type {\n",
       "        vertical-align: middle;\n",
       "    }\n",
       "\n",
       "    .dataframe tbody tr th {\n",
       "        vertical-align: top;\n",
       "    }\n",
       "\n",
       "    .dataframe thead th {\n",
       "        text-align: right;\n",
       "    }\n",
       "</style>\n",
       "<table border=\"1\" class=\"dataframe\">\n",
       "  <thead>\n",
       "    <tr style=\"text-align: right;\">\n",
       "      <th></th>\n",
       "      <th>subtitle</th>\n",
       "      <th>description</th>\n",
       "      <th>price</th>\n",
       "      <th>rating</th>\n",
       "    </tr>\n",
       "  </thead>\n",
       "  <tbody>\n",
       "    <tr>\n",
       "      <th>0</th>\n",
       "      <td>Running</td>\n",
       "      <td>You'll want these adidas running shoes the nex...</td>\n",
       "      <td>65.0</td>\n",
       "      <td>{'neg': 0.032, 'neu': 0.842, 'pos': 0.126, 'co...</td>\n",
       "    </tr>\n",
       "    <tr>\n",
       "      <th>1</th>\n",
       "      <td>Children Shoe</td>\n",
       "      <td>One shoe to rule them all. School, work or kic...</td>\n",
       "      <td>130.0</td>\n",
       "      <td>{'neg': 0.0, 'neu': 0.854, 'pos': 0.146, 'comp...</td>\n",
       "    </tr>\n",
       "    <tr>\n",
       "      <th>2</th>\n",
       "      <td>Training</td>\n",
       "      <td>Comfort is key, whether you're racing to catch...</td>\n",
       "      <td>90.0</td>\n",
       "      <td>{'neg': 0.035, 'neu': 0.854, 'pos': 0.111, 'co...</td>\n",
       "    </tr>\n",
       "    <tr>\n",
       "      <th>3</th>\n",
       "      <td>Sportswear</td>\n",
       "      <td>Classics for a reason. These adidas slides are...</td>\n",
       "      <td>40.0</td>\n",
       "      <td>{'neg': 0.0, 'neu': 0.777, 'pos': 0.223, 'comp...</td>\n",
       "    </tr>\n",
       "    <tr>\n",
       "      <th>4</th>\n",
       "      <td>Sportswear</td>\n",
       "      <td>It doesn't really matter whether or not a run ...</td>\n",
       "      <td>85.0</td>\n",
       "      <td>{'neg': 0.028, 'neu': 0.903, 'pos': 0.068, 'co...</td>\n",
       "    </tr>\n",
       "    <tr>\n",
       "      <th>...</th>\n",
       "      <td>...</td>\n",
       "      <td>...</td>\n",
       "      <td>...</td>\n",
       "      <td>...</td>\n",
       "    </tr>\n",
       "    <tr>\n",
       "      <th>2385</th>\n",
       "      <td>Children Shoe</td>\n",
       "      <td>We all fall in love with the beautiful game on...</td>\n",
       "      <td>70.0</td>\n",
       "      <td>{'neg': 0.054, 'neu': 0.798, 'pos': 0.148, 'co...</td>\n",
       "    </tr>\n",
       "    <tr>\n",
       "      <th>2386</th>\n",
       "      <td>Children Shoe</td>\n",
       "      <td>Good players create time and space. Great ones...</td>\n",
       "      <td>130.0</td>\n",
       "      <td>{'neg': 0.033, 'neu': 0.699, 'pos': 0.268, 'co...</td>\n",
       "    </tr>\n",
       "    <tr>\n",
       "      <th>2387</th>\n",
       "      <td>Children Shoe</td>\n",
       "      <td>Swerve ordinary to find your edge. Introduce a...</td>\n",
       "      <td>65.0</td>\n",
       "      <td>{'neg': 0.0, 'neu': 0.963, 'pos': 0.037, 'comp...</td>\n",
       "    </tr>\n",
       "    <tr>\n",
       "      <th>2388</th>\n",
       "      <td>Sportswear</td>\n",
       "      <td>The world's top runners enter the Berlin Marat...</td>\n",
       "      <td>180.0</td>\n",
       "      <td>{'neg': 0.033, 'neu': 0.902, 'pos': 0.065, 'co...</td>\n",
       "    </tr>\n",
       "    <tr>\n",
       "      <th>2389</th>\n",
       "      <td>Originals</td>\n",
       "      <td>This fan and streetwear favorite knows a thing...</td>\n",
       "      <td>100.0</td>\n",
       "      <td>{'neg': 0.0, 'neu': 0.809, 'pos': 0.191, 'comp...</td>\n",
       "    </tr>\n",
       "  </tbody>\n",
       "</table>\n",
       "<p>2339 rows × 4 columns</p>\n",
       "</div>"
      ],
      "text/plain": [
       "           subtitle                                        description  price  \\\n",
       "0           Running  You'll want these adidas running shoes the nex...   65.0   \n",
       "1     Children Shoe  One shoe to rule them all. School, work or kic...  130.0   \n",
       "2          Training  Comfort is key, whether you're racing to catch...   90.0   \n",
       "3        Sportswear  Classics for a reason. These adidas slides are...   40.0   \n",
       "4        Sportswear  It doesn't really matter whether or not a run ...   85.0   \n",
       "...             ...                                                ...    ...   \n",
       "2385  Children Shoe  We all fall in love with the beautiful game on...   70.0   \n",
       "2386  Children Shoe  Good players create time and space. Great ones...  130.0   \n",
       "2387  Children Shoe  Swerve ordinary to find your edge. Introduce a...   65.0   \n",
       "2388     Sportswear  The world's top runners enter the Berlin Marat...  180.0   \n",
       "2389      Originals  This fan and streetwear favorite knows a thing...  100.0   \n",
       "\n",
       "                                                 rating  \n",
       "0     {'neg': 0.032, 'neu': 0.842, 'pos': 0.126, 'co...  \n",
       "1     {'neg': 0.0, 'neu': 0.854, 'pos': 0.146, 'comp...  \n",
       "2     {'neg': 0.035, 'neu': 0.854, 'pos': 0.111, 'co...  \n",
       "3     {'neg': 0.0, 'neu': 0.777, 'pos': 0.223, 'comp...  \n",
       "4     {'neg': 0.028, 'neu': 0.903, 'pos': 0.068, 'co...  \n",
       "...                                                 ...  \n",
       "2385  {'neg': 0.054, 'neu': 0.798, 'pos': 0.148, 'co...  \n",
       "2386  {'neg': 0.033, 'neu': 0.699, 'pos': 0.268, 'co...  \n",
       "2387  {'neg': 0.0, 'neu': 0.963, 'pos': 0.037, 'comp...  \n",
       "2388  {'neg': 0.033, 'neu': 0.902, 'pos': 0.065, 'co...  \n",
       "2389  {'neg': 0.0, 'neu': 0.809, 'pos': 0.191, 'comp...  \n",
       "\n",
       "[2339 rows x 4 columns]"
      ]
     },
     "execution_count": 47,
     "metadata": {},
     "output_type": "execute_result"
    }
   ],
   "source": [
    "analyzer = SIA()\n",
    "# using sentiment analysis and get negative, neutral, poisitve scores on columns \"rating\"\n",
    "df['rating'] = df['description'].apply(analyzer.polarity_scores)\n",
    "df"
   ]
  },
  {
   "cell_type": "code",
   "execution_count": 48,
   "id": "94f66fe3",
   "metadata": {},
   "outputs": [
    {
     "data": {
      "text/html": [
       "<div>\n",
       "<style scoped>\n",
       "    .dataframe tbody tr th:only-of-type {\n",
       "        vertical-align: middle;\n",
       "    }\n",
       "\n",
       "    .dataframe tbody tr th {\n",
       "        vertical-align: top;\n",
       "    }\n",
       "\n",
       "    .dataframe thead th {\n",
       "        text-align: right;\n",
       "    }\n",
       "</style>\n",
       "<table border=\"1\" class=\"dataframe\">\n",
       "  <thead>\n",
       "    <tr style=\"text-align: right;\">\n",
       "      <th></th>\n",
       "      <th>subtitle</th>\n",
       "      <th>description</th>\n",
       "      <th>price</th>\n",
       "      <th>neg</th>\n",
       "      <th>neu</th>\n",
       "      <th>pos</th>\n",
       "      <th>compound</th>\n",
       "    </tr>\n",
       "  </thead>\n",
       "  <tbody>\n",
       "    <tr>\n",
       "      <th>0</th>\n",
       "      <td>Running</td>\n",
       "      <td>You'll want these adidas running shoes the nex...</td>\n",
       "      <td>65.0</td>\n",
       "      <td>0.032</td>\n",
       "      <td>0.842</td>\n",
       "      <td>0.126</td>\n",
       "      <td>0.7430</td>\n",
       "    </tr>\n",
       "    <tr>\n",
       "      <th>1</th>\n",
       "      <td>Children Shoe</td>\n",
       "      <td>One shoe to rule them all. School, work or kic...</td>\n",
       "      <td>130.0</td>\n",
       "      <td>0.000</td>\n",
       "      <td>0.854</td>\n",
       "      <td>0.146</td>\n",
       "      <td>0.8126</td>\n",
       "    </tr>\n",
       "    <tr>\n",
       "      <th>2</th>\n",
       "      <td>Training</td>\n",
       "      <td>Comfort is key, whether you're racing to catch...</td>\n",
       "      <td>90.0</td>\n",
       "      <td>0.035</td>\n",
       "      <td>0.854</td>\n",
       "      <td>0.111</td>\n",
       "      <td>0.6124</td>\n",
       "    </tr>\n",
       "    <tr>\n",
       "      <th>3</th>\n",
       "      <td>Sportswear</td>\n",
       "      <td>Classics for a reason. These adidas slides are...</td>\n",
       "      <td>40.0</td>\n",
       "      <td>0.000</td>\n",
       "      <td>0.777</td>\n",
       "      <td>0.223</td>\n",
       "      <td>0.9413</td>\n",
       "    </tr>\n",
       "    <tr>\n",
       "      <th>4</th>\n",
       "      <td>Sportswear</td>\n",
       "      <td>It doesn't really matter whether or not a run ...</td>\n",
       "      <td>85.0</td>\n",
       "      <td>0.028</td>\n",
       "      <td>0.903</td>\n",
       "      <td>0.068</td>\n",
       "      <td>0.4232</td>\n",
       "    </tr>\n",
       "    <tr>\n",
       "      <th>...</th>\n",
       "      <td>...</td>\n",
       "      <td>...</td>\n",
       "      <td>...</td>\n",
       "      <td>...</td>\n",
       "      <td>...</td>\n",
       "      <td>...</td>\n",
       "      <td>...</td>\n",
       "    </tr>\n",
       "    <tr>\n",
       "      <th>2385</th>\n",
       "      <td>Children Shoe</td>\n",
       "      <td>We all fall in love with the beautiful game on...</td>\n",
       "      <td>70.0</td>\n",
       "      <td>0.054</td>\n",
       "      <td>0.798</td>\n",
       "      <td>0.148</td>\n",
       "      <td>0.9287</td>\n",
       "    </tr>\n",
       "    <tr>\n",
       "      <th>2386</th>\n",
       "      <td>Children Shoe</td>\n",
       "      <td>Good players create time and space. Great ones...</td>\n",
       "      <td>130.0</td>\n",
       "      <td>0.033</td>\n",
       "      <td>0.699</td>\n",
       "      <td>0.268</td>\n",
       "      <td>0.9810</td>\n",
       "    </tr>\n",
       "    <tr>\n",
       "      <th>2387</th>\n",
       "      <td>Children Shoe</td>\n",
       "      <td>Swerve ordinary to find your edge. Introduce a...</td>\n",
       "      <td>65.0</td>\n",
       "      <td>0.000</td>\n",
       "      <td>0.963</td>\n",
       "      <td>0.037</td>\n",
       "      <td>0.2960</td>\n",
       "    </tr>\n",
       "    <tr>\n",
       "      <th>2388</th>\n",
       "      <td>Sportswear</td>\n",
       "      <td>The world's top runners enter the Berlin Marat...</td>\n",
       "      <td>180.0</td>\n",
       "      <td>0.033</td>\n",
       "      <td>0.902</td>\n",
       "      <td>0.065</td>\n",
       "      <td>0.2732</td>\n",
       "    </tr>\n",
       "    <tr>\n",
       "      <th>2389</th>\n",
       "      <td>Originals</td>\n",
       "      <td>This fan and streetwear favorite knows a thing...</td>\n",
       "      <td>100.0</td>\n",
       "      <td>0.000</td>\n",
       "      <td>0.809</td>\n",
       "      <td>0.191</td>\n",
       "      <td>0.9217</td>\n",
       "    </tr>\n",
       "  </tbody>\n",
       "</table>\n",
       "<p>2339 rows × 7 columns</p>\n",
       "</div>"
      ],
      "text/plain": [
       "           subtitle                                        description  price  \\\n",
       "0           Running  You'll want these adidas running shoes the nex...   65.0   \n",
       "1     Children Shoe  One shoe to rule them all. School, work or kic...  130.0   \n",
       "2          Training  Comfort is key, whether you're racing to catch...   90.0   \n",
       "3        Sportswear  Classics for a reason. These adidas slides are...   40.0   \n",
       "4        Sportswear  It doesn't really matter whether or not a run ...   85.0   \n",
       "...             ...                                                ...    ...   \n",
       "2385  Children Shoe  We all fall in love with the beautiful game on...   70.0   \n",
       "2386  Children Shoe  Good players create time and space. Great ones...  130.0   \n",
       "2387  Children Shoe  Swerve ordinary to find your edge. Introduce a...   65.0   \n",
       "2388     Sportswear  The world's top runners enter the Berlin Marat...  180.0   \n",
       "2389      Originals  This fan and streetwear favorite knows a thing...  100.0   \n",
       "\n",
       "        neg    neu    pos  compound  \n",
       "0     0.032  0.842  0.126    0.7430  \n",
       "1     0.000  0.854  0.146    0.8126  \n",
       "2     0.035  0.854  0.111    0.6124  \n",
       "3     0.000  0.777  0.223    0.9413  \n",
       "4     0.028  0.903  0.068    0.4232  \n",
       "...     ...    ...    ...       ...  \n",
       "2385  0.054  0.798  0.148    0.9287  \n",
       "2386  0.033  0.699  0.268    0.9810  \n",
       "2387  0.000  0.963  0.037    0.2960  \n",
       "2388  0.033  0.902  0.065    0.2732  \n",
       "2389  0.000  0.809  0.191    0.9217  \n",
       "\n",
       "[2339 rows x 7 columns]"
      ]
     },
     "execution_count": 48,
     "metadata": {},
     "output_type": "execute_result"
    }
   ],
   "source": [
    "# change each keys/values of dictionary in colum, rating, to be the new columns of dataframe\n",
    "df2 = pd.concat([df.drop(['rating'], axis=1), df['rating'].apply(pd.Series)], axis=1)\n",
    "df2"
   ]
  },
  {
   "cell_type": "code",
   "execution_count": 49,
   "id": "e90e4526",
   "metadata": {},
   "outputs": [
    {
     "data": {
      "text/html": [
       "<div>\n",
       "<style scoped>\n",
       "    .dataframe tbody tr th:only-of-type {\n",
       "        vertical-align: middle;\n",
       "    }\n",
       "\n",
       "    .dataframe tbody tr th {\n",
       "        vertical-align: top;\n",
       "    }\n",
       "\n",
       "    .dataframe thead th {\n",
       "        text-align: right;\n",
       "    }\n",
       "</style>\n",
       "<table border=\"1\" class=\"dataframe\">\n",
       "  <thead>\n",
       "    <tr style=\"text-align: right;\">\n",
       "      <th></th>\n",
       "      <th>subtitle</th>\n",
       "      <th>description</th>\n",
       "      <th>price</th>\n",
       "      <th>neg</th>\n",
       "      <th>neu</th>\n",
       "      <th>pos</th>\n",
       "      <th>compound</th>\n",
       "      <th>score</th>\n",
       "    </tr>\n",
       "  </thead>\n",
       "  <tbody>\n",
       "    <tr>\n",
       "      <th>0</th>\n",
       "      <td>Running</td>\n",
       "      <td>You'll want these adidas running shoes the nex...</td>\n",
       "      <td>65.0</td>\n",
       "      <td>0.032</td>\n",
       "      <td>0.842</td>\n",
       "      <td>0.126</td>\n",
       "      <td>0.7430</td>\n",
       "      <td>positive</td>\n",
       "    </tr>\n",
       "    <tr>\n",
       "      <th>1</th>\n",
       "      <td>Children Shoe</td>\n",
       "      <td>One shoe to rule them all. School, work or kic...</td>\n",
       "      <td>130.0</td>\n",
       "      <td>0.000</td>\n",
       "      <td>0.854</td>\n",
       "      <td>0.146</td>\n",
       "      <td>0.8126</td>\n",
       "      <td>positive</td>\n",
       "    </tr>\n",
       "    <tr>\n",
       "      <th>2</th>\n",
       "      <td>Training</td>\n",
       "      <td>Comfort is key, whether you're racing to catch...</td>\n",
       "      <td>90.0</td>\n",
       "      <td>0.035</td>\n",
       "      <td>0.854</td>\n",
       "      <td>0.111</td>\n",
       "      <td>0.6124</td>\n",
       "      <td>positive</td>\n",
       "    </tr>\n",
       "    <tr>\n",
       "      <th>3</th>\n",
       "      <td>Sportswear</td>\n",
       "      <td>Classics for a reason. These adidas slides are...</td>\n",
       "      <td>40.0</td>\n",
       "      <td>0.000</td>\n",
       "      <td>0.777</td>\n",
       "      <td>0.223</td>\n",
       "      <td>0.9413</td>\n",
       "      <td>positive</td>\n",
       "    </tr>\n",
       "    <tr>\n",
       "      <th>4</th>\n",
       "      <td>Sportswear</td>\n",
       "      <td>It doesn't really matter whether or not a run ...</td>\n",
       "      <td>85.0</td>\n",
       "      <td>0.028</td>\n",
       "      <td>0.903</td>\n",
       "      <td>0.068</td>\n",
       "      <td>0.4232</td>\n",
       "      <td>positive</td>\n",
       "    </tr>\n",
       "    <tr>\n",
       "      <th>...</th>\n",
       "      <td>...</td>\n",
       "      <td>...</td>\n",
       "      <td>...</td>\n",
       "      <td>...</td>\n",
       "      <td>...</td>\n",
       "      <td>...</td>\n",
       "      <td>...</td>\n",
       "      <td>...</td>\n",
       "    </tr>\n",
       "    <tr>\n",
       "      <th>2385</th>\n",
       "      <td>Children Shoe</td>\n",
       "      <td>We all fall in love with the beautiful game on...</td>\n",
       "      <td>70.0</td>\n",
       "      <td>0.054</td>\n",
       "      <td>0.798</td>\n",
       "      <td>0.148</td>\n",
       "      <td>0.9287</td>\n",
       "      <td>positive</td>\n",
       "    </tr>\n",
       "    <tr>\n",
       "      <th>2386</th>\n",
       "      <td>Children Shoe</td>\n",
       "      <td>Good players create time and space. Great ones...</td>\n",
       "      <td>130.0</td>\n",
       "      <td>0.033</td>\n",
       "      <td>0.699</td>\n",
       "      <td>0.268</td>\n",
       "      <td>0.9810</td>\n",
       "      <td>positive</td>\n",
       "    </tr>\n",
       "    <tr>\n",
       "      <th>2387</th>\n",
       "      <td>Children Shoe</td>\n",
       "      <td>Swerve ordinary to find your edge. Introduce a...</td>\n",
       "      <td>65.0</td>\n",
       "      <td>0.000</td>\n",
       "      <td>0.963</td>\n",
       "      <td>0.037</td>\n",
       "      <td>0.2960</td>\n",
       "      <td>positive</td>\n",
       "    </tr>\n",
       "    <tr>\n",
       "      <th>2388</th>\n",
       "      <td>Sportswear</td>\n",
       "      <td>The world's top runners enter the Berlin Marat...</td>\n",
       "      <td>180.0</td>\n",
       "      <td>0.033</td>\n",
       "      <td>0.902</td>\n",
       "      <td>0.065</td>\n",
       "      <td>0.2732</td>\n",
       "      <td>positive</td>\n",
       "    </tr>\n",
       "    <tr>\n",
       "      <th>2389</th>\n",
       "      <td>Originals</td>\n",
       "      <td>This fan and streetwear favorite knows a thing...</td>\n",
       "      <td>100.0</td>\n",
       "      <td>0.000</td>\n",
       "      <td>0.809</td>\n",
       "      <td>0.191</td>\n",
       "      <td>0.9217</td>\n",
       "      <td>positive</td>\n",
       "    </tr>\n",
       "  </tbody>\n",
       "</table>\n",
       "<p>2339 rows × 8 columns</p>\n",
       "</div>"
      ],
      "text/plain": [
       "           subtitle                                        description  price  \\\n",
       "0           Running  You'll want these adidas running shoes the nex...   65.0   \n",
       "1     Children Shoe  One shoe to rule them all. School, work or kic...  130.0   \n",
       "2          Training  Comfort is key, whether you're racing to catch...   90.0   \n",
       "3        Sportswear  Classics for a reason. These adidas slides are...   40.0   \n",
       "4        Sportswear  It doesn't really matter whether or not a run ...   85.0   \n",
       "...             ...                                                ...    ...   \n",
       "2385  Children Shoe  We all fall in love with the beautiful game on...   70.0   \n",
       "2386  Children Shoe  Good players create time and space. Great ones...  130.0   \n",
       "2387  Children Shoe  Swerve ordinary to find your edge. Introduce a...   65.0   \n",
       "2388     Sportswear  The world's top runners enter the Berlin Marat...  180.0   \n",
       "2389      Originals  This fan and streetwear favorite knows a thing...  100.0   \n",
       "\n",
       "        neg    neu    pos  compound     score  \n",
       "0     0.032  0.842  0.126    0.7430  positive  \n",
       "1     0.000  0.854  0.146    0.8126  positive  \n",
       "2     0.035  0.854  0.111    0.6124  positive  \n",
       "3     0.000  0.777  0.223    0.9413  positive  \n",
       "4     0.028  0.903  0.068    0.4232  positive  \n",
       "...     ...    ...    ...       ...       ...  \n",
       "2385  0.054  0.798  0.148    0.9287  positive  \n",
       "2386  0.033  0.699  0.268    0.9810  positive  \n",
       "2387  0.000  0.963  0.037    0.2960  positive  \n",
       "2388  0.033  0.902  0.065    0.2732  positive  \n",
       "2389  0.000  0.809  0.191    0.9217  positive  \n",
       "\n",
       "[2339 rows x 8 columns]"
      ]
     },
     "execution_count": 49,
     "metadata": {},
     "output_type": "execute_result"
    }
   ],
   "source": [
    "df2['score'] = np.where(df2['compound'] < 0, 'negative', 'positive')\n",
    "df2"
   ]
  },
  {
   "cell_type": "code",
   "execution_count": 50,
   "id": "304bfad3",
   "metadata": {},
   "outputs": [
    {
     "data": {
      "image/png": "[encoded data removed]",
      "text/plain": [
       "<Figure size 640x480 with 1 Axes>"
      ]
     },
     "metadata": {},
     "output_type": "display_data"
    }
   ],
   "source": [
    "plt.scatter(df2['compound'], df2[\"price\"], alpha=0.2)\n",
    "plt.xlabel(\"Sentiment Score\")\n",
    "plt.ylabel(\"Price\")\n",
    "plt.title(\"Relationship between user's ratings and price\")\n",
    "plt.show()"
   ]
  },
  {
   "cell_type": "code",
   "execution_count": 33,
   "id": "8f7cb83f",
   "metadata": {},
   "outputs": [],
   "source": [
    "X = df2[['compound']]\n",
    "y = df2['price']\n",
    "X_train, X_test, y_train, y_test = train_test_split(X, y, train_size=0.75, shuffle=True, random_state=109)"
   ]
  },
  {
   "cell_type": "code",
   "execution_count": 34,
   "id": "a810c270",
   "metadata": {},
   "outputs": [
    {
     "data": {
      "text/plain": [
       "((1776, 1), (592, 1), (1776,), (592,))"
      ]
     },
     "execution_count": 34,
     "metadata": {},
     "output_type": "execute_result"
    }
   ],
   "source": [
    "X_train.shape, X_test.shape, y_train.shape, y_test.shape"
   ]
  },
  {
   "cell_type": "code",
   "execution_count": 35,
   "id": "2b435f0e",
   "metadata": {},
   "outputs": [
    {
     "name": "stdout",
     "output_type": "stream",
     "text": [
      "MSE is 7201.5611; R score is 0.0001\n"
     ]
    }
   ],
   "source": [
    "lreg = LinearRegression().fit(X_train, y_train)\n",
    "\n",
    "y_pred = lreg.predict(X_test)\n",
    "MSE = mean_squared_error(y_test, y_pred)\n",
    "\n",
    "r2 = r2_score(y_test, y_pred)\n",
    "\n",
    "print(\"MSE is {:.4f}; R score is {:.4f}\".format(MSE,r2))"
   ]
  },
  {
   "cell_type": "code",
   "execution_count": null,
   "id": "d7d7efd8",
   "metadata": {},
   "outputs": [],
   "source": []
  },
  {
   "cell_type": "markdown",
   "id": "589e62b2",
   "metadata": {},
   "source": [
    "# Just for the nagative score description"
   ]
  },
  {
   "cell_type": "code",
   "execution_count": 51,
   "id": "3dd99738",
   "metadata": {},
   "outputs": [
    {
     "name": "stdout",
     "output_type": "stream",
     "text": [
      "There are 2125 positive descritions and 214 negative descriptions.\n"
     ]
    }
   ],
   "source": [
    "positive_des = (df2['score']=='positive').sum()\n",
    "negative_des = (df2['score']=='negative').sum()\n",
    "print(f\"There are {positive_des} positive descritions and {negative_des} negative descriptions.\")"
   ]
  },
  {
   "cell_type": "code",
   "execution_count": 53,
   "id": "eae6767a",
   "metadata": {},
   "outputs": [
    {
     "data": {
      "text/html": [
       "<div>\n",
       "<style scoped>\n",
       "    .dataframe tbody tr th:only-of-type {\n",
       "        vertical-align: middle;\n",
       "    }\n",
       "\n",
       "    .dataframe tbody tr th {\n",
       "        vertical-align: top;\n",
       "    }\n",
       "\n",
       "    .dataframe thead th {\n",
       "        text-align: right;\n",
       "    }\n",
       "</style>\n",
       "<table border=\"1\" class=\"dataframe\">\n",
       "  <thead>\n",
       "    <tr style=\"text-align: right;\">\n",
       "      <th></th>\n",
       "      <th>subtitle</th>\n",
       "      <th>description</th>\n",
       "      <th>price</th>\n",
       "      <th>neg</th>\n",
       "      <th>neu</th>\n",
       "      <th>pos</th>\n",
       "      <th>compound</th>\n",
       "      <th>score</th>\n",
       "    </tr>\n",
       "  </thead>\n",
       "  <tbody>\n",
       "    <tr>\n",
       "      <th>9</th>\n",
       "      <td>Essentials</td>\n",
       "      <td>These adidas sneakers are tasteful and minimal...</td>\n",
       "      <td>60.0</td>\n",
       "      <td>0.110</td>\n",
       "      <td>0.829</td>\n",
       "      <td>0.061</td>\n",
       "      <td>-0.4902</td>\n",
       "      <td>negative</td>\n",
       "    </tr>\n",
       "    <tr>\n",
       "      <th>21</th>\n",
       "      <td>Originals</td>\n",
       "      <td>Timeless appeal. Effortless style. Everyday ve...</td>\n",
       "      <td>95.0</td>\n",
       "      <td>0.048</td>\n",
       "      <td>0.905</td>\n",
       "      <td>0.047</td>\n",
       "      <td>-0.0258</td>\n",
       "      <td>negative</td>\n",
       "    </tr>\n",
       "    <tr>\n",
       "      <th>31</th>\n",
       "      <td>Originals</td>\n",
       "      <td>When worlds collide, magic happens. These adid...</td>\n",
       "      <td>70.0</td>\n",
       "      <td>0.036</td>\n",
       "      <td>0.964</td>\n",
       "      <td>0.000</td>\n",
       "      <td>-0.0772</td>\n",
       "      <td>negative</td>\n",
       "    </tr>\n",
       "    <tr>\n",
       "      <th>37</th>\n",
       "      <td>Originals</td>\n",
       "      <td>Millions of people have laced into adidas Stan...</td>\n",
       "      <td>100.0</td>\n",
       "      <td>0.103</td>\n",
       "      <td>0.851</td>\n",
       "      <td>0.047</td>\n",
       "      <td>-0.8176</td>\n",
       "      <td>negative</td>\n",
       "    </tr>\n",
       "    <tr>\n",
       "      <th>47</th>\n",
       "      <td>Originals</td>\n",
       "      <td>Remember the epic shots, close games and fierc...</td>\n",
       "      <td>110.0</td>\n",
       "      <td>0.036</td>\n",
       "      <td>0.934</td>\n",
       "      <td>0.031</td>\n",
       "      <td>-0.0772</td>\n",
       "      <td>negative</td>\n",
       "    </tr>\n",
       "    <tr>\n",
       "      <th>...</th>\n",
       "      <td>...</td>\n",
       "      <td>...</td>\n",
       "      <td>...</td>\n",
       "      <td>...</td>\n",
       "      <td>...</td>\n",
       "      <td>...</td>\n",
       "      <td>...</td>\n",
       "      <td>...</td>\n",
       "    </tr>\n",
       "    <tr>\n",
       "      <th>2294</th>\n",
       "      <td>Originals</td>\n",
       "      <td>Statement makers and risk takers, these adidas...</td>\n",
       "      <td>100.0</td>\n",
       "      <td>0.148</td>\n",
       "      <td>0.734</td>\n",
       "      <td>0.118</td>\n",
       "      <td>-0.0562</td>\n",
       "      <td>negative</td>\n",
       "    </tr>\n",
       "    <tr>\n",
       "      <th>2301</th>\n",
       "      <td>Children Shoe</td>\n",
       "      <td>When you step onto the pitch, don't just play ...</td>\n",
       "      <td>50.0</td>\n",
       "      <td>0.115</td>\n",
       "      <td>0.860</td>\n",
       "      <td>0.025</td>\n",
       "      <td>-0.7805</td>\n",
       "      <td>negative</td>\n",
       "    </tr>\n",
       "    <tr>\n",
       "      <th>2317</th>\n",
       "      <td>Children Shoe</td>\n",
       "      <td>Throw it back to '70s Southern California skat...</td>\n",
       "      <td>65.0</td>\n",
       "      <td>0.065</td>\n",
       "      <td>0.905</td>\n",
       "      <td>0.031</td>\n",
       "      <td>-0.2023</td>\n",
       "      <td>negative</td>\n",
       "    </tr>\n",
       "    <tr>\n",
       "      <th>2325</th>\n",
       "      <td>Basketball</td>\n",
       "      <td>Strike when your opponent least expects it. Dr...</td>\n",
       "      <td>150.0</td>\n",
       "      <td>0.118</td>\n",
       "      <td>0.789</td>\n",
       "      <td>0.092</td>\n",
       "      <td>-0.1697</td>\n",
       "      <td>negative</td>\n",
       "    </tr>\n",
       "    <tr>\n",
       "      <th>2384</th>\n",
       "      <td>Children Shoe</td>\n",
       "      <td>The future awaits, but the past still leaves a...</td>\n",
       "      <td>80.0</td>\n",
       "      <td>0.139</td>\n",
       "      <td>0.804</td>\n",
       "      <td>0.057</td>\n",
       "      <td>-0.7964</td>\n",
       "      <td>negative</td>\n",
       "    </tr>\n",
       "  </tbody>\n",
       "</table>\n",
       "<p>214 rows × 8 columns</p>\n",
       "</div>"
      ],
      "text/plain": [
       "           subtitle                                        description  price  \\\n",
       "9        Essentials  These adidas sneakers are tasteful and minimal...   60.0   \n",
       "21        Originals  Timeless appeal. Effortless style. Everyday ve...   95.0   \n",
       "31        Originals  When worlds collide, magic happens. These adid...   70.0   \n",
       "37        Originals  Millions of people have laced into adidas Stan...  100.0   \n",
       "47        Originals  Remember the epic shots, close games and fierc...  110.0   \n",
       "...             ...                                                ...    ...   \n",
       "2294      Originals  Statement makers and risk takers, these adidas...  100.0   \n",
       "2301  Children Shoe  When you step onto the pitch, don't just play ...   50.0   \n",
       "2317  Children Shoe  Throw it back to '70s Southern California skat...   65.0   \n",
       "2325     Basketball  Strike when your opponent least expects it. Dr...  150.0   \n",
       "2384  Children Shoe  The future awaits, but the past still leaves a...   80.0   \n",
       "\n",
       "        neg    neu    pos  compound     score  \n",
       "9     0.110  0.829  0.061   -0.4902  negative  \n",
       "21    0.048  0.905  0.047   -0.0258  negative  \n",
       "31    0.036  0.964  0.000   -0.0772  negative  \n",
       "37    0.103  0.851  0.047   -0.8176  negative  \n",
       "47    0.036  0.934  0.031   -0.0772  negative  \n",
       "...     ...    ...    ...       ...       ...  \n",
       "2294  0.148  0.734  0.118   -0.0562  negative  \n",
       "2301  0.115  0.860  0.025   -0.7805  negative  \n",
       "2317  0.065  0.905  0.031   -0.2023  negative  \n",
       "2325  0.118  0.789  0.092   -0.1697  negative  \n",
       "2384  0.139  0.804  0.057   -0.7964  negative  \n",
       "\n",
       "[214 rows x 8 columns]"
      ]
     },
     "execution_count": 53,
     "metadata": {},
     "output_type": "execute_result"
    }
   ],
   "source": [
    "neg = df2[df2['score']=='negative']\n",
    "neg"
   ]
  },
  {
   "cell_type": "code",
   "execution_count": 38,
   "id": "2427146a",
   "metadata": {},
   "outputs": [
    {
     "data": {
      "image/png": "[encoded data removed]",
      "text/plain": [
       "<Figure size 640x480 with 1 Axes>"
      ]
     },
     "metadata": {},
     "output_type": "display_data"
    }
   ],
   "source": [
    "plt.scatter(neg['compound'], neg[\"price\"], alpha=0.2)\n",
    "plt.xlabel(\"Sentiment Score\")\n",
    "plt.ylabel(\"Price\")\n",
    "plt.title(\"Relationship between user's ratings and price for the negative description\")\n",
    "plt.show()"
   ]
  },
  {
   "cell_type": "code",
   "execution_count": 39,
   "id": "bb40cc4a",
   "metadata": {},
   "outputs": [],
   "source": [
    "X_n = neg[['compound']]\n",
    "y_n = neg['price']\n",
    "X_train_n, X_test_n, y_train_n, y_test_n = train_test_split(X_n, y_n, train_size=0.75, shuffle=True, random_state=109)"
   ]
  },
  {
   "cell_type": "code",
   "execution_count": 40,
   "id": "caea8f29",
   "metadata": {},
   "outputs": [
    {
     "data": {
      "text/plain": [
       "((161, 1), (54, 1), (161,), (54,))"
      ]
     },
     "execution_count": 40,
     "metadata": {},
     "output_type": "execute_result"
    }
   ],
   "source": [
    "X_train_n.shape, X_test_n.shape, y_train_n.shape, y_test_n.shape"
   ]
  },
  {
   "cell_type": "code",
   "execution_count": 41,
   "id": "875b0230",
   "metadata": {},
   "outputs": [],
   "source": [
    "# Fitting Linear Regression \n",
    "lreg = LinearRegression()\n",
    "linreg = lreg.fit(X_train_n,y_train_n)\n",
    "# Compute the MSE of the model\n",
    "y_hat_train_n = lreg.predict(X_train_n)\n",
    "lin_train_mse_n = mean_squared_error(y_train_n, y_hat_train_n)\n",
    "\n",
    "y_hat_test_n = lreg.predict(X_test_n)\n",
    "lin_test_mse_n = mean_squared_error(y_test_n, y_hat_test_n)\n",
    "\n",
    "# Compute the R-squared of the model\n",
    "r2_n = r2_score(y_test_n, y_hat_test_n)"
   ]
  },
  {
   "cell_type": "code",
   "execution_count": 42,
   "id": "9a7db8bf",
   "metadata": {},
   "outputs": [
    {
     "name": "stdout",
     "output_type": "stream",
     "text": [
      "Train MSE is 1508.9320 and Test MSE is 1451.7917\n",
      "Test R-squared is 0.0277\n"
     ]
    }
   ],
   "source": [
    "print(\"Train MSE is {:.4f} and Test MSE is {:.4f}\".format(lin_train_mse_n,lin_test_mse_n,))\n",
    "print(f\"Test R-squared is {r2_n:.4f}\")"
   ]
  },
  {
   "cell_type": "code",
   "execution_count": 43,
   "id": "3a3751a1",
   "metadata": {},
   "outputs": [],
   "source": [
    "degree, train_mses_mean, val_mses_mean, val_mses_std = [],[],[],[]\n",
    "max_deg = 30\n",
    "\n",
    "for i in range(1, max_deg+1):    \n",
    "    degree.append(i)\n",
    "    x_poly_train = PolynomialFeatures(degree = i).fit_transform(X_train)\n",
    "    lreg = LinearRegression(fit_intercept=False)\n",
    "    cross = cross_validate(lreg, x_poly_train, y_train, cv=10, scoring=\"neg_mean_squared_error\", return_train_score=True)\n",
    "    avg_val_score = -np.mean(cross['test_score'])\n",
    "    avg_train_score = -np.mean(cross['train_score'])\n",
    "    train_mses_mean.append(avg_train_score)\n",
    "    val_mses_mean.append(avg_val_score)   \n",
    "    val_mses_std.append(np.std(cross['test_score']))"
   ]
  },
  {
   "cell_type": "code",
   "execution_count": 45,
   "id": "ab6cf7b6",
   "metadata": {},
   "outputs": [
    {
     "name": "stdout",
     "output_type": "stream",
     "text": [
      "The lowest polynomial degree for the validation error is 27\n",
      "The train MSE value corresponding to this degree is 6797.160699195311\n",
      "The validation MSE value corresponding to this degree is 7056.989065866769\n"
     ]
    }
   ],
   "source": [
    "print(\"The lowest polynomial degree for the validation error is \" + str(np.argmin(val_mses_mean)+1))\n",
    "print(\"The train MSE value corresponding to this degree is \" + str(train_mses_mean[np.argmin(val_mses_mean)]))\n",
    "print(\"The validation MSE value corresponding to this degree is \" + str(val_mses_mean[np.argmin(val_mses_mean)]))"
   ]
  },
  {
   "cell_type": "code",
   "execution_count": 55,
   "id": "fe76707c",
   "metadata": {},
   "outputs": [],
   "source": [
    "neg_og = neg[neg['subtitle']=='Originals']"
   ]
  },
  {
   "cell_type": "code",
   "execution_count": 56,
   "id": "9c3f6e84",
   "metadata": {},
   "outputs": [
    {
     "data": {
      "image/png": "[encoded data removed]",
      "text/plain": [
       "<Figure size 640x480 with 1 Axes>"
      ]
     },
     "metadata": {},
     "output_type": "display_data"
    }
   ],
   "source": [
    "plt.scatter(neg_og['compound'], neg_og[\"price\"], alpha=0.2)\n",
    "plt.xlabel(\"Sentiment Score\")\n",
    "plt.ylabel(\"Price\")\n",
    "plt.title(\"Relationship between user's ratings and price for the negative description\")\n",
    "plt.show()"
   ]
  },
  {
   "cell_type": "code",
   "execution_count": 57,
   "id": "8850ba32",
   "metadata": {},
   "outputs": [],
   "source": [
    "X_og = neg[['compound']]\n",
    "y_og = neg['price']\n",
    "X_train_og, X_test_og, y_train_og, y_test_og = train_test_split(X_og, y_og, train_size=0.75, shuffle=True, random_state=109)"
   ]
  },
  {
   "cell_type": "code",
   "execution_count": 58,
   "id": "0d247ba1",
   "metadata": {},
   "outputs": [
    {
     "name": "stdout",
     "output_type": "stream",
     "text": [
      "Train MSE is 1242.0773 and Test MSE is 1637.6807\n",
      "Test R-squared is 0.0033\n"
     ]
    }
   ],
   "source": [
    "# Fitting Linear Regression \n",
    "lreg = LinearRegression()\n",
    "linreg = lreg.fit(X_train_og,y_train_og)\n",
    "# Compute the MSE of the model\n",
    "y_hat_train_og = lreg.predict(X_train_og)\n",
    "lin_train_mse_og = mean_squared_error(y_train_og, y_hat_train_og)\n",
    "\n",
    "y_hat_test_og = lreg.predict(X_test_og)\n",
    "lin_test_mse_og = mean_squared_error(y_test_og, y_hat_test_og)\n",
    "\n",
    "# Compute the R-squared of the model\n",
    "r2_og = r2_score(y_test_og, y_hat_test_og)\n",
    "\n",
    "print(\"Train MSE is {:.4f} and Test MSE is {:.4f}\".format(lin_train_mse_og,lin_test_mse_og,))\n",
    "print(f\"Test R-squared is {r2_og:.4f}\")"
   ]
  },
  {
   "cell_type": "markdown",
   "id": "1ae3baa4",
   "metadata": {},
   "source": [
    "### Okay, no more numeric comparison"
   ]
  },
  {
   "cell_type": "markdown",
   "id": "cb486c96",
   "metadata": {},
   "source": [
    "# NLP Section"
   ]
  },
  {
   "cell_type": "code",
   "execution_count": 173,
   "id": "c60a12f2",
   "metadata": {},
   "outputs": [
    {
     "data": {
      "text/html": [
       "<div>\n",
       "<style scoped>\n",
       "    .dataframe tbody tr th:only-of-type {\n",
       "        vertical-align: middle;\n",
       "    }\n",
       "\n",
       "    .dataframe tbody tr th {\n",
       "        vertical-align: top;\n",
       "    }\n",
       "\n",
       "    .dataframe thead th {\n",
       "        text-align: right;\n",
       "    }\n",
       "</style>\n",
       "<table border=\"1\" class=\"dataframe\">\n",
       "  <thead>\n",
       "    <tr style=\"text-align: right;\">\n",
       "      <th></th>\n",
       "      <th>description</th>\n",
       "      <th>price</th>\n",
       "    </tr>\n",
       "  </thead>\n",
       "  <tbody>\n",
       "    <tr>\n",
       "      <th>0</th>\n",
       "      <td>You'll want these adidas running shoes the nex...</td>\n",
       "      <td>65.0</td>\n",
       "    </tr>\n",
       "    <tr>\n",
       "      <th>1</th>\n",
       "      <td>One shoe to rule them all. School, work or kic...</td>\n",
       "      <td>130.0</td>\n",
       "    </tr>\n",
       "    <tr>\n",
       "      <th>2</th>\n",
       "      <td>Comfort is key, whether you're racing to catch...</td>\n",
       "      <td>90.0</td>\n",
       "    </tr>\n",
       "    <tr>\n",
       "      <th>3</th>\n",
       "      <td>Classics for a reason. These adidas slides are...</td>\n",
       "      <td>40.0</td>\n",
       "    </tr>\n",
       "    <tr>\n",
       "      <th>4</th>\n",
       "      <td>It doesn't really matter whether or not a run ...</td>\n",
       "      <td>85.0</td>\n",
       "    </tr>\n",
       "  </tbody>\n",
       "</table>\n",
       "</div>"
      ],
      "text/plain": [
       "                                         description  price\n",
       "0  You'll want these adidas running shoes the nex...   65.0\n",
       "1  One shoe to rule them all. School, work or kic...  130.0\n",
       "2  Comfort is key, whether you're racing to catch...   90.0\n",
       "3  Classics for a reason. These adidas slides are...   40.0\n",
       "4  It doesn't really matter whether or not a run ...   85.0"
      ]
     },
     "execution_count": 173,
     "metadata": {},
     "output_type": "execute_result"
    }
   ],
   "source": [
    "df_desc = adidas.loc[:, ['description', 'price']].copy()  # subset\n",
    "df_desc.dropna(inplace=True)  # drop na\n",
    "df_desc.head()"
   ]
  },
  {
   "cell_type": "code",
   "execution_count": 174,
   "id": "cdea73d3",
   "metadata": {},
   "outputs": [
    {
     "name": "stdout",
     "output_type": "stream",
     "text": [
      "We have 2,412 unique word in our reduced, corpus vocabulary.\n"
     ]
    }
   ],
   "source": [
    "# Following Tom's Nike NLP section codes\n",
    "df_desc['description'] = df_desc['description'].str.lower()\n",
    "df_desc['description'] = df_desc['description'].str.replace(r'([^\\w\\s]|_)+', '', regex=True)\n",
    "df_desc['description'] = df_desc['description'].str.split()\n",
    "stopwords = pd.read_csv('data/stopwords_nopunc.csv').stopwords.values\n",
    "df_desc['description'] = df_desc['description'].apply(lambda x: [str(w) for w in x if w not in stopwords])\n",
    "vocab_counts = df_desc['description'].explode().value_counts()\n",
    "min_count = 5\n",
    "vocab = [k for k,v in vocab_counts.items() if v >= 5]\n",
    "print(f\"We have {len(vocab):,} unique word in our reduced, corpus vocabulary.\")"
   ]
  },
  {
   "cell_type": "code",
   "execution_count": 127,
   "id": "bca6d69e",
   "metadata": {},
   "outputs": [
    {
     "data": {
      "text/html": [
       "<div>\n",
       "<style scoped>\n",
       "    .dataframe tbody tr th:only-of-type {\n",
       "        vertical-align: middle;\n",
       "    }\n",
       "\n",
       "    .dataframe tbody tr th {\n",
       "        vertical-align: top;\n",
       "    }\n",
       "\n",
       "    .dataframe thead th {\n",
       "        text-align: right;\n",
       "    }\n",
       "</style>\n",
       "<table border=\"1\" class=\"dataframe\">\n",
       "  <thead>\n",
       "    <tr style=\"text-align: right;\">\n",
       "      <th></th>\n",
       "      <th>want</th>\n",
       "      <th>adidas</th>\n",
       "      <th>running</th>\n",
       "      <th>shoes</th>\n",
       "      <th>next</th>\n",
       "      <th>time</th>\n",
       "      <th>step</th>\n",
       "      <th>route</th>\n",
       "      <th>classic</th>\n",
       "      <th>lines</th>\n",
       "      <th>...</th>\n",
       "      <th>lightningquick</th>\n",
       "      <th>sprintskin</th>\n",
       "      <th>relieving</th>\n",
       "      <th>orketro</th>\n",
       "      <th>empty</th>\n",
       "      <th>hellcat</th>\n",
       "      <th>extension</th>\n",
       "      <th>innings</th>\n",
       "      <th>cleated</th>\n",
       "      <th>agile</th>\n",
       "    </tr>\n",
       "  </thead>\n",
       "  <tbody>\n",
       "    <tr>\n",
       "      <th>0</th>\n",
       "      <td>1</td>\n",
       "      <td>1</td>\n",
       "      <td>1</td>\n",
       "      <td>1</td>\n",
       "      <td>1</td>\n",
       "      <td>1</td>\n",
       "      <td>1</td>\n",
       "      <td>1</td>\n",
       "      <td>1</td>\n",
       "      <td>1</td>\n",
       "      <td>...</td>\n",
       "      <td>0</td>\n",
       "      <td>0</td>\n",
       "      <td>0</td>\n",
       "      <td>0</td>\n",
       "      <td>0</td>\n",
       "      <td>0</td>\n",
       "      <td>0</td>\n",
       "      <td>0</td>\n",
       "      <td>0</td>\n",
       "      <td>0</td>\n",
       "    </tr>\n",
       "    <tr>\n",
       "      <th>1</th>\n",
       "      <td>0</td>\n",
       "      <td>1</td>\n",
       "      <td>0</td>\n",
       "      <td>1</td>\n",
       "      <td>0</td>\n",
       "      <td>0</td>\n",
       "      <td>0</td>\n",
       "      <td>0</td>\n",
       "      <td>0</td>\n",
       "      <td>0</td>\n",
       "      <td>...</td>\n",
       "      <td>0</td>\n",
       "      <td>0</td>\n",
       "      <td>0</td>\n",
       "      <td>0</td>\n",
       "      <td>0</td>\n",
       "      <td>0</td>\n",
       "      <td>0</td>\n",
       "      <td>0</td>\n",
       "      <td>0</td>\n",
       "      <td>0</td>\n",
       "    </tr>\n",
       "    <tr>\n",
       "      <th>2</th>\n",
       "      <td>0</td>\n",
       "      <td>1</td>\n",
       "      <td>1</td>\n",
       "      <td>1</td>\n",
       "      <td>0</td>\n",
       "      <td>0</td>\n",
       "      <td>0</td>\n",
       "      <td>0</td>\n",
       "      <td>0</td>\n",
       "      <td>0</td>\n",
       "      <td>...</td>\n",
       "      <td>0</td>\n",
       "      <td>0</td>\n",
       "      <td>0</td>\n",
       "      <td>0</td>\n",
       "      <td>0</td>\n",
       "      <td>0</td>\n",
       "      <td>0</td>\n",
       "      <td>0</td>\n",
       "      <td>0</td>\n",
       "      <td>0</td>\n",
       "    </tr>\n",
       "    <tr>\n",
       "      <th>3</th>\n",
       "      <td>0</td>\n",
       "      <td>1</td>\n",
       "      <td>0</td>\n",
       "      <td>0</td>\n",
       "      <td>0</td>\n",
       "      <td>0</td>\n",
       "      <td>0</td>\n",
       "      <td>0</td>\n",
       "      <td>0</td>\n",
       "      <td>0</td>\n",
       "      <td>...</td>\n",
       "      <td>0</td>\n",
       "      <td>0</td>\n",
       "      <td>0</td>\n",
       "      <td>0</td>\n",
       "      <td>0</td>\n",
       "      <td>0</td>\n",
       "      <td>0</td>\n",
       "      <td>0</td>\n",
       "      <td>0</td>\n",
       "      <td>0</td>\n",
       "    </tr>\n",
       "    <tr>\n",
       "      <th>4</th>\n",
       "      <td>0</td>\n",
       "      <td>1</td>\n",
       "      <td>0</td>\n",
       "      <td>1</td>\n",
       "      <td>0</td>\n",
       "      <td>0</td>\n",
       "      <td>0</td>\n",
       "      <td>0</td>\n",
       "      <td>0</td>\n",
       "      <td>0</td>\n",
       "      <td>...</td>\n",
       "      <td>0</td>\n",
       "      <td>0</td>\n",
       "      <td>0</td>\n",
       "      <td>0</td>\n",
       "      <td>0</td>\n",
       "      <td>0</td>\n",
       "      <td>0</td>\n",
       "      <td>0</td>\n",
       "      <td>0</td>\n",
       "      <td>0</td>\n",
       "    </tr>\n",
       "    <tr>\n",
       "      <th>...</th>\n",
       "      <td>...</td>\n",
       "      <td>...</td>\n",
       "      <td>...</td>\n",
       "      <td>...</td>\n",
       "      <td>...</td>\n",
       "      <td>...</td>\n",
       "      <td>...</td>\n",
       "      <td>...</td>\n",
       "      <td>...</td>\n",
       "      <td>...</td>\n",
       "      <td>...</td>\n",
       "      <td>...</td>\n",
       "      <td>...</td>\n",
       "      <td>...</td>\n",
       "      <td>...</td>\n",
       "      <td>...</td>\n",
       "      <td>...</td>\n",
       "      <td>...</td>\n",
       "      <td>...</td>\n",
       "      <td>...</td>\n",
       "      <td>...</td>\n",
       "    </tr>\n",
       "    <tr>\n",
       "      <th>2363</th>\n",
       "      <td>0</td>\n",
       "      <td>1</td>\n",
       "      <td>0</td>\n",
       "      <td>1</td>\n",
       "      <td>0</td>\n",
       "      <td>0</td>\n",
       "      <td>0</td>\n",
       "      <td>0</td>\n",
       "      <td>0</td>\n",
       "      <td>0</td>\n",
       "      <td>...</td>\n",
       "      <td>0</td>\n",
       "      <td>0</td>\n",
       "      <td>0</td>\n",
       "      <td>0</td>\n",
       "      <td>0</td>\n",
       "      <td>0</td>\n",
       "      <td>0</td>\n",
       "      <td>0</td>\n",
       "      <td>0</td>\n",
       "      <td>0</td>\n",
       "    </tr>\n",
       "    <tr>\n",
       "      <th>2364</th>\n",
       "      <td>0</td>\n",
       "      <td>2</td>\n",
       "      <td>0</td>\n",
       "      <td>0</td>\n",
       "      <td>0</td>\n",
       "      <td>1</td>\n",
       "      <td>0</td>\n",
       "      <td>0</td>\n",
       "      <td>0</td>\n",
       "      <td>0</td>\n",
       "      <td>...</td>\n",
       "      <td>0</td>\n",
       "      <td>0</td>\n",
       "      <td>0</td>\n",
       "      <td>0</td>\n",
       "      <td>0</td>\n",
       "      <td>0</td>\n",
       "      <td>0</td>\n",
       "      <td>0</td>\n",
       "      <td>0</td>\n",
       "      <td>0</td>\n",
       "    </tr>\n",
       "    <tr>\n",
       "      <th>2365</th>\n",
       "      <td>0</td>\n",
       "      <td>1</td>\n",
       "      <td>0</td>\n",
       "      <td>1</td>\n",
       "      <td>0</td>\n",
       "      <td>0</td>\n",
       "      <td>0</td>\n",
       "      <td>0</td>\n",
       "      <td>0</td>\n",
       "      <td>0</td>\n",
       "      <td>...</td>\n",
       "      <td>0</td>\n",
       "      <td>0</td>\n",
       "      <td>0</td>\n",
       "      <td>0</td>\n",
       "      <td>0</td>\n",
       "      <td>0</td>\n",
       "      <td>0</td>\n",
       "      <td>0</td>\n",
       "      <td>0</td>\n",
       "      <td>0</td>\n",
       "    </tr>\n",
       "    <tr>\n",
       "      <th>2366</th>\n",
       "      <td>0</td>\n",
       "      <td>1</td>\n",
       "      <td>1</td>\n",
       "      <td>1</td>\n",
       "      <td>0</td>\n",
       "      <td>0</td>\n",
       "      <td>1</td>\n",
       "      <td>0</td>\n",
       "      <td>0</td>\n",
       "      <td>0</td>\n",
       "      <td>...</td>\n",
       "      <td>0</td>\n",
       "      <td>0</td>\n",
       "      <td>0</td>\n",
       "      <td>0</td>\n",
       "      <td>0</td>\n",
       "      <td>0</td>\n",
       "      <td>0</td>\n",
       "      <td>0</td>\n",
       "      <td>0</td>\n",
       "      <td>0</td>\n",
       "    </tr>\n",
       "    <tr>\n",
       "      <th>2367</th>\n",
       "      <td>0</td>\n",
       "      <td>1</td>\n",
       "      <td>0</td>\n",
       "      <td>0</td>\n",
       "      <td>0</td>\n",
       "      <td>1</td>\n",
       "      <td>0</td>\n",
       "      <td>0</td>\n",
       "      <td>0</td>\n",
       "      <td>0</td>\n",
       "      <td>...</td>\n",
       "      <td>0</td>\n",
       "      <td>0</td>\n",
       "      <td>0</td>\n",
       "      <td>0</td>\n",
       "      <td>0</td>\n",
       "      <td>0</td>\n",
       "      <td>0</td>\n",
       "      <td>0</td>\n",
       "      <td>0</td>\n",
       "      <td>0</td>\n",
       "    </tr>\n",
       "  </tbody>\n",
       "</table>\n",
       "<p>2368 rows × 2412 columns</p>\n",
       "</div>"
      ],
      "text/plain": [
       "      want  adidas  running  shoes  next  time  step  route  classic  lines  \\\n",
       "0        1       1        1      1     1     1     1      1        1      1   \n",
       "1        0       1        0      1     0     0     0      0        0      0   \n",
       "2        0       1        1      1     0     0     0      0        0      0   \n",
       "3        0       1        0      0     0     0     0      0        0      0   \n",
       "4        0       1        0      1     0     0     0      0        0      0   \n",
       "...    ...     ...      ...    ...   ...   ...   ...    ...      ...    ...   \n",
       "2363     0       1        0      1     0     0     0      0        0      0   \n",
       "2364     0       2        0      0     0     1     0      0        0      0   \n",
       "2365     0       1        0      1     0     0     0      0        0      0   \n",
       "2366     0       1        1      1     0     0     1      0        0      0   \n",
       "2367     0       1        0      0     0     1     0      0        0      0   \n",
       "\n",
       "      ...  lightningquick  sprintskin  relieving  orketro  empty  hellcat  \\\n",
       "0     ...               0           0          0        0      0        0   \n",
       "1     ...               0           0          0        0      0        0   \n",
       "2     ...               0           0          0        0      0        0   \n",
       "3     ...               0           0          0        0      0        0   \n",
       "4     ...               0           0          0        0      0        0   \n",
       "...   ...             ...         ...        ...      ...    ...      ...   \n",
       "2363  ...               0           0          0        0      0        0   \n",
       "2364  ...               0           0          0        0      0        0   \n",
       "2365  ...               0           0          0        0      0        0   \n",
       "2366  ...               0           0          0        0      0        0   \n",
       "2367  ...               0           0          0        0      0        0   \n",
       "\n",
       "      extension  innings  cleated  agile  \n",
       "0             0        0        0      0  \n",
       "1             0        0        0      0  \n",
       "2             0        0        0      0  \n",
       "3             0        0        0      0  \n",
       "4             0        0        0      0  \n",
       "...         ...      ...      ...    ...  \n",
       "2363          0        0        0      0  \n",
       "2364          0        0        0      0  \n",
       "2365          0        0        0      0  \n",
       "2366          0        0        0      0  \n",
       "2367          0        0        0      0  \n",
       "\n",
       "[2368 rows x 2412 columns]"
      ]
     },
     "execution_count": 127,
     "metadata": {},
     "output_type": "execute_result"
    }
   ],
   "source": [
    "# vectorization methods\n",
    "df_desc['description'] = df_desc['description'].apply(lambda x: [w for w in x if w in vocab])\n",
    "counts = df_desc['description'].apply(Counter).to_list()\n",
    "bow_df = pd.DataFrame(counts).fillna(0).astype(int)\n",
    "bow_df"
   ]
  },
  {
   "cell_type": "code",
   "execution_count": 175,
   "id": "7fc99b5b",
   "metadata": {},
   "outputs": [],
   "source": [
    "df_desc.reset_index(drop=True, inplace=True)\n",
    "df_processed = pd.concat([bow_df, df_desc['price']], axis=1)\n",
    "df_processed['price'] = pd.cut(df_processed['price'], bins=5)\n",
    "df_processed['price'] = df_processed['price'].astype('string')"
   ]
  },
  {
   "cell_type": "markdown",
   "id": "7bb11251",
   "metadata": {},
   "source": [
    "# Naive Bayes"
   ]
  },
  {
   "cell_type": "code",
   "execution_count": 188,
   "id": "923135a8",
   "metadata": {},
   "outputs": [],
   "source": [
    "X_train, X_test, y_train, y_test = train_test_split(df_processed.drop('price', axis=1),\n",
    "                                                    df_processed['price'], test_size=0.2, random_state=109)"
   ]
  },
  {
   "cell_type": "code",
   "execution_count": 179,
   "id": "9b319521",
   "metadata": {},
   "outputs": [
    {
     "data": {
      "text/plain": [
       "0.9556962025316456"
      ]
     },
     "execution_count": 179,
     "metadata": {},
     "output_type": "execute_result"
    }
   ],
   "source": [
    "mnb = MultinomialNB().fit(X_train, y_train)\n",
    "mnb.score(X_test, y_test)"
   ]
  },
  {
   "cell_type": "markdown",
   "id": "df597a26",
   "metadata": {},
   "source": [
    "# Linear Support Vector Machine"
   ]
  },
  {
   "cell_type": "code",
   "execution_count": 181,
   "id": "1d003156",
   "metadata": {},
   "outputs": [],
   "source": [
    "sgd = SGDClassifier(loss='hinge', penalty='l2',alpha=1e-3, random_state=42, max_iter=5, tol=None)"
   ]
  },
  {
   "cell_type": "code",
   "execution_count": 182,
   "id": "320486e8",
   "metadata": {},
   "outputs": [
    {
     "data": {
      "text/plain": [
       "0.9873417721518988"
      ]
     },
     "execution_count": 182,
     "metadata": {},
     "output_type": "execute_result"
    }
   ],
   "source": [
    "sgd.fit(X_train, y_train)\n",
    "y_pred = sgd.predict(X_test)\n",
    "accuracy = accuracy_score(y_pred, y_test)\n",
    "accuracy"
   ]
  },
  {
   "cell_type": "markdown",
   "id": "36ceb105",
   "metadata": {},
   "source": [
    "# Logistic Regression"
   ]
  },
  {
   "cell_type": "code",
   "execution_count": 185,
   "id": "bf61bb3f",
   "metadata": {},
   "outputs": [
    {
     "name": "stderr",
     "output_type": "stream",
     "text": [
      "/Users/mina/opt/anaconda3/lib/python3.8/site-packages/sklearn/linear_model/_logistic.py:762: ConvergenceWarning: lbfgs failed to converge (status=1):\n",
      "STOP: TOTAL NO. of ITERATIONS REACHED LIMIT.\n",
      "\n",
      "Increase the number of iterations (max_iter) or scale the data as shown in:\n",
      "    https://scikit-learn.org/stable/modules/preprocessing.html\n",
      "Please also refer to the documentation for alternative solver options:\n",
      "    https://scikit-learn.org/stable/modules/linear_model.html#logistic-regression\n",
      "  n_iter_i = _check_optimize_result(\n"
     ]
    },
    {
     "data": {
      "text/plain": [
       "0.9873417721518988"
      ]
     },
     "execution_count": 185,
     "metadata": {},
     "output_type": "execute_result"
    }
   ],
   "source": [
    "# TODO: need to find other ways\n",
    "logreg = LogisticRegression()\n",
    "logreg.fit(X_train, y_train)\n",
    "y_pred = logreg.predict(X_test)\n",
    "accuracy_log = accuracy_score(y_pred, y_test)\n",
    "accuracy_log"
   ]
  },
  {
   "cell_type": "markdown",
   "id": "8d44e45a",
   "metadata": {},
   "source": [
    "# Random Forest"
   ]
  },
  {
   "cell_type": "code",
   "execution_count": 191,
   "id": "54a1234b",
   "metadata": {},
   "outputs": [],
   "source": [
    "from sklearn.ensemble import RandomForestClassifier"
   ]
  },
  {
   "cell_type": "code",
   "execution_count": 196,
   "id": "e2a2c40d",
   "metadata": {},
   "outputs": [],
   "source": [
    "rf = RandomForestClassifier(n_estimators=1000, random_state=0).fit(X_train, y_train)\n",
    "random_forest_train_score = rf.score(X_train, y_train)\n",
    "random_forest_test_score = rf.score(X_test, y_test)"
   ]
  },
  {
   "cell_type": "code",
   "execution_count": 197,
   "id": "0a14e62a",
   "metadata": {},
   "outputs": [
    {
     "name": "stdout",
     "output_type": "stream",
     "text": [
      "random forest test score is 0.9873417721518988\n"
     ]
    }
   ],
   "source": [
    "print(f\"random forest test score is {random_forest_test_score}\")"
   ]
  },
  {
   "cell_type": "code",
   "execution_count": 198,
   "id": "9b78a22a",
   "metadata": {},
   "outputs": [
    {
     "name": "stdout",
     "output_type": "stream",
     "text": [
      "Top Predictor Counts - Random Forest\n"
     ]
    },
    {
     "data": {
      "text/html": [
       "<div>\n",
       "<style scoped>\n",
       "    .dataframe tbody tr th:only-of-type {\n",
       "        vertical-align: middle;\n",
       "    }\n",
       "\n",
       "    .dataframe tbody tr th {\n",
       "        vertical-align: top;\n",
       "    }\n",
       "\n",
       "    .dataframe thead th {\n",
       "        text-align: right;\n",
       "    }\n",
       "</style>\n",
       "<table border=\"1\" class=\"dataframe\">\n",
       "  <thead>\n",
       "    <tr style=\"text-align: right;\">\n",
       "      <th></th>\n",
       "      <th>Count</th>\n",
       "    </tr>\n",
       "  </thead>\n",
       "  <tbody>\n",
       "    <tr>\n",
       "      <th>mixing</th>\n",
       "      <td>26</td>\n",
       "    </tr>\n",
       "    <tr>\n",
       "      <th>tension</th>\n",
       "      <td>23</td>\n",
       "    </tr>\n",
       "    <tr>\n",
       "      <th>yohji</th>\n",
       "      <td>22</td>\n",
       "    </tr>\n",
       "    <tr>\n",
       "      <th>balenciaga</th>\n",
       "      <td>22</td>\n",
       "    </tr>\n",
       "    <tr>\n",
       "      <th>strong</th>\n",
       "      <td>21</td>\n",
       "    </tr>\n",
       "    <tr>\n",
       "      <th>...</th>\n",
       "      <td>...</td>\n",
       "    </tr>\n",
       "    <tr>\n",
       "      <th>progressive</th>\n",
       "      <td>1</td>\n",
       "    </tr>\n",
       "    <tr>\n",
       "      <th>log</th>\n",
       "      <td>1</td>\n",
       "    </tr>\n",
       "    <tr>\n",
       "      <th>height</th>\n",
       "      <td>1</td>\n",
       "    </tr>\n",
       "    <tr>\n",
       "      <th>terrain</th>\n",
       "      <td>1</td>\n",
       "    </tr>\n",
       "    <tr>\n",
       "      <th>dressed</th>\n",
       "      <td>1</td>\n",
       "    </tr>\n",
       "  </tbody>\n",
       "</table>\n",
       "<p>245 rows × 1 columns</p>\n",
       "</div>"
      ],
      "text/plain": [
       "             Count\n",
       "mixing          26\n",
       "tension         23\n",
       "yohji           22\n",
       "balenciaga      22\n",
       "strong          21\n",
       "...            ...\n",
       "progressive      1\n",
       "log              1\n",
       "height           1\n",
       "terrain          1\n",
       "dressed          1\n",
       "\n",
       "[245 rows x 1 columns]"
      ]
     },
     "metadata": {},
     "output_type": "display_data"
    }
   ],
   "source": [
    "top_predictors_rf = df_processed.columns[[dtree.tree_.feature[0] for dtree in rf.estimators_]]\n",
    "top_predictors_rf = pd.Series(top_predictors_rf).value_counts().sort_values(ascending = False)\n",
    "top_predictors_rf = pd.DataFrame(top_predictors_rf, columns = ['Count'])\n",
    "print(\"Top Predictor Counts - Random Forest\")\n",
    "display(top_predictors_rf)"
   ]
  },
  {
   "cell_type": "markdown",
   "id": "852af87a",
   "metadata": {},
   "source": [
    "# TFIDF"
   ]
  },
  {
   "cell_type": "markdown",
   "id": "70588c1c",
   "metadata": {},
   "source": [
    "Term frequency (TF) = (Number of Occurrences of a word)/(Total words in the document)"
   ]
  },
  {
   "cell_type": "code",
   "execution_count": null,
   "id": "79bdf397",
   "metadata": {},
   "outputs": [],
   "source": []
  }
 ],
 "metadata": {
  "kernelspec": {
   "display_name": "Python 3 (ipykernel)",
   "language": "python",
   "name": "python3"
  },
  "language_info": {
   "codemirror_mode": {
    "name": "ipython",
    "version": 3
   },
   "file_extension": ".py",
   "mimetype": "text/x-python",
   "name": "python",
   "nbconvert_exporter": "python",
   "pygments_lexer": "ipython3",
   "version": "3.8.5"
  }
 },
 "nbformat": 4,
 "nbformat_minor": 5
}
