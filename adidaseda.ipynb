{
 "cells": [
  {
   "cell_type": "markdown",
   "id": "56390bcf",
   "metadata": {},
   "source": [
    "## Imports"
   ]
  },
  {
   "cell_type": "code",
   "execution_count": 1,
   "id": "213ceacc",
   "metadata": {},
   "outputs": [],
   "source": [
    "import itertools\n",
    "import math\n",
    "from collections import Counter\n",
    "\n",
    "import numpy as np\n",
    "import pandas as pd\n",
    "import seaborn as sns\n",
    "import matplotlib.pyplot as plt\n",
    "\n",
    "from sklearn.linear_model import LinearRegression\n",
    "from sklearn.neighbors import KNeighborsRegressor\n",
    "from sklearn.decomposition import PCA\n",
    "from sklearn.metrics import r2_score\n",
    "from sklearn.impute import SimpleImputer, KNNImputer\n",
    "from sklearn.model_selection import train_test_split\n",
    "from sklearn.metrics import mean_squared_error, r2_score\n",
    "from sklearn.preprocessing import PolynomialFeatures\n",
    "from sklearn.preprocessing import StandardScaler\n",
    "from prettytable import PrettyTable\n",
    "from sklearn.compose import ColumnTransformer\n",
    "from sklearn.model_selection import cross_validate\n",
    "from sklearn.linear_model import LogisticRegression\n",
    "from sklearn.linear_model import LogisticRegressionCV\n",
    "from sklearn.naive_bayes import GaussianNB, MultinomialNB\n",
    "\n",
    "from sklearn.metrics import accuracy_score\n",
    "from sklearn.metrics import roc_curve\n",
    "from sklearn.metrics import roc_auc_score"
   ]
  },
  {
   "cell_type": "markdown",
   "id": "4e4e81bf",
   "metadata": {},
   "source": [
    "## Initial Observations"
   ]
  },
  {
   "cell_type": "code",
   "execution_count": 54,
   "id": "79576ca1",
   "metadata": {},
   "outputs": [
    {
     "name": "stdout",
     "output_type": "stream",
     "text": [
      "Basic information about our Adidas.com dataset:\n",
      "\n",
      "<class 'pandas.core.frame.DataFrame'>\n",
      "RangeIndex: 2390 entries, 0 to 2389\n",
      "Data columns (total 13 columns):\n",
      " #   Column         Non-Null Count  Dtype  \n",
      "---  ------         --------------  -----  \n",
      " 0   Unnamed: 0     2390 non-null   int64  \n",
      " 1   title          2389 non-null   object \n",
      " 2   subtitle       2360 non-null   object \n",
      " 3   num_colors     2390 non-null   object \n",
      " 4   url            2390 non-null   object \n",
      " 5   price          2386 non-null   object \n",
      " 6   reduced_price  2246 non-null   object \n",
      " 7   description    2368 non-null   object \n",
      " 8   details        2248 non-null   object \n",
      " 9   colors         1945 non-null   object \n",
      " 10  n_reviews      2180 non-null   float64\n",
      " 11  avg_stars      2180 non-null   float64\n",
      " 12  product_code   2390 non-null   object \n",
      "dtypes: float64(2), int64(1), object(10)\n",
      "memory usage: 242.9+ KB\n",
      "None\n",
      "\n",
      "\n",
      "A little more summary info about our data (there\n",
      "are only a few columns in our data, making this\n",
      "easy to inspect):\n",
      "\n",
      "         Unnamed: 0     n_reviews    avg_stars\n",
      "count  2390.000000   2180.000000  2180.000000\n",
      "mean   1194.500000    841.304128     4.578578\n",
      "std     690.077894   2402.486479     0.361305\n",
      "min       0.000000      1.000000     1.000000\n",
      "25%     597.250000     15.000000     4.500000\n",
      "50%    1194.500000     54.000000     4.700000\n",
      "75%    1791.750000    352.000000     4.800000\n",
      "max    2389.000000  16720.000000     5.000000\n",
      "\n",
      "\n",
      "And, the first few rows of our data:\n"
     ]
    },
    {
     "data": {
      "text/html": [
       "<div>\n",
       "<style scoped>\n",
       "    .dataframe tbody tr th:only-of-type {\n",
       "        vertical-align: middle;\n",
       "    }\n",
       "\n",
       "    .dataframe tbody tr th {\n",
       "        vertical-align: top;\n",
       "    }\n",
       "\n",
       "    .dataframe thead th {\n",
       "        text-align: right;\n",
       "    }\n",
       "</style>\n",
       "<table border=\"1\" class=\"dataframe\">\n",
       "  <thead>\n",
       "    <tr style=\"text-align: right;\">\n",
       "      <th></th>\n",
       "      <th>Unnamed: 0</th>\n",
       "      <th>title</th>\n",
       "      <th>subtitle</th>\n",
       "      <th>num_colors</th>\n",
       "      <th>url</th>\n",
       "      <th>price</th>\n",
       "      <th>reduced_price</th>\n",
       "      <th>description</th>\n",
       "      <th>details</th>\n",
       "      <th>colors</th>\n",
       "      <th>n_reviews</th>\n",
       "      <th>avg_stars</th>\n",
       "      <th>product_code</th>\n",
       "    </tr>\n",
       "  </thead>\n",
       "  <tbody>\n",
       "    <tr>\n",
       "      <th>0</th>\n",
       "      <td>0</td>\n",
       "      <td>Start Your Run Shoes</td>\n",
       "      <td>Women's Running</td>\n",
       "      <td>4 colors</td>\n",
       "      <td>/us/start-your-run-shoes/GY9233.html</td>\n",
       "      <td>$65</td>\n",
       "      <td>$33</td>\n",
       "      <td>You'll want these adidas running shoes the nex...</td>\n",
       "      <td>Regular fit; Lace closure; Textile upper; LIGH...</td>\n",
       "      <td>Dash Grey / Matte Silver / Core Black</td>\n",
       "      <td>5.0</td>\n",
       "      <td>4.8</td>\n",
       "      <td>GY9233</td>\n",
       "    </tr>\n",
       "    <tr>\n",
       "      <th>1</th>\n",
       "      <td>1</td>\n",
       "      <td>NMD_R1 Shoes</td>\n",
       "      <td>Youth Originals</td>\n",
       "      <td>1</td>\n",
       "      <td>/us/nmd_r1-shoes/H03994.html</td>\n",
       "      <td>$130</td>\n",
       "      <td>$91</td>\n",
       "      <td>One shoe to rule them all. School, work or kic...</td>\n",
       "      <td>Regular fit; Lace closure; Mesh upper; Boost m...</td>\n",
       "      <td>NaN</td>\n",
       "      <td>131.0</td>\n",
       "      <td>4.6</td>\n",
       "      <td>H03994</td>\n",
       "    </tr>\n",
       "    <tr>\n",
       "      <th>2</th>\n",
       "      <td>2</td>\n",
       "      <td>Edge Lux Shoes</td>\n",
       "      <td>Women's Training</td>\n",
       "      <td>5 colors</td>\n",
       "      <td>/us/edge-lux-shoes/GZ6741.html</td>\n",
       "      <td>$90</td>\n",
       "      <td>$45</td>\n",
       "      <td>Comfort is key, whether you're racing to catch...</td>\n",
       "      <td>Women's-specific fit; Lace closure; Textile up...</td>\n",
       "      <td>Core Black / Core Black / Iron Metallic</td>\n",
       "      <td>191.0</td>\n",
       "      <td>4.0</td>\n",
       "      <td>GZ6741</td>\n",
       "    </tr>\n",
       "    <tr>\n",
       "      <th>3</th>\n",
       "      <td>3</td>\n",
       "      <td>Adilette Comfort Slides</td>\n",
       "      <td>Sportswear</td>\n",
       "      <td>19 colors</td>\n",
       "      <td>/us/adilette-comfort-slides/GW9647.html</td>\n",
       "      <td>$40</td>\n",
       "      <td>$24</td>\n",
       "      <td>Classics for a reason. These adidas slides are...</td>\n",
       "      <td>Regular fit; Slip-on; Synthetic bandage upper;...</td>\n",
       "      <td>Core Black / Core White / Grey Six</td>\n",
       "      <td>9735.0</td>\n",
       "      <td>4.7</td>\n",
       "      <td>GW9647</td>\n",
       "    </tr>\n",
       "    <tr>\n",
       "      <th>4</th>\n",
       "      <td>4</td>\n",
       "      <td>Fluidflow 2.0 Shoes</td>\n",
       "      <td>Men's Sportswear</td>\n",
       "      <td>3 colors</td>\n",
       "      <td>https://www.adidas.com/us/fluidflow-2.0-shoes/...</td>\n",
       "      <td>$85</td>\n",
       "      <td>$51</td>\n",
       "      <td>It doesn't really matter whether or not a run ...</td>\n",
       "      <td>Lace closure; Knit textile upper; Breathable f...</td>\n",
       "      <td>Legend Ink / Cloud White / Shadow Maroon</td>\n",
       "      <td>866.0</td>\n",
       "      <td>4.6</td>\n",
       "      <td>GW4012</td>\n",
       "    </tr>\n",
       "  </tbody>\n",
       "</table>\n",
       "</div>"
      ],
      "text/plain": [
       "   Unnamed: 0                    title          subtitle num_colors  \\\n",
       "0           0     Start Your Run Shoes   Women's Running   4 colors   \n",
       "1           1             NMD_R1 Shoes   Youth Originals          1   \n",
       "2           2           Edge Lux Shoes  Women's Training   5 colors   \n",
       "3           3  Adilette Comfort Slides        Sportswear  19 colors   \n",
       "4           4      Fluidflow 2.0 Shoes  Men's Sportswear   3 colors   \n",
       "\n",
       "                                                 url price reduced_price  \\\n",
       "0               /us/start-your-run-shoes/GY9233.html   $65           $33   \n",
       "1                       /us/nmd_r1-shoes/H03994.html  $130           $91   \n",
       "2                     /us/edge-lux-shoes/GZ6741.html   $90           $45   \n",
       "3            /us/adilette-comfort-slides/GW9647.html   $40           $24   \n",
       "4  https://www.adidas.com/us/fluidflow-2.0-shoes/...   $85           $51   \n",
       "\n",
       "                                         description  \\\n",
       "0  You'll want these adidas running shoes the nex...   \n",
       "1  One shoe to rule them all. School, work or kic...   \n",
       "2  Comfort is key, whether you're racing to catch...   \n",
       "3  Classics for a reason. These adidas slides are...   \n",
       "4  It doesn't really matter whether or not a run ...   \n",
       "\n",
       "                                             details  \\\n",
       "0  Regular fit; Lace closure; Textile upper; LIGH...   \n",
       "1  Regular fit; Lace closure; Mesh upper; Boost m...   \n",
       "2  Women's-specific fit; Lace closure; Textile up...   \n",
       "3  Regular fit; Slip-on; Synthetic bandage upper;...   \n",
       "4  Lace closure; Knit textile upper; Breathable f...   \n",
       "\n",
       "                                      colors  n_reviews  avg_stars  \\\n",
       "0      Dash Grey / Matte Silver / Core Black        5.0        4.8   \n",
       "1                                        NaN      131.0        4.6   \n",
       "2    Core Black / Core Black / Iron Metallic      191.0        4.0   \n",
       "3         Core Black / Core White / Grey Six     9735.0        4.7   \n",
       "4   Legend Ink / Cloud White / Shadow Maroon      866.0        4.6   \n",
       "\n",
       "  product_code  \n",
       "0       GY9233  \n",
       "1       H03994  \n",
       "2       GZ6741  \n",
       "3       GW9647  \n",
       "4       GW4012  "
      ]
     },
     "metadata": {},
     "output_type": "display_data"
    }
   ],
   "source": [
    "adidas = pd.read_csv(\"data/adidas_merged_cleaned.csv\")\n",
    "\n",
    "print(\"Basic information about our Adidas.com dataset:\\n\")\n",
    "print(adidas.info())\n",
    "print(\n",
    "    \"\\n\\nA little more summary info about our data \"\n",
    "    \"(there\\nare only a few columns in our data, making \"\n",
    "    \"this\\neasy to inspect):\\n\\n\",\n",
    "    adidas.describe(),\n",
    ")\n",
    "print(\"\\n\\nAnd, the first few rows of our data:\")\n",
    "display(adidas.head())"
   ]
  },
  {
   "cell_type": "markdown",
   "id": "79bb6fdc",
   "metadata": {},
   "source": [
    "## Plot Numeric Variables"
   ]
  },
  {
   "cell_type": "code",
   "execution_count": 56,
   "id": "993779d0",
   "metadata": {},
   "outputs": [],
   "source": [
    "adidas['price'] = adidas['price'].str.replace('$','').str.replace(',','').astype(np.float64)"
   ]
  },
  {
   "cell_type": "code",
   "execution_count": 58,
   "id": "43e51923",
   "metadata": {},
   "outputs": [],
   "source": [
    "adidas['num_colors'] = adidas['num_colors'].str.extract('(\\d+)').astype(np.float64)"
   ]
  },
  {
   "cell_type": "code",
   "execution_count": 59,
   "id": "cb8c16fd",
   "metadata": {},
   "outputs": [
    {
     "data": {
      "image/png": "[encoded data removed]",
      "text/plain": [
       "<Figure size 1200x500 with 3 Axes>"
      ]
     },
     "metadata": {},
     "output_type": "display_data"
    }
   ],
   "source": [
    "fig, axes = plt.subplots(1, 3, sharey=True, figsize=(12, 5))\n",
    "\n",
    "fontsize = 14\n",
    "\n",
    "cols = [\"num_colors\", \"n_reviews\", \"avg_stars\"] \n",
    "title_vs_text = [\"num_colors\", \"n_reviews\", \"avg_stars\"]\n",
    "xlabels = [\"Number of Colors\", \"Number of Reviews\", \"Average Stars\"]\n",
    "\n",
    "for i, (ax, col, title_vs, xlabel) in enumerate(\n",
    "    zip(axes, cols, title_vs_text, xlabels)\n",
    "):\n",
    "\n",
    "    ax.scatter(adidas[col], adidas[\"price\"], alpha=0.4)\n",
    "    ax.set_title(\n",
    "        f\"Price vs. {title_vs}\",\n",
    "        fontsize=fontsize,\n",
    "    )\n",
    "    ax.set_xlabel(xlabel, fontsize=fontsize-2)\n",
    "    ax.set_ylabel(\n",
    "        \"Price\" if i==0 else None, \n",
    "        fontsize=fontsize-2\n",
    "    )\n",
    "    ax.grid(\":\", alpha=0.4)\n",
    "\n",
    "plt.tight_layout()"
   ]
  },
  {
   "cell_type": "code",
   "execution_count": 60,
   "id": "473dd711",
   "metadata": {},
   "outputs": [
    {
     "data": {
      "image/png": "[encoded data removed]",
      "text/plain": [
       "<Figure size 640x480 with 2 Axes>"
      ]
     },
     "metadata": {},
     "output_type": "display_data"
    }
   ],
   "source": [
    "cor = adidas.drop('Unnamed: 0', axis=1).corr()\n",
    "\n",
    "sns.heatmap(cor, cmap='Blues')\n",
    "plt.show()"
   ]
  },
  {
   "cell_type": "markdown",
   "id": "f2eada30",
   "metadata": {},
   "source": [
    "## Plot Categorical Variables"
   ]
  },
  {
   "cell_type": "code",
   "execution_count": 62,
   "id": "6707e08d",
   "metadata": {},
   "outputs": [
    {
     "data": {
      "text/plain": [
       "Men's • Originals          290\n",
       "Kids Unisex • Originals    222\n",
       "Women's • Originals        167\n",
       "Men's • Running            110\n",
       "Women's • Running           97\n",
       "Name: subtitle, dtype: int64"
      ]
     },
     "execution_count": 62,
     "metadata": {},
     "output_type": "execute_result"
    }
   ],
   "source": [
    "top_subtitles = adidas.subtitle.value_counts().head()\n",
    "top_subtitles"
   ]
  },
  {
   "cell_type": "code",
   "execution_count": 63,
   "id": "a679c774",
   "metadata": {},
   "outputs": [],
   "source": [
    "adidas_top_subtitles = adidas.loc[adidas.subtitle.isin(top_subtitles.index.tolist())]"
   ]
  },
  {
   "cell_type": "code",
   "execution_count": 64,
   "id": "3d627717",
   "metadata": {
    "tags": []
   },
   "outputs": [
    {
     "data": {
      "image/png": "[encoded data removed]",
      "text/plain": [
       "<Figure size 640x480 with 1 Axes>"
      ]
     },
     "metadata": {},
     "output_type": "display_data"
    }
   ],
   "source": [
    "top_subtitles_sorted = adidas_top_subtitles.groupby('subtitle').price.median().sort_values(ascending=False)\n",
    "\n",
    "# order box plot by median\n",
    "sns.boxplot(data=adidas_top_subtitles, y='subtitle', x='price', order=top_subtitles_sorted.index)\n",
    "plt.xlabel('Price')\n",
    "plt.ylabel('Subtitle')\n",
    "plt.title('Sorted Boxplot of Top Subtitles by Price')\n",
    "plt.show()"
   ]
  },
  {
   "cell_type": "markdown",
   "id": "9f40667f",
   "metadata": {},
   "source": [
    "## Numeric Stats"
   ]
  },
  {
   "cell_type": "code",
   "execution_count": 65,
   "id": "64fc7c0f",
   "metadata": {},
   "outputs": [
    {
     "name": "stdout",
     "output_type": "stream",
     "text": [
      "\n",
      "The mean price is 119.7339 \n",
      "The mean number of colors is 5.6943 \n",
      "The Standard Deviation of price is 87.6957\n",
      "The Standard Deviation of number of colors is 6.2613\n"
     ]
    }
   ],
   "source": [
    "mean_price = adidas[\"price\"].mean() \n",
    "mean_noc = adidas[\"num_colors\"].mean()\n",
    "std_price = adidas[\"price\"].std() \n",
    "std_noc = adidas[\"num_colors\"].std()\n",
    "print(\n",
    "    \"\\n\"\n",
    "    f\"The mean price is {mean_price:.4f} \\n\"\n",
    "    f\"The mean number of colors is {mean_noc:.4f} \\n\"\n",
    "    f\"The Standard Deviation of price is {std_price:.4f}\\n\"\n",
    "    f\"The Standard Deviation of number of colors is {std_noc:.4f}\"\n",
    ")"
   ]
  },
  {
   "cell_type": "code",
   "execution_count": 66,
   "id": "609f4a1f",
   "metadata": {},
   "outputs": [
    {
     "name": "stdout",
     "output_type": "stream",
     "text": [
      "The range of price for which shoes in our dataset is 1,125.00 dolloars. \n",
      "\n",
      "The maximum number of price is 1,150.00, and the minimum is 25.00.\n"
     ]
    }
   ],
   "source": [
    "price_min = adidas[\"price\"].min()\n",
    "price_max = adidas[\"price\"].max() \n",
    "price_range = price_max - price_min \n",
    "\n",
    "print(\n",
    "    f\"The range of price for which shoes in our dataset \"\n",
    "    f\"is {price_range:,.2f} dolloars. \\n\\n\"\n",
    "    f\"The maximum number of price is {price_max:,.2f}, \"\n",
    "    f\"and the minimum is {price_min:,.2f}.\"\n",
    ")"
   ]
  },
  {
   "cell_type": "code",
   "execution_count": 89,
   "id": "d31a043b",
   "metadata": {},
   "outputs": [
    {
     "name": "stderr",
     "output_type": "stream",
     "text": [
      "/Users/mina/opt/anaconda3/lib/python3.8/site-packages/seaborn/distributions.py:2551: FutureWarning: `distplot` is a deprecated function and will be removed in a future version. Please adapt your code to use either `displot` (a figure-level function with similar flexibility) or `histplot` (an axes-level function for histograms).\n",
      "  warnings.warn(msg, FutureWarning)\n"
     ]
    },
    {
     "data": {
      "image/png": "[encoded data removed]",
      "text/plain": [
       "<Figure size 1200x800 with 1 Axes>"
      ]
     },
     "metadata": {},
     "output_type": "display_data"
    }
   ],
   "source": [
    "plt.figure(figsize=(12,8))\n",
    "#ploting the mean\n",
    "plt.axvline(mean_price, 0, 1, color = 'red')\n",
    "sns.distplot(adidas['price'], color='orange')\n",
    "plt.title(\"Distirbution of price range of Adidas Shoes\")\n",
    "plt.show()"
   ]
  },
  {
   "cell_type": "markdown",
   "id": "a6c69a58",
   "metadata": {},
   "source": [
    "## Missing Data"
   ]
  },
  {
   "cell_type": "code",
   "execution_count": 90,
   "id": "c67c9bc6",
   "metadata": {},
   "outputs": [
    {
     "data": {
      "text/plain": [
       "Unnamed: 0         0\n",
       "title              1\n",
       "subtitle          30\n",
       "num_colors        28\n",
       "url                0\n",
       "price              4\n",
       "reduced_price    144\n",
       "description       22\n",
       "details          142\n",
       "colors           445\n",
       "n_reviews        210\n",
       "avg_stars        210\n",
       "product_code       0\n",
       "dtype: int64"
      ]
     },
     "execution_count": 90,
     "metadata": {},
     "output_type": "execute_result"
    }
   ],
   "source": [
    "n_rows_with_missingness = np.int64(sum([True for idx,row in adidas.iterrows() if any(row.isnull())]))\n",
    "n_cols_with_missingness = np.int64(sum(adidas.apply(lambda x: sum(x.isnull().values), axis = 0)>0))\n",
    "\n",
    "columns = adidas.columns.values\n",
    "col_num = []\n",
    "for i in columns:\n",
    "    col_num.append(adidas[i].isnull().sum())\n",
    "col_missingness = pd.Series(col_num, index=adidas.columns)\n",
    "col_missingness"
   ]
  },
  {
   "cell_type": "code",
   "execution_count": 91,
   "id": "0761f93c",
   "metadata": {},
   "outputs": [],
   "source": [
    "# Replaced Missing Values with Median For Now\n",
    "median_price = adidas['price'].median()\n",
    "adidas['price'].fillna(median_price, inplace=True)"
   ]
  },
  {
   "cell_type": "code",
   "execution_count": 19,
   "id": "41bdddc8",
   "metadata": {},
   "outputs": [],
   "source": [
    "# nike_train, y_train = nike_train.drop(columns=['price']), nike_train['price']\n",
    "# nike_test, y_test = nike_test.drop(columns=['price']), nike_test['price']"
   ]
  },
  {
   "cell_type": "code",
   "execution_count": 20,
   "id": "0451a6ea",
   "metadata": {},
   "outputs": [],
   "source": [
    "# nike_train, y_train = nike_train.drop(columns=['reduced_price']), nike_train['reduced_price']\n",
    "# nike_test, y_test = nike_test.drop(columns=['reduced_price']), nike_test['reduced_price']"
   ]
  },
  {
   "cell_type": "code",
   "execution_count": 21,
   "id": "cc4b2e83",
   "metadata": {},
   "outputs": [],
   "source": [
    "# columns = nike_train.columns.values\n",
    "# print(f'There are {len(columns)} in the Nike_train Data Frame:')\n",
    "# for i in columns:\n",
    "    # print(f'  The {i} column is missing {nike_train[i].isnull().sum()} values')"
   ]
  },
  {
   "cell_type": "markdown",
   "id": "5cdfa6a2",
   "metadata": {},
   "source": [
    "# MSE & R2 "
   ]
  },
  {
   "cell_type": "code",
   "execution_count": 93,
   "id": "7dda132b",
   "metadata": {},
   "outputs": [],
   "source": [
    "mse_list = []\n",
    "r2_list = []\n",
    "# List of all predictor combinations to fit the curve\n",
    "cols = [['num_colors'],['n_reviews'],['avg_stars'],['num_colors','n_reviews'],['avg_stars','n_reviews'],['num_colors','avg_stars'],['num_colors','n_reviews','avg_stars']]\n",
    "adidas['num_colors'].fillna(adidas['num_colors'].median(), inplace=True)\n",
    "adidas['n_reviews'].fillna(adidas['n_reviews'].median(), inplace=True)\n",
    "adidas['avg_stars'].fillna(adidas['avg_stars'].median(), inplace=True)"
   ]
  },
  {
   "cell_type": "code",
   "execution_count": 95,
   "id": "c9328f6e",
   "metadata": {},
   "outputs": [],
   "source": [
    "from sklearn.metrics import mean_squared_error, r2_score"
   ]
  },
  {
   "cell_type": "code",
   "execution_count": 96,
   "id": "6c684fbf",
   "metadata": {},
   "outputs": [
    {
     "name": "stdout",
     "output_type": "stream",
     "text": [
      "['num_colors']\n",
      "['n_reviews']\n",
      "['avg_stars']\n",
      "['num_colors', 'n_reviews']\n",
      "['avg_stars', 'n_reviews']\n",
      "['num_colors', 'avg_stars']\n",
      "['num_colors', 'n_reviews', 'avg_stars']\n"
     ]
    }
   ],
   "source": [
    "# Loop over all the predictor combinations \n",
    "for i in cols:\n",
    "    # Replaced Missing Values with Median For Now\n",
    "    \n",
    "    print(i)\n",
    "    # Set each of the predictors from the previous list as x\n",
    "    x = adidas[i]\n",
    "    # Set the \"Sales\" column as the reponse variable\n",
    "    y = adidas['price']\n",
    "   \n",
    "    # Split the data into train-test sets with 80% training data and 20% testing data. \n",
    "    # Set random_state as 0\n",
    "    x_train, x_test, y_train, y_test = train_test_split(x, y, train_size=.8,random_state=0)\n",
    "\n",
    "    # Initialize a Linear Regression model\n",
    "    lreg = LinearRegression()\n",
    "\n",
    "    # Fit the linear model on the train data\n",
    "    lreg.fit(x_train,y_train)\n",
    "    \n",
    "    # Predict the response variable for the test set using the trained model\n",
    "    y_pred= lreg.predict(x_test)\n",
    "    \n",
    "    # Compute the MSE for the test data\n",
    "    MSE = mean_squared_error(y_pred,y_test)\n",
    "    r2 = r2_score(y_test, y_pred)\n",
    "    \n",
    "    # Append the computed MSE to the list\n",
    "    mse_list.append(MSE)\n",
    "    r2_list.append(r2)"
   ]
  },
  {
   "cell_type": "code",
   "execution_count": 100,
   "id": "94d6bec6",
   "metadata": {},
   "outputs": [
    {
     "name": "stdout",
     "output_type": "stream",
     "text": [
      "+------------------------------------------+---------+\n",
      "|                Predictors                |   MSE   |\n",
      "+------------------------------------------+---------+\n",
      "|              ['num_colors']              | 8629.75 |\n",
      "|              ['n_reviews']               | 8555.15 |\n",
      "|              ['avg_stars']               | 8703.21 |\n",
      "|       ['num_colors', 'n_reviews']        |  8481.9 |\n",
      "|        ['avg_stars', 'n_reviews']        |  8621.9 |\n",
      "|       ['num_colors', 'avg_stars']        | 8701.53 |\n",
      "| ['num_colors', 'n_reviews', 'avg_stars'] | 8552.71 |\n",
      "+------------------------------------------+---------+\n",
      "+------------------------------------------+----------+\n",
      "|                Predictors                | R2 score |\n",
      "+------------------------------------------+----------+\n",
      "|              ['num_colors']              |   -0.0   |\n",
      "|              ['n_reviews']               |   0.01   |\n",
      "|              ['avg_stars']               |  -0.01   |\n",
      "|       ['num_colors', 'n_reviews']        |   0.02   |\n",
      "|        ['avg_stars', 'n_reviews']        |   -0.0   |\n",
      "|       ['num_colors', 'avg_stars']        |  -0.01   |\n",
      "| ['num_colors', 'n_reviews', 'avg_stars'] |   0.01   |\n",
      "+------------------------------------------+----------+\n"
     ]
    }
   ],
   "source": [
    "# Helper code to display the MSE for each predictor combination\n",
    "t = PrettyTable(['Predictors', 'MSE'])\n",
    "p = PrettyTable(['Predictors', 'R2 score'])\n",
    "\n",
    "for i in range(len(mse_list)):\n",
    "    t.add_row([cols[i],round(mse_list[i], 2)])\n",
    "    p.add_row([cols[i],round(r2_list[i], 2)])\n",
    "    \n",
    "\n",
    "print(t)\n",
    "print(p)"
   ]
  },
  {
   "cell_type": "markdown",
   "id": "d2de6365",
   "metadata": {},
   "source": [
    "# Sentiment Analysis"
   ]
  },
  {
   "cell_type": "code",
   "execution_count": 101,
   "id": "08483f78",
   "metadata": {},
   "outputs": [
    {
     "name": "stderr",
     "output_type": "stream",
     "text": [
      "[nltk_data] Downloading package vader_lexicon to\n",
      "[nltk_data]     /Users/mina/nltk_data...\n"
     ]
    },
    {
     "data": {
      "text/plain": [
       "True"
      ]
     },
     "execution_count": 101,
     "metadata": {},
     "output_type": "execute_result"
    }
   ],
   "source": [
    "import nltk\n",
    "nltk.download('vader_lexicon')"
   ]
  },
  {
   "cell_type": "code",
   "execution_count": 103,
   "id": "95759c20",
   "metadata": {},
   "outputs": [],
   "source": [
    "from nltk.sentiment.vader import SentimentIntensityAnalyzer as SIA"
   ]
  },
  {
   "cell_type": "code",
   "execution_count": 128,
   "id": "cb90ef48",
   "metadata": {},
   "outputs": [],
   "source": [
    "# copy new df to work on\n",
    "df = adidas.loc[:, ['description', 'price']].copy()\n",
    "df.dropna(inplace=True)"
   ]
  },
  {
   "cell_type": "code",
   "execution_count": 129,
   "id": "62912315",
   "metadata": {},
   "outputs": [
    {
     "data": {
      "text/html": [
       "<div>\n",
       "<style scoped>\n",
       "    .dataframe tbody tr th:only-of-type {\n",
       "        vertical-align: middle;\n",
       "    }\n",
       "\n",
       "    .dataframe tbody tr th {\n",
       "        vertical-align: top;\n",
       "    }\n",
       "\n",
       "    .dataframe thead th {\n",
       "        text-align: right;\n",
       "    }\n",
       "</style>\n",
       "<table border=\"1\" class=\"dataframe\">\n",
       "  <thead>\n",
       "    <tr style=\"text-align: right;\">\n",
       "      <th></th>\n",
       "      <th>description</th>\n",
       "      <th>price</th>\n",
       "      <th>rating</th>\n",
       "    </tr>\n",
       "  </thead>\n",
       "  <tbody>\n",
       "    <tr>\n",
       "      <th>0</th>\n",
       "      <td>You'll want these adidas running shoes the nex...</td>\n",
       "      <td>65.0</td>\n",
       "      <td>{'neg': 0.032, 'neu': 0.842, 'pos': 0.126, 'co...</td>\n",
       "    </tr>\n",
       "    <tr>\n",
       "      <th>1</th>\n",
       "      <td>One shoe to rule them all. School, work or kic...</td>\n",
       "      <td>130.0</td>\n",
       "      <td>{'neg': 0.0, 'neu': 0.854, 'pos': 0.146, 'comp...</td>\n",
       "    </tr>\n",
       "    <tr>\n",
       "      <th>2</th>\n",
       "      <td>Comfort is key, whether you're racing to catch...</td>\n",
       "      <td>90.0</td>\n",
       "      <td>{'neg': 0.035, 'neu': 0.854, 'pos': 0.111, 'co...</td>\n",
       "    </tr>\n",
       "    <tr>\n",
       "      <th>3</th>\n",
       "      <td>Classics for a reason. These adidas slides are...</td>\n",
       "      <td>40.0</td>\n",
       "      <td>{'neg': 0.0, 'neu': 0.777, 'pos': 0.223, 'comp...</td>\n",
       "    </tr>\n",
       "    <tr>\n",
       "      <th>4</th>\n",
       "      <td>It doesn't really matter whether or not a run ...</td>\n",
       "      <td>85.0</td>\n",
       "      <td>{'neg': 0.028, 'neu': 0.903, 'pos': 0.068, 'co...</td>\n",
       "    </tr>\n",
       "    <tr>\n",
       "      <th>...</th>\n",
       "      <td>...</td>\n",
       "      <td>...</td>\n",
       "      <td>...</td>\n",
       "    </tr>\n",
       "    <tr>\n",
       "      <th>2385</th>\n",
       "      <td>We all fall in love with the beautiful game on...</td>\n",
       "      <td>70.0</td>\n",
       "      <td>{'neg': 0.054, 'neu': 0.798, 'pos': 0.148, 'co...</td>\n",
       "    </tr>\n",
       "    <tr>\n",
       "      <th>2386</th>\n",
       "      <td>Good players create time and space. Great ones...</td>\n",
       "      <td>130.0</td>\n",
       "      <td>{'neg': 0.033, 'neu': 0.699, 'pos': 0.268, 'co...</td>\n",
       "    </tr>\n",
       "    <tr>\n",
       "      <th>2387</th>\n",
       "      <td>Swerve ordinary to find your edge. Introduce a...</td>\n",
       "      <td>65.0</td>\n",
       "      <td>{'neg': 0.0, 'neu': 0.963, 'pos': 0.037, 'comp...</td>\n",
       "    </tr>\n",
       "    <tr>\n",
       "      <th>2388</th>\n",
       "      <td>The world's top runners enter the Berlin Marat...</td>\n",
       "      <td>180.0</td>\n",
       "      <td>{'neg': 0.033, 'neu': 0.902, 'pos': 0.065, 'co...</td>\n",
       "    </tr>\n",
       "    <tr>\n",
       "      <th>2389</th>\n",
       "      <td>This fan and streetwear favorite knows a thing...</td>\n",
       "      <td>100.0</td>\n",
       "      <td>{'neg': 0.0, 'neu': 0.809, 'pos': 0.191, 'comp...</td>\n",
       "    </tr>\n",
       "  </tbody>\n",
       "</table>\n",
       "<p>2368 rows × 3 columns</p>\n",
       "</div>"
      ],
      "text/plain": [
       "                                            description  price  \\\n",
       "0     You'll want these adidas running shoes the nex...   65.0   \n",
       "1     One shoe to rule them all. School, work or kic...  130.0   \n",
       "2     Comfort is key, whether you're racing to catch...   90.0   \n",
       "3     Classics for a reason. These adidas slides are...   40.0   \n",
       "4     It doesn't really matter whether or not a run ...   85.0   \n",
       "...                                                 ...    ...   \n",
       "2385  We all fall in love with the beautiful game on...   70.0   \n",
       "2386  Good players create time and space. Great ones...  130.0   \n",
       "2387  Swerve ordinary to find your edge. Introduce a...   65.0   \n",
       "2388  The world's top runners enter the Berlin Marat...  180.0   \n",
       "2389  This fan and streetwear favorite knows a thing...  100.0   \n",
       "\n",
       "                                                 rating  \n",
       "0     {'neg': 0.032, 'neu': 0.842, 'pos': 0.126, 'co...  \n",
       "1     {'neg': 0.0, 'neu': 0.854, 'pos': 0.146, 'comp...  \n",
       "2     {'neg': 0.035, 'neu': 0.854, 'pos': 0.111, 'co...  \n",
       "3     {'neg': 0.0, 'neu': 0.777, 'pos': 0.223, 'comp...  \n",
       "4     {'neg': 0.028, 'neu': 0.903, 'pos': 0.068, 'co...  \n",
       "...                                                 ...  \n",
       "2385  {'neg': 0.054, 'neu': 0.798, 'pos': 0.148, 'co...  \n",
       "2386  {'neg': 0.033, 'neu': 0.699, 'pos': 0.268, 'co...  \n",
       "2387  {'neg': 0.0, 'neu': 0.963, 'pos': 0.037, 'comp...  \n",
       "2388  {'neg': 0.033, 'neu': 0.902, 'pos': 0.065, 'co...  \n",
       "2389  {'neg': 0.0, 'neu': 0.809, 'pos': 0.191, 'comp...  \n",
       "\n",
       "[2368 rows x 3 columns]"
      ]
     },
     "execution_count": 129,
     "metadata": {},
     "output_type": "execute_result"
    }
   ],
   "source": [
    "analyzer = SIA()\n",
    "# using sentiment analysis and get negative, neutral, poisitve scores on columns \"rating\"\n",
    "df['rating'] = df['description'].apply(analyzer.polarity_scores)\n",
    "df"
   ]
  },
  {
   "cell_type": "code",
   "execution_count": 132,
   "id": "aa506f12",
   "metadata": {},
   "outputs": [
    {
     "data": {
      "text/html": [
       "<div>\n",
       "<style scoped>\n",
       "    .dataframe tbody tr th:only-of-type {\n",
       "        vertical-align: middle;\n",
       "    }\n",
       "\n",
       "    .dataframe tbody tr th {\n",
       "        vertical-align: top;\n",
       "    }\n",
       "\n",
       "    .dataframe thead th {\n",
       "        text-align: right;\n",
       "    }\n",
       "</style>\n",
       "<table border=\"1\" class=\"dataframe\">\n",
       "  <thead>\n",
       "    <tr style=\"text-align: right;\">\n",
       "      <th></th>\n",
       "      <th>description</th>\n",
       "      <th>price</th>\n",
       "      <th>neg</th>\n",
       "      <th>neu</th>\n",
       "      <th>pos</th>\n",
       "      <th>compound</th>\n",
       "    </tr>\n",
       "  </thead>\n",
       "  <tbody>\n",
       "    <tr>\n",
       "      <th>0</th>\n",
       "      <td>You'll want these adidas running shoes the nex...</td>\n",
       "      <td>65.0</td>\n",
       "      <td>0.032</td>\n",
       "      <td>0.842</td>\n",
       "      <td>0.126</td>\n",
       "      <td>0.7430</td>\n",
       "    </tr>\n",
       "    <tr>\n",
       "      <th>1</th>\n",
       "      <td>One shoe to rule them all. School, work or kic...</td>\n",
       "      <td>130.0</td>\n",
       "      <td>0.000</td>\n",
       "      <td>0.854</td>\n",
       "      <td>0.146</td>\n",
       "      <td>0.8126</td>\n",
       "    </tr>\n",
       "    <tr>\n",
       "      <th>2</th>\n",
       "      <td>Comfort is key, whether you're racing to catch...</td>\n",
       "      <td>90.0</td>\n",
       "      <td>0.035</td>\n",
       "      <td>0.854</td>\n",
       "      <td>0.111</td>\n",
       "      <td>0.6124</td>\n",
       "    </tr>\n",
       "    <tr>\n",
       "      <th>3</th>\n",
       "      <td>Classics for a reason. These adidas slides are...</td>\n",
       "      <td>40.0</td>\n",
       "      <td>0.000</td>\n",
       "      <td>0.777</td>\n",
       "      <td>0.223</td>\n",
       "      <td>0.9413</td>\n",
       "    </tr>\n",
       "    <tr>\n",
       "      <th>4</th>\n",
       "      <td>It doesn't really matter whether or not a run ...</td>\n",
       "      <td>85.0</td>\n",
       "      <td>0.028</td>\n",
       "      <td>0.903</td>\n",
       "      <td>0.068</td>\n",
       "      <td>0.4232</td>\n",
       "    </tr>\n",
       "    <tr>\n",
       "      <th>...</th>\n",
       "      <td>...</td>\n",
       "      <td>...</td>\n",
       "      <td>...</td>\n",
       "      <td>...</td>\n",
       "      <td>...</td>\n",
       "      <td>...</td>\n",
       "    </tr>\n",
       "    <tr>\n",
       "      <th>2385</th>\n",
       "      <td>We all fall in love with the beautiful game on...</td>\n",
       "      <td>70.0</td>\n",
       "      <td>0.054</td>\n",
       "      <td>0.798</td>\n",
       "      <td>0.148</td>\n",
       "      <td>0.9287</td>\n",
       "    </tr>\n",
       "    <tr>\n",
       "      <th>2386</th>\n",
       "      <td>Good players create time and space. Great ones...</td>\n",
       "      <td>130.0</td>\n",
       "      <td>0.033</td>\n",
       "      <td>0.699</td>\n",
       "      <td>0.268</td>\n",
       "      <td>0.9810</td>\n",
       "    </tr>\n",
       "    <tr>\n",
       "      <th>2387</th>\n",
       "      <td>Swerve ordinary to find your edge. Introduce a...</td>\n",
       "      <td>65.0</td>\n",
       "      <td>0.000</td>\n",
       "      <td>0.963</td>\n",
       "      <td>0.037</td>\n",
       "      <td>0.2960</td>\n",
       "    </tr>\n",
       "    <tr>\n",
       "      <th>2388</th>\n",
       "      <td>The world's top runners enter the Berlin Marat...</td>\n",
       "      <td>180.0</td>\n",
       "      <td>0.033</td>\n",
       "      <td>0.902</td>\n",
       "      <td>0.065</td>\n",
       "      <td>0.2732</td>\n",
       "    </tr>\n",
       "    <tr>\n",
       "      <th>2389</th>\n",
       "      <td>This fan and streetwear favorite knows a thing...</td>\n",
       "      <td>100.0</td>\n",
       "      <td>0.000</td>\n",
       "      <td>0.809</td>\n",
       "      <td>0.191</td>\n",
       "      <td>0.9217</td>\n",
       "    </tr>\n",
       "  </tbody>\n",
       "</table>\n",
       "<p>2368 rows × 6 columns</p>\n",
       "</div>"
      ],
      "text/plain": [
       "                                            description  price    neg    neu  \\\n",
       "0     You'll want these adidas running shoes the nex...   65.0  0.032  0.842   \n",
       "1     One shoe to rule them all. School, work or kic...  130.0  0.000  0.854   \n",
       "2     Comfort is key, whether you're racing to catch...   90.0  0.035  0.854   \n",
       "3     Classics for a reason. These adidas slides are...   40.0  0.000  0.777   \n",
       "4     It doesn't really matter whether or not a run ...   85.0  0.028  0.903   \n",
       "...                                                 ...    ...    ...    ...   \n",
       "2385  We all fall in love with the beautiful game on...   70.0  0.054  0.798   \n",
       "2386  Good players create time and space. Great ones...  130.0  0.033  0.699   \n",
       "2387  Swerve ordinary to find your edge. Introduce a...   65.0  0.000  0.963   \n",
       "2388  The world's top runners enter the Berlin Marat...  180.0  0.033  0.902   \n",
       "2389  This fan and streetwear favorite knows a thing...  100.0  0.000  0.809   \n",
       "\n",
       "        pos  compound  \n",
       "0     0.126    0.7430  \n",
       "1     0.146    0.8126  \n",
       "2     0.111    0.6124  \n",
       "3     0.223    0.9413  \n",
       "4     0.068    0.4232  \n",
       "...     ...       ...  \n",
       "2385  0.148    0.9287  \n",
       "2386  0.268    0.9810  \n",
       "2387  0.037    0.2960  \n",
       "2388  0.065    0.2732  \n",
       "2389  0.191    0.9217  \n",
       "\n",
       "[2368 rows x 6 columns]"
      ]
     },
     "execution_count": 132,
     "metadata": {},
     "output_type": "execute_result"
    }
   ],
   "source": [
    "# change each keys/values of dictionary in colum, rating, to be the new columns of dataframe\n",
    "df2 = pd.concat([df.drop(['rating'], axis=1), df['rating'].apply(pd.Series)], axis=1)\n",
    "df2"
   ]
  },
  {
   "cell_type": "code",
   "execution_count": 133,
   "id": "81b9939f",
   "metadata": {},
   "outputs": [
    {
     "data": {
      "text/html": [
       "<div>\n",
       "<style scoped>\n",
       "    .dataframe tbody tr th:only-of-type {\n",
       "        vertical-align: middle;\n",
       "    }\n",
       "\n",
       "    .dataframe tbody tr th {\n",
       "        vertical-align: top;\n",
       "    }\n",
       "\n",
       "    .dataframe thead th {\n",
       "        text-align: right;\n",
       "    }\n",
       "</style>\n",
       "<table border=\"1\" class=\"dataframe\">\n",
       "  <thead>\n",
       "    <tr style=\"text-align: right;\">\n",
       "      <th></th>\n",
       "      <th>description</th>\n",
       "      <th>price</th>\n",
       "      <th>neg</th>\n",
       "      <th>neu</th>\n",
       "      <th>pos</th>\n",
       "      <th>compound</th>\n",
       "      <th>score</th>\n",
       "    </tr>\n",
       "  </thead>\n",
       "  <tbody>\n",
       "    <tr>\n",
       "      <th>0</th>\n",
       "      <td>You'll want these adidas running shoes the nex...</td>\n",
       "      <td>65.0</td>\n",
       "      <td>0.032</td>\n",
       "      <td>0.842</td>\n",
       "      <td>0.126</td>\n",
       "      <td>0.7430</td>\n",
       "      <td>positive</td>\n",
       "    </tr>\n",
       "    <tr>\n",
       "      <th>1</th>\n",
       "      <td>One shoe to rule them all. School, work or kic...</td>\n",
       "      <td>130.0</td>\n",
       "      <td>0.000</td>\n",
       "      <td>0.854</td>\n",
       "      <td>0.146</td>\n",
       "      <td>0.8126</td>\n",
       "      <td>positive</td>\n",
       "    </tr>\n",
       "    <tr>\n",
       "      <th>2</th>\n",
       "      <td>Comfort is key, whether you're racing to catch...</td>\n",
       "      <td>90.0</td>\n",
       "      <td>0.035</td>\n",
       "      <td>0.854</td>\n",
       "      <td>0.111</td>\n",
       "      <td>0.6124</td>\n",
       "      <td>positive</td>\n",
       "    </tr>\n",
       "    <tr>\n",
       "      <th>3</th>\n",
       "      <td>Classics for a reason. These adidas slides are...</td>\n",
       "      <td>40.0</td>\n",
       "      <td>0.000</td>\n",
       "      <td>0.777</td>\n",
       "      <td>0.223</td>\n",
       "      <td>0.9413</td>\n",
       "      <td>positive</td>\n",
       "    </tr>\n",
       "    <tr>\n",
       "      <th>4</th>\n",
       "      <td>It doesn't really matter whether or not a run ...</td>\n",
       "      <td>85.0</td>\n",
       "      <td>0.028</td>\n",
       "      <td>0.903</td>\n",
       "      <td>0.068</td>\n",
       "      <td>0.4232</td>\n",
       "      <td>positive</td>\n",
       "    </tr>\n",
       "    <tr>\n",
       "      <th>...</th>\n",
       "      <td>...</td>\n",
       "      <td>...</td>\n",
       "      <td>...</td>\n",
       "      <td>...</td>\n",
       "      <td>...</td>\n",
       "      <td>...</td>\n",
       "      <td>...</td>\n",
       "    </tr>\n",
       "    <tr>\n",
       "      <th>2385</th>\n",
       "      <td>We all fall in love with the beautiful game on...</td>\n",
       "      <td>70.0</td>\n",
       "      <td>0.054</td>\n",
       "      <td>0.798</td>\n",
       "      <td>0.148</td>\n",
       "      <td>0.9287</td>\n",
       "      <td>positive</td>\n",
       "    </tr>\n",
       "    <tr>\n",
       "      <th>2386</th>\n",
       "      <td>Good players create time and space. Great ones...</td>\n",
       "      <td>130.0</td>\n",
       "      <td>0.033</td>\n",
       "      <td>0.699</td>\n",
       "      <td>0.268</td>\n",
       "      <td>0.9810</td>\n",
       "      <td>positive</td>\n",
       "    </tr>\n",
       "    <tr>\n",
       "      <th>2387</th>\n",
       "      <td>Swerve ordinary to find your edge. Introduce a...</td>\n",
       "      <td>65.0</td>\n",
       "      <td>0.000</td>\n",
       "      <td>0.963</td>\n",
       "      <td>0.037</td>\n",
       "      <td>0.2960</td>\n",
       "      <td>positive</td>\n",
       "    </tr>\n",
       "    <tr>\n",
       "      <th>2388</th>\n",
       "      <td>The world's top runners enter the Berlin Marat...</td>\n",
       "      <td>180.0</td>\n",
       "      <td>0.033</td>\n",
       "      <td>0.902</td>\n",
       "      <td>0.065</td>\n",
       "      <td>0.2732</td>\n",
       "      <td>positive</td>\n",
       "    </tr>\n",
       "    <tr>\n",
       "      <th>2389</th>\n",
       "      <td>This fan and streetwear favorite knows a thing...</td>\n",
       "      <td>100.0</td>\n",
       "      <td>0.000</td>\n",
       "      <td>0.809</td>\n",
       "      <td>0.191</td>\n",
       "      <td>0.9217</td>\n",
       "      <td>positive</td>\n",
       "    </tr>\n",
       "  </tbody>\n",
       "</table>\n",
       "<p>2368 rows × 7 columns</p>\n",
       "</div>"
      ],
      "text/plain": [
       "                                            description  price    neg    neu  \\\n",
       "0     You'll want these adidas running shoes the nex...   65.0  0.032  0.842   \n",
       "1     One shoe to rule them all. School, work or kic...  130.0  0.000  0.854   \n",
       "2     Comfort is key, whether you're racing to catch...   90.0  0.035  0.854   \n",
       "3     Classics for a reason. These adidas slides are...   40.0  0.000  0.777   \n",
       "4     It doesn't really matter whether or not a run ...   85.0  0.028  0.903   \n",
       "...                                                 ...    ...    ...    ...   \n",
       "2385  We all fall in love with the beautiful game on...   70.0  0.054  0.798   \n",
       "2386  Good players create time and space. Great ones...  130.0  0.033  0.699   \n",
       "2387  Swerve ordinary to find your edge. Introduce a...   65.0  0.000  0.963   \n",
       "2388  The world's top runners enter the Berlin Marat...  180.0  0.033  0.902   \n",
       "2389  This fan and streetwear favorite knows a thing...  100.0  0.000  0.809   \n",
       "\n",
       "        pos  compound     score  \n",
       "0     0.126    0.7430  positive  \n",
       "1     0.146    0.8126  positive  \n",
       "2     0.111    0.6124  positive  \n",
       "3     0.223    0.9413  positive  \n",
       "4     0.068    0.4232  positive  \n",
       "...     ...       ...       ...  \n",
       "2385  0.148    0.9287  positive  \n",
       "2386  0.268    0.9810  positive  \n",
       "2387  0.037    0.2960  positive  \n",
       "2388  0.065    0.2732  positive  \n",
       "2389  0.191    0.9217  positive  \n",
       "\n",
       "[2368 rows x 7 columns]"
      ]
     },
     "execution_count": 133,
     "metadata": {},
     "output_type": "execute_result"
    }
   ],
   "source": [
    "df2['score'] = np.where(df2['compound'] < 0, 'negative', 'positive')\n",
    "df2"
   ]
  },
  {
   "cell_type": "code",
   "execution_count": 143,
   "id": "34102914",
   "metadata": {},
   "outputs": [
    {
     "data": {
      "image/png": "[encoded data removed]",
      "text/plain": [
       "<Figure size 640x480 with 1 Axes>"
      ]
     },
     "metadata": {},
     "output_type": "display_data"
    }
   ],
   "source": [
    "plt.scatter(df2['compound'], df2[\"price\"], alpha=0.2)\n",
    "plt.xlabel(\"Sentiment Score\")\n",
    "plt.ylabel(\"Price\")\n",
    "plt.title(\"Relationship between user's ratings and price\")\n",
    "plt.show()"
   ]
  },
  {
   "cell_type": "code",
   "execution_count": 160,
   "id": "df6f354f",
   "metadata": {},
   "outputs": [],
   "source": [
    "X = df2[['compound']]\n",
    "y = df2['price']\n",
    "X_train, X_test, y_train, y_test = train_test_split(X, y, train_size=0.75, shuffle=True, random_state=109)"
   ]
  },
  {
   "cell_type": "code",
   "execution_count": 161,
   "id": "f0fb84cf",
   "metadata": {},
   "outputs": [
    {
     "data": {
      "text/plain": [
       "((1776, 1), (592, 1), (1776,), (592,))"
      ]
     },
     "execution_count": 161,
     "metadata": {},
     "output_type": "execute_result"
    }
   ],
   "source": [
    "X_train.shape, X_test.shape, y_train.shape, y_test.shape"
   ]
  },
  {
   "cell_type": "code",
   "execution_count": 164,
   "id": "221e485a",
   "metadata": {},
   "outputs": [
    {
     "name": "stdout",
     "output_type": "stream",
     "text": [
      "MSE is 7201.5611; R score is 0.0001\n"
     ]
    }
   ],
   "source": [
    "lreg = LinearRegression().fit(X_train, y_train)\n",
    "\n",
    "y_pred = lreg.predict(X_test)\n",
    "MSE = mean_squared_error(y_test, y_pred)\n",
    "\n",
    "r2 = r2_score(y_test, y_pred)\n",
    "\n",
    "print(\"MSE is {:.4f}; R score is {:.4f}\".format(MSE,r2))"
   ]
  },
  {
   "cell_type": "markdown",
   "id": "50705482",
   "metadata": {},
   "source": [
    "# Just for the nagative score description"
   ]
  },
  {
   "cell_type": "code",
   "execution_count": 139,
   "id": "359dad42",
   "metadata": {},
   "outputs": [
    {
     "name": "stdout",
     "output_type": "stream",
     "text": [
      "There are 2153 positive descritions and 215 negative descriptions.\n"
     ]
    }
   ],
   "source": [
    "positive_des = (df2['score']=='positive').sum()\n",
    "negative_des = (df2['score']=='negative').sum()\n",
    "print(f\"There are {positive_des} positive descritions and {negative_des} negative descriptions.\")"
   ]
  },
  {
   "cell_type": "code",
   "execution_count": 140,
   "id": "d90e3ba8",
   "metadata": {},
   "outputs": [
    {
     "data": {
      "text/html": [
       "<div>\n",
       "<style scoped>\n",
       "    .dataframe tbody tr th:only-of-type {\n",
       "        vertical-align: middle;\n",
       "    }\n",
       "\n",
       "    .dataframe tbody tr th {\n",
       "        vertical-align: top;\n",
       "    }\n",
       "\n",
       "    .dataframe thead th {\n",
       "        text-align: right;\n",
       "    }\n",
       "</style>\n",
       "<table border=\"1\" class=\"dataframe\">\n",
       "  <thead>\n",
       "    <tr style=\"text-align: right;\">\n",
       "      <th></th>\n",
       "      <th>description</th>\n",
       "      <th>price</th>\n",
       "      <th>neg</th>\n",
       "      <th>neu</th>\n",
       "      <th>pos</th>\n",
       "      <th>compound</th>\n",
       "      <th>score</th>\n",
       "    </tr>\n",
       "  </thead>\n",
       "  <tbody>\n",
       "    <tr>\n",
       "      <th>9</th>\n",
       "      <td>These adidas sneakers are tasteful and minimal...</td>\n",
       "      <td>60.0</td>\n",
       "      <td>0.110</td>\n",
       "      <td>0.829</td>\n",
       "      <td>0.061</td>\n",
       "      <td>-0.4902</td>\n",
       "      <td>negative</td>\n",
       "    </tr>\n",
       "    <tr>\n",
       "      <th>21</th>\n",
       "      <td>Timeless appeal. Effortless style. Everyday ve...</td>\n",
       "      <td>95.0</td>\n",
       "      <td>0.048</td>\n",
       "      <td>0.905</td>\n",
       "      <td>0.047</td>\n",
       "      <td>-0.0258</td>\n",
       "      <td>negative</td>\n",
       "    </tr>\n",
       "    <tr>\n",
       "      <th>31</th>\n",
       "      <td>When worlds collide, magic happens. These adid...</td>\n",
       "      <td>70.0</td>\n",
       "      <td>0.036</td>\n",
       "      <td>0.964</td>\n",
       "      <td>0.000</td>\n",
       "      <td>-0.0772</td>\n",
       "      <td>negative</td>\n",
       "    </tr>\n",
       "    <tr>\n",
       "      <th>37</th>\n",
       "      <td>Millions of people have laced into adidas Stan...</td>\n",
       "      <td>100.0</td>\n",
       "      <td>0.103</td>\n",
       "      <td>0.851</td>\n",
       "      <td>0.047</td>\n",
       "      <td>-0.8176</td>\n",
       "      <td>negative</td>\n",
       "    </tr>\n",
       "    <tr>\n",
       "      <th>47</th>\n",
       "      <td>Remember the epic shots, close games and fierc...</td>\n",
       "      <td>110.0</td>\n",
       "      <td>0.036</td>\n",
       "      <td>0.934</td>\n",
       "      <td>0.031</td>\n",
       "      <td>-0.0772</td>\n",
       "      <td>negative</td>\n",
       "    </tr>\n",
       "    <tr>\n",
       "      <th>...</th>\n",
       "      <td>...</td>\n",
       "      <td>...</td>\n",
       "      <td>...</td>\n",
       "      <td>...</td>\n",
       "      <td>...</td>\n",
       "      <td>...</td>\n",
       "      <td>...</td>\n",
       "    </tr>\n",
       "    <tr>\n",
       "      <th>2294</th>\n",
       "      <td>Statement makers and risk takers, these adidas...</td>\n",
       "      <td>100.0</td>\n",
       "      <td>0.148</td>\n",
       "      <td>0.734</td>\n",
       "      <td>0.118</td>\n",
       "      <td>-0.0562</td>\n",
       "      <td>negative</td>\n",
       "    </tr>\n",
       "    <tr>\n",
       "      <th>2301</th>\n",
       "      <td>When you step onto the pitch, don't just play ...</td>\n",
       "      <td>50.0</td>\n",
       "      <td>0.115</td>\n",
       "      <td>0.860</td>\n",
       "      <td>0.025</td>\n",
       "      <td>-0.7805</td>\n",
       "      <td>negative</td>\n",
       "    </tr>\n",
       "    <tr>\n",
       "      <th>2317</th>\n",
       "      <td>Throw it back to '70s Southern California skat...</td>\n",
       "      <td>65.0</td>\n",
       "      <td>0.065</td>\n",
       "      <td>0.905</td>\n",
       "      <td>0.031</td>\n",
       "      <td>-0.2023</td>\n",
       "      <td>negative</td>\n",
       "    </tr>\n",
       "    <tr>\n",
       "      <th>2325</th>\n",
       "      <td>Strike when your opponent least expects it. Dr...</td>\n",
       "      <td>150.0</td>\n",
       "      <td>0.118</td>\n",
       "      <td>0.789</td>\n",
       "      <td>0.092</td>\n",
       "      <td>-0.1697</td>\n",
       "      <td>negative</td>\n",
       "    </tr>\n",
       "    <tr>\n",
       "      <th>2384</th>\n",
       "      <td>The future awaits, but the past still leaves a...</td>\n",
       "      <td>80.0</td>\n",
       "      <td>0.139</td>\n",
       "      <td>0.804</td>\n",
       "      <td>0.057</td>\n",
       "      <td>-0.7964</td>\n",
       "      <td>negative</td>\n",
       "    </tr>\n",
       "  </tbody>\n",
       "</table>\n",
       "<p>215 rows × 7 columns</p>\n",
       "</div>"
      ],
      "text/plain": [
       "                                            description  price    neg    neu  \\\n",
       "9     These adidas sneakers are tasteful and minimal...   60.0  0.110  0.829   \n",
       "21    Timeless appeal. Effortless style. Everyday ve...   95.0  0.048  0.905   \n",
       "31    When worlds collide, magic happens. These adid...   70.0  0.036  0.964   \n",
       "37    Millions of people have laced into adidas Stan...  100.0  0.103  0.851   \n",
       "47    Remember the epic shots, close games and fierc...  110.0  0.036  0.934   \n",
       "...                                                 ...    ...    ...    ...   \n",
       "2294  Statement makers and risk takers, these adidas...  100.0  0.148  0.734   \n",
       "2301  When you step onto the pitch, don't just play ...   50.0  0.115  0.860   \n",
       "2317  Throw it back to '70s Southern California skat...   65.0  0.065  0.905   \n",
       "2325  Strike when your opponent least expects it. Dr...  150.0  0.118  0.789   \n",
       "2384  The future awaits, but the past still leaves a...   80.0  0.139  0.804   \n",
       "\n",
       "        pos  compound     score  \n",
       "9     0.061   -0.4902  negative  \n",
       "21    0.047   -0.0258  negative  \n",
       "31    0.000   -0.0772  negative  \n",
       "37    0.047   -0.8176  negative  \n",
       "47    0.031   -0.0772  negative  \n",
       "...     ...       ...       ...  \n",
       "2294  0.118   -0.0562  negative  \n",
       "2301  0.025   -0.7805  negative  \n",
       "2317  0.031   -0.2023  negative  \n",
       "2325  0.092   -0.1697  negative  \n",
       "2384  0.057   -0.7964  negative  \n",
       "\n",
       "[215 rows x 7 columns]"
      ]
     },
     "execution_count": 140,
     "metadata": {},
     "output_type": "execute_result"
    }
   ],
   "source": [
    "neg = df2[df2['score']=='negative']\n",
    "neg"
   ]
  },
  {
   "cell_type": "code",
   "execution_count": 142,
   "id": "fa6579bf",
   "metadata": {},
   "outputs": [
    {
     "data": {
      "image/png": "[encoded data removed]",
      "text/plain": [
       "<Figure size 640x480 with 1 Axes>"
      ]
     },
     "metadata": {},
     "output_type": "display_data"
    }
   ],
   "source": [
    "plt.scatter(neg['compound'], neg[\"price\"], alpha=0.2)\n",
    "plt.xlabel(\"Sentiment Score\")\n",
    "plt.ylabel(\"Price\")\n",
    "plt.title(\"Relationship between user's ratings and price for the negative description\")\n",
    "plt.show()"
   ]
  },
  {
   "cell_type": "code",
   "execution_count": 165,
   "id": "4b4a8f6d",
   "metadata": {},
   "outputs": [],
   "source": [
    "X_n = neg[['compound']]\n",
    "y_n = neg['price']\n",
    "X_train_n, X_test_n, y_train_n, y_test_n = train_test_split(X_n, y_n, train_size=0.75, shuffle=True, random_state=109)"
   ]
  },
  {
   "cell_type": "code",
   "execution_count": 166,
   "id": "d10d998a",
   "metadata": {},
   "outputs": [
    {
     "data": {
      "text/plain": [
       "((161, 1), (54, 1), (161,), (54,))"
      ]
     },
     "execution_count": 166,
     "metadata": {},
     "output_type": "execute_result"
    }
   ],
   "source": [
    "X_train_n.shape, X_test_n.shape, y_train_n.shape, y_test_n.shape"
   ]
  },
  {
   "cell_type": "code",
   "execution_count": 170,
   "id": "7647533a",
   "metadata": {},
   "outputs": [],
   "source": [
    "# Fitting Linear Regression \n",
    "lreg = LinearRegression()\n",
    "linreg = lreg.fit(X_train_n,y_train_n)\n",
    "# Compute the MSE of the model\n",
    "y_hat_train_n = lreg.predict(X_train_n)\n",
    "lin_train_mse_n = mean_squared_error(y_train_n, y_hat_train_n)\n",
    "\n",
    "y_hat_test_n = lreg.predict(X_test_n)\n",
    "lin_test_mse_n = mean_squared_error(y_test_n, y_hat_test_n)\n",
    "\n",
    "# Compute the R-squared of the model\n",
    "r2_n = r2_score(y_test_n, y_hat_test_n)"
   ]
  },
  {
   "cell_type": "code",
   "execution_count": 171,
   "id": "17927d5f",
   "metadata": {},
   "outputs": [
    {
     "name": "stdout",
     "output_type": "stream",
     "text": [
      "Train MSE is 1508.9320 and Test MSE is 1451.7917\n",
      "Test R-squared is 0.0277\n"
     ]
    }
   ],
   "source": [
    "print(\"Train MSE is {:.4f} and Test MSE is {:.4f}\".format(lin_train_mse_n,lin_test_mse_n,))\n",
    "print(f\"Test R-squared is {r2_n:.4f}\")"
   ]
  },
  {
   "cell_type": "code",
   "execution_count": null,
   "id": "7f8b580f",
   "metadata": {},
   "outputs": [],
   "source": []
  },
  {
   "cell_type": "markdown",
   "id": "9319616d",
   "metadata": {},
   "source": [
    "# NLP Section"
   ]
  },
  {
   "cell_type": "code",
   "execution_count": 173,
   "id": "041f0a93",
   "metadata": {},
   "outputs": [
    {
     "data": {
      "text/html": [
       "<div>\n",
       "<style scoped>\n",
       "    .dataframe tbody tr th:only-of-type {\n",
       "        vertical-align: middle;\n",
       "    }\n",
       "\n",
       "    .dataframe tbody tr th {\n",
       "        vertical-align: top;\n",
       "    }\n",
       "\n",
       "    .dataframe thead th {\n",
       "        text-align: right;\n",
       "    }\n",
       "</style>\n",
       "<table border=\"1\" class=\"dataframe\">\n",
       "  <thead>\n",
       "    <tr style=\"text-align: right;\">\n",
       "      <th></th>\n",
       "      <th>description</th>\n",
       "      <th>price</th>\n",
       "    </tr>\n",
       "  </thead>\n",
       "  <tbody>\n",
       "    <tr>\n",
       "      <th>0</th>\n",
       "      <td>You'll want these adidas running shoes the nex...</td>\n",
       "      <td>65.0</td>\n",
       "    </tr>\n",
       "    <tr>\n",
       "      <th>1</th>\n",
       "      <td>One shoe to rule them all. School, work or kic...</td>\n",
       "      <td>130.0</td>\n",
       "    </tr>\n",
       "    <tr>\n",
       "      <th>2</th>\n",
       "      <td>Comfort is key, whether you're racing to catch...</td>\n",
       "      <td>90.0</td>\n",
       "    </tr>\n",
       "    <tr>\n",
       "      <th>3</th>\n",
       "      <td>Classics for a reason. These adidas slides are...</td>\n",
       "      <td>40.0</td>\n",
       "    </tr>\n",
       "    <tr>\n",
       "      <th>4</th>\n",
       "      <td>It doesn't really matter whether or not a run ...</td>\n",
       "      <td>85.0</td>\n",
       "    </tr>\n",
       "  </tbody>\n",
       "</table>\n",
       "</div>"
      ],
      "text/plain": [
       "                                         description  price\n",
       "0  You'll want these adidas running shoes the nex...   65.0\n",
       "1  One shoe to rule them all. School, work or kic...  130.0\n",
       "2  Comfort is key, whether you're racing to catch...   90.0\n",
       "3  Classics for a reason. These adidas slides are...   40.0\n",
       "4  It doesn't really matter whether or not a run ...   85.0"
      ]
     },
     "execution_count": 173,
     "metadata": {},
     "output_type": "execute_result"
    }
   ],
   "source": [
    "df_desc = adidas.loc[:, ['description', 'price']].copy()  # subset\n",
    "df_desc.dropna(inplace=True)  # drop na\n",
    "df_desc.head()"
   ]
  },
  {
   "cell_type": "code",
   "execution_count": 174,
   "id": "84e34bac",
   "metadata": {},
   "outputs": [
    {
     "name": "stdout",
     "output_type": "stream",
     "text": [
      "We have 2,412 unique word in our reduced, corpus vocabulary.\n"
     ]
    }
   ],
   "source": [
    "# Following Tom's Nike NLP section codes\n",
    "df_desc['description'] = df_desc['description'].str.lower()\n",
    "df_desc['description'] = df_desc['description'].str.replace(r'([^\\w\\s]|_)+', '', regex=True)\n",
    "df_desc['description'] = df_desc['description'].str.split()\n",
    "stopwords = pd.read_csv('data/stopwords_nopunc.csv').stopwords.values\n",
    "df_desc['description'] = df_desc['description'].apply(lambda x: [str(w) for w in x if w not in stopwords])\n",
    "vocab_counts = df_desc['description'].explode().value_counts()\n",
    "min_count = 5\n",
    "vocab = [k for k,v in vocab_counts.items() if v >= 5]\n",
    "print(f\"We have {len(vocab):,} unique word in our reduced, corpus vocabulary.\")"
   ]
  },
  {
   "cell_type": "code",
   "execution_count": 127,
   "id": "8d26b380",
   "metadata": {},
   "outputs": [
    {
     "data": {
      "text/html": [
       "<div>\n",
       "<style scoped>\n",
       "    .dataframe tbody tr th:only-of-type {\n",
       "        vertical-align: middle;\n",
       "    }\n",
       "\n",
       "    .dataframe tbody tr th {\n",
       "        vertical-align: top;\n",
       "    }\n",
       "\n",
       "    .dataframe thead th {\n",
       "        text-align: right;\n",
       "    }\n",
       "</style>\n",
       "<table border=\"1\" class=\"dataframe\">\n",
       "  <thead>\n",
       "    <tr style=\"text-align: right;\">\n",
       "      <th></th>\n",
       "      <th>want</th>\n",
       "      <th>adidas</th>\n",
       "      <th>running</th>\n",
       "      <th>shoes</th>\n",
       "      <th>next</th>\n",
       "      <th>time</th>\n",
       "      <th>step</th>\n",
       "      <th>route</th>\n",
       "      <th>classic</th>\n",
       "      <th>lines</th>\n",
       "      <th>...</th>\n",
       "      <th>lightningquick</th>\n",
       "      <th>sprintskin</th>\n",
       "      <th>relieving</th>\n",
       "      <th>orketro</th>\n",
       "      <th>empty</th>\n",
       "      <th>hellcat</th>\n",
       "      <th>extension</th>\n",
       "      <th>innings</th>\n",
       "      <th>cleated</th>\n",
       "      <th>agile</th>\n",
       "    </tr>\n",
       "  </thead>\n",
       "  <tbody>\n",
       "    <tr>\n",
       "      <th>0</th>\n",
       "      <td>1</td>\n",
       "      <td>1</td>\n",
       "      <td>1</td>\n",
       "      <td>1</td>\n",
       "      <td>1</td>\n",
       "      <td>1</td>\n",
       "      <td>1</td>\n",
       "      <td>1</td>\n",
       "      <td>1</td>\n",
       "      <td>1</td>\n",
       "      <td>...</td>\n",
       "      <td>0</td>\n",
       "      <td>0</td>\n",
       "      <td>0</td>\n",
       "      <td>0</td>\n",
       "      <td>0</td>\n",
       "      <td>0</td>\n",
       "      <td>0</td>\n",
       "      <td>0</td>\n",
       "      <td>0</td>\n",
       "      <td>0</td>\n",
       "    </tr>\n",
       "    <tr>\n",
       "      <th>1</th>\n",
       "      <td>0</td>\n",
       "      <td>1</td>\n",
       "      <td>0</td>\n",
       "      <td>1</td>\n",
       "      <td>0</td>\n",
       "      <td>0</td>\n",
       "      <td>0</td>\n",
       "      <td>0</td>\n",
       "      <td>0</td>\n",
       "      <td>0</td>\n",
       "      <td>...</td>\n",
       "      <td>0</td>\n",
       "      <td>0</td>\n",
       "      <td>0</td>\n",
       "      <td>0</td>\n",
       "      <td>0</td>\n",
       "      <td>0</td>\n",
       "      <td>0</td>\n",
       "      <td>0</td>\n",
       "      <td>0</td>\n",
       "      <td>0</td>\n",
       "    </tr>\n",
       "    <tr>\n",
       "      <th>2</th>\n",
       "      <td>0</td>\n",
       "      <td>1</td>\n",
       "      <td>1</td>\n",
       "      <td>1</td>\n",
       "      <td>0</td>\n",
       "      <td>0</td>\n",
       "      <td>0</td>\n",
       "      <td>0</td>\n",
       "      <td>0</td>\n",
       "      <td>0</td>\n",
       "      <td>...</td>\n",
       "      <td>0</td>\n",
       "      <td>0</td>\n",
       "      <td>0</td>\n",
       "      <td>0</td>\n",
       "      <td>0</td>\n",
       "      <td>0</td>\n",
       "      <td>0</td>\n",
       "      <td>0</td>\n",
       "      <td>0</td>\n",
       "      <td>0</td>\n",
       "    </tr>\n",
       "    <tr>\n",
       "      <th>3</th>\n",
       "      <td>0</td>\n",
       "      <td>1</td>\n",
       "      <td>0</td>\n",
       "      <td>0</td>\n",
       "      <td>0</td>\n",
       "      <td>0</td>\n",
       "      <td>0</td>\n",
       "      <td>0</td>\n",
       "      <td>0</td>\n",
       "      <td>0</td>\n",
       "      <td>...</td>\n",
       "      <td>0</td>\n",
       "      <td>0</td>\n",
       "      <td>0</td>\n",
       "      <td>0</td>\n",
       "      <td>0</td>\n",
       "      <td>0</td>\n",
       "      <td>0</td>\n",
       "      <td>0</td>\n",
       "      <td>0</td>\n",
       "      <td>0</td>\n",
       "    </tr>\n",
       "    <tr>\n",
       "      <th>4</th>\n",
       "      <td>0</td>\n",
       "      <td>1</td>\n",
       "      <td>0</td>\n",
       "      <td>1</td>\n",
       "      <td>0</td>\n",
       "      <td>0</td>\n",
       "      <td>0</td>\n",
       "      <td>0</td>\n",
       "      <td>0</td>\n",
       "      <td>0</td>\n",
       "      <td>...</td>\n",
       "      <td>0</td>\n",
       "      <td>0</td>\n",
       "      <td>0</td>\n",
       "      <td>0</td>\n",
       "      <td>0</td>\n",
       "      <td>0</td>\n",
       "      <td>0</td>\n",
       "      <td>0</td>\n",
       "      <td>0</td>\n",
       "      <td>0</td>\n",
       "    </tr>\n",
       "    <tr>\n",
       "      <th>...</th>\n",
       "      <td>...</td>\n",
       "      <td>...</td>\n",
       "      <td>...</td>\n",
       "      <td>...</td>\n",
       "      <td>...</td>\n",
       "      <td>...</td>\n",
       "      <td>...</td>\n",
       "      <td>...</td>\n",
       "      <td>...</td>\n",
       "      <td>...</td>\n",
       "      <td>...</td>\n",
       "      <td>...</td>\n",
       "      <td>...</td>\n",
       "      <td>...</td>\n",
       "      <td>...</td>\n",
       "      <td>...</td>\n",
       "      <td>...</td>\n",
       "      <td>...</td>\n",
       "      <td>...</td>\n",
       "      <td>...</td>\n",
       "      <td>...</td>\n",
       "    </tr>\n",
       "    <tr>\n",
       "      <th>2363</th>\n",
       "      <td>0</td>\n",
       "      <td>1</td>\n",
       "      <td>0</td>\n",
       "      <td>1</td>\n",
       "      <td>0</td>\n",
       "      <td>0</td>\n",
       "      <td>0</td>\n",
       "      <td>0</td>\n",
       "      <td>0</td>\n",
       "      <td>0</td>\n",
       "      <td>...</td>\n",
       "      <td>0</td>\n",
       "      <td>0</td>\n",
       "      <td>0</td>\n",
       "      <td>0</td>\n",
       "      <td>0</td>\n",
       "      <td>0</td>\n",
       "      <td>0</td>\n",
       "      <td>0</td>\n",
       "      <td>0</td>\n",
       "      <td>0</td>\n",
       "    </tr>\n",
       "    <tr>\n",
       "      <th>2364</th>\n",
       "      <td>0</td>\n",
       "      <td>2</td>\n",
       "      <td>0</td>\n",
       "      <td>0</td>\n",
       "      <td>0</td>\n",
       "      <td>1</td>\n",
       "      <td>0</td>\n",
       "      <td>0</td>\n",
       "      <td>0</td>\n",
       "      <td>0</td>\n",
       "      <td>...</td>\n",
       "      <td>0</td>\n",
       "      <td>0</td>\n",
       "      <td>0</td>\n",
       "      <td>0</td>\n",
       "      <td>0</td>\n",
       "      <td>0</td>\n",
       "      <td>0</td>\n",
       "      <td>0</td>\n",
       "      <td>0</td>\n",
       "      <td>0</td>\n",
       "    </tr>\n",
       "    <tr>\n",
       "      <th>2365</th>\n",
       "      <td>0</td>\n",
       "      <td>1</td>\n",
       "      <td>0</td>\n",
       "      <td>1</td>\n",
       "      <td>0</td>\n",
       "      <td>0</td>\n",
       "      <td>0</td>\n",
       "      <td>0</td>\n",
       "      <td>0</td>\n",
       "      <td>0</td>\n",
       "      <td>...</td>\n",
       "      <td>0</td>\n",
       "      <td>0</td>\n",
       "      <td>0</td>\n",
       "      <td>0</td>\n",
       "      <td>0</td>\n",
       "      <td>0</td>\n",
       "      <td>0</td>\n",
       "      <td>0</td>\n",
       "      <td>0</td>\n",
       "      <td>0</td>\n",
       "    </tr>\n",
       "    <tr>\n",
       "      <th>2366</th>\n",
       "      <td>0</td>\n",
       "      <td>1</td>\n",
       "      <td>1</td>\n",
       "      <td>1</td>\n",
       "      <td>0</td>\n",
       "      <td>0</td>\n",
       "      <td>1</td>\n",
       "      <td>0</td>\n",
       "      <td>0</td>\n",
       "      <td>0</td>\n",
       "      <td>...</td>\n",
       "      <td>0</td>\n",
       "      <td>0</td>\n",
       "      <td>0</td>\n",
       "      <td>0</td>\n",
       "      <td>0</td>\n",
       "      <td>0</td>\n",
       "      <td>0</td>\n",
       "      <td>0</td>\n",
       "      <td>0</td>\n",
       "      <td>0</td>\n",
       "    </tr>\n",
       "    <tr>\n",
       "      <th>2367</th>\n",
       "      <td>0</td>\n",
       "      <td>1</td>\n",
       "      <td>0</td>\n",
       "      <td>0</td>\n",
       "      <td>0</td>\n",
       "      <td>1</td>\n",
       "      <td>0</td>\n",
       "      <td>0</td>\n",
       "      <td>0</td>\n",
       "      <td>0</td>\n",
       "      <td>...</td>\n",
       "      <td>0</td>\n",
       "      <td>0</td>\n",
       "      <td>0</td>\n",
       "      <td>0</td>\n",
       "      <td>0</td>\n",
       "      <td>0</td>\n",
       "      <td>0</td>\n",
       "      <td>0</td>\n",
       "      <td>0</td>\n",
       "      <td>0</td>\n",
       "    </tr>\n",
       "  </tbody>\n",
       "</table>\n",
       "<p>2368 rows × 2412 columns</p>\n",
       "</div>"
      ],
      "text/plain": [
       "      want  adidas  running  shoes  next  time  step  route  classic  lines  \\\n",
       "0        1       1        1      1     1     1     1      1        1      1   \n",
       "1        0       1        0      1     0     0     0      0        0      0   \n",
       "2        0       1        1      1     0     0     0      0        0      0   \n",
       "3        0       1        0      0     0     0     0      0        0      0   \n",
       "4        0       1        0      1     0     0     0      0        0      0   \n",
       "...    ...     ...      ...    ...   ...   ...   ...    ...      ...    ...   \n",
       "2363     0       1        0      1     0     0     0      0        0      0   \n",
       "2364     0       2        0      0     0     1     0      0        0      0   \n",
       "2365     0       1        0      1     0     0     0      0        0      0   \n",
       "2366     0       1        1      1     0     0     1      0        0      0   \n",
       "2367     0       1        0      0     0     1     0      0        0      0   \n",
       "\n",
       "      ...  lightningquick  sprintskin  relieving  orketro  empty  hellcat  \\\n",
       "0     ...               0           0          0        0      0        0   \n",
       "1     ...               0           0          0        0      0        0   \n",
       "2     ...               0           0          0        0      0        0   \n",
       "3     ...               0           0          0        0      0        0   \n",
       "4     ...               0           0          0        0      0        0   \n",
       "...   ...             ...         ...        ...      ...    ...      ...   \n",
       "2363  ...               0           0          0        0      0        0   \n",
       "2364  ...               0           0          0        0      0        0   \n",
       "2365  ...               0           0          0        0      0        0   \n",
       "2366  ...               0           0          0        0      0        0   \n",
       "2367  ...               0           0          0        0      0        0   \n",
       "\n",
       "      extension  innings  cleated  agile  \n",
       "0             0        0        0      0  \n",
       "1             0        0        0      0  \n",
       "2             0        0        0      0  \n",
       "3             0        0        0      0  \n",
       "4             0        0        0      0  \n",
       "...         ...      ...      ...    ...  \n",
       "2363          0        0        0      0  \n",
       "2364          0        0        0      0  \n",
       "2365          0        0        0      0  \n",
       "2366          0        0        0      0  \n",
       "2367          0        0        0      0  \n",
       "\n",
       "[2368 rows x 2412 columns]"
      ]
     },
     "execution_count": 127,
     "metadata": {},
     "output_type": "execute_result"
    }
   ],
   "source": [
    "df_desc['description'] = df_desc['description'].apply(lambda x: [w for w in x if w in vocab])\n",
    "counts = df_desc['description'].apply(Counter).to_list()\n",
    "bow_df = pd.DataFrame(counts).fillna(0).astype(int)\n",
    "bow_df"
   ]
  },
  {
   "cell_type": "code",
   "execution_count": 175,
   "id": "83ef91d9",
   "metadata": {},
   "outputs": [],
   "source": [
    "df_desc.reset_index(drop=True, inplace=True)\n",
    "df_processed = pd.concat([bow_df, df_desc['price']], axis=1)\n",
    "df_processed['price'] = pd.cut(df_processed['price'], bins=5)\n",
    "df_processed['price'] = df_processed['price'].astype('string')"
   ]
  },
  {
   "cell_type": "markdown",
   "id": "9b7e935a",
   "metadata": {},
   "source": [
    "# Naive Bayes"
   ]
  },
  {
   "cell_type": "code",
   "execution_count": 176,
   "id": "0fa5351a",
   "metadata": {},
   "outputs": [],
   "source": [
    "X_train, X_test, y_train, y_test = train_test_split(df_processed.drop('price', axis=1),\n",
    "                                                    df_processed['price'], test_size=0.2, random_state=109)"
   ]
  },
  {
   "cell_type": "code",
   "execution_count": 179,
   "id": "7594d882",
   "metadata": {},
   "outputs": [
    {
     "data": {
      "text/plain": [
       "0.9556962025316456"
      ]
     },
     "execution_count": 179,
     "metadata": {},
     "output_type": "execute_result"
    }
   ],
   "source": [
    "mnb = MultinomialNB().fit(X_train, y_train)\n",
    "mnb.score(X_test, y_test)"
   ]
  },
  {
   "cell_type": "markdown",
   "id": "ed424cb3",
   "metadata": {},
   "source": [
    "# Linear Support Vector Machine"
   ]
  },
  {
   "cell_type": "code",
   "execution_count": 180,
   "id": "72e5de05",
   "metadata": {},
   "outputs": [],
   "source": [
    "from sklearn.linear_model import SGDClassifier"
   ]
  },
  {
   "cell_type": "code",
   "execution_count": 181,
   "id": "4225b76d",
   "metadata": {},
   "outputs": [],
   "source": [
    "sgd = SGDClassifier(loss='hinge', penalty='l2',alpha=1e-3, random_state=42, max_iter=5, tol=None)"
   ]
  },
  {
   "cell_type": "code",
   "execution_count": 182,
   "id": "9fa09fe0",
   "metadata": {},
   "outputs": [
    {
     "data": {
      "text/plain": [
       "0.9873417721518988"
      ]
     },
     "execution_count": 182,
     "metadata": {},
     "output_type": "execute_result"
    }
   ],
   "source": [
    "sgd.fit(X_train, y_train)\n",
    "y_pred = sgd.predict(X_test)\n",
    "accuracy = accuracy_score(y_pred, y_test)\n",
    "accuracy"
   ]
  },
  {
   "cell_type": "markdown",
   "id": "31c97c02",
   "metadata": {},
   "source": [
    "# Logistic Regression"
   ]
  },
  {
   "cell_type": "code",
   "execution_count": 183,
   "id": "4d75a2f8",
   "metadata": {},
   "outputs": [],
   "source": [
    "from sklearn.linear_model import LogisticRegression"
   ]
  },
  {
   "cell_type": "code",
   "execution_count": 185,
   "id": "4ad5692b",
   "metadata": {},
   "outputs": [
    {
     "name": "stderr",
     "output_type": "stream",
     "text": [
      "/Users/mina/opt/anaconda3/lib/python3.8/site-packages/sklearn/linear_model/_logistic.py:762: ConvergenceWarning: lbfgs failed to converge (status=1):\n",
      "STOP: TOTAL NO. of ITERATIONS REACHED LIMIT.\n",
      "\n",
      "Increase the number of iterations (max_iter) or scale the data as shown in:\n",
      "    https://scikit-learn.org/stable/modules/preprocessing.html\n",
      "Please also refer to the documentation for alternative solver options:\n",
      "    https://scikit-learn.org/stable/modules/linear_model.html#logistic-regression\n",
      "  n_iter_i = _check_optimize_result(\n"
     ]
    },
    {
     "data": {
      "text/plain": [
       "0.9873417721518988"
      ]
     },
     "execution_count": 185,
     "metadata": {},
     "output_type": "execute_result"
    }
   ],
   "source": [
    "logreg = LogisticRegression()\n",
    "logreg.fit(X_train, y_train)\n",
    "y_pred = logreg.predict(X_test)\n",
    "accuracy_log = accuracy_score(y_pred, y_test)\n",
    "accuracy_log"
   ]
  },
  {
   "cell_type": "code",
   "execution_count": null,
   "id": "f17e8b29",
   "metadata": {},
   "outputs": [],
   "source": []
  }
 ],
 "metadata": {
  "kernelspec": {
   "display_name": "Python 3 (ipykernel)",
   "language": "python",
   "name": "python3"
  },
  "language_info": {
   "codemirror_mode": {
    "name": "ipython",
    "version": 3
   },
   "file_extension": ".py",
   "mimetype": "text/x-python",
   "name": "python",
   "nbconvert_exporter": "python",
   "pygments_lexer": "ipython3",
   "version": "3.8.5"
  }
 },
 "nbformat": 4,
 "nbformat_minor": 5
}
